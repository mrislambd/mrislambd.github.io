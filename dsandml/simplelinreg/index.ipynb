{
  "cells": [
    {
      "cell_type": "markdown",
      "metadata": {},
      "source": [
        "# Simple Linear Regression\n",
        "\n",
        "Rafiq Islam  \n",
        "2024-08-29\n",
        "\n",
        "# Simple Linear Regression"
      ],
      "id": "03dff6e2-ae9f-4269-a38b-2bdd0dd7c478"
    },
    {
      "cell_type": "raw",
      "metadata": {
        "raw_mimetype": "text/html"
      },
      "source": [
        "<p style=\"text-align: justify\">"
      ],
      "id": "1a384cd8-7c71-48ee-a2ae-a537193cecd5"
    },
    {
      "cell_type": "markdown",
      "metadata": {},
      "source": [
        "A simple linear regression in multiple predictors/input\n",
        "variables/features/independent variables/ explanatory\n",
        "variables/regressors/ covariates (many names) often takes the form"
      ],
      "id": "8d7a83f9-4c39-47ee-8de0-1f87f1de3153"
    },
    {
      "cell_type": "raw",
      "metadata": {
        "raw_mimetype": "text/html"
      },
      "source": [
        "</p>"
      ],
      "id": "542fd2a8-ad9d-456b-ae33-48e8981194be"
    },
    {
      "cell_type": "markdown",
      "metadata": {},
      "source": [
        "$$\n",
        " y=f(\\mathbf{x})+\\epsilon =\\mathbf{\\beta}\\mathbf{x}+\\epsilon\n",
        " $$"
      ],
      "id": "a22d552a-bc2e-4cb8-b391-9a42b1318d2e"
    },
    {
      "cell_type": "raw",
      "metadata": {
        "raw_mimetype": "text/html"
      },
      "source": [
        "<p style=\"text-align: justify\">"
      ],
      "id": "e6a74c8a-2436-49ae-8496-78854291b283"
    },
    {
      "cell_type": "markdown",
      "metadata": {},
      "source": [
        "where $\\mathbf{\\beta} \\in \\mathbb{R}^d$ are regression parameters or\n",
        "constant values that we aim to estimate and\n",
        "$\\epsilon \\sim \\mathcal{N}(0,1)$ is a normally distributed error term\n",
        "independent of $x$ or also called the white noise."
      ],
      "id": "a3dedfff-0f9f-46af-a23b-148915032be0"
    },
    {
      "cell_type": "raw",
      "metadata": {
        "raw_mimetype": "text/html"
      },
      "source": [
        "</p>"
      ],
      "id": "e308470e-afc2-446a-9f5f-57b2d7733961"
    },
    {
      "cell_type": "markdown",
      "metadata": {},
      "source": [
        "In this case, the model:\n",
        "\n",
        "$$\n",
        "y=f(x)+\\epsilon=\\beta_0+\\beta_1 x+\\epsilon\n",
        "$$"
      ],
      "id": "2e27d08d-708d-43d6-a3d3-bd989d4d32e4"
    },
    {
      "cell_type": "raw",
      "metadata": {
        "raw_mimetype": "text/html"
      },
      "source": [
        "<p style=\"text-align: justify\">"
      ],
      "id": "299c438a-7d4e-4afb-92b1-6ea226cd4bea"
    },
    {
      "cell_type": "markdown",
      "metadata": {},
      "source": [
        "Therefore, in our model we need to estimate the parameters\n",
        "$\\beta_0,\\beta_1$. The true relationship between the explanatory\n",
        "variables and the dependent variable is $y=f(x)$. But our model is\n",
        "$y=f(x)+\\epsilon$. Here, this $f(x)$ is the working model with the data.\n",
        "In other words, $\\hat{y}=f(x)=\\hat{\\beta}_0+\\hat{\\beta}_1 x$. Therefore,\n",
        "there should be some error in the model prediction which we are calling\n",
        "$\\epsilon=\\|y-\\hat{y}\\|$ where $y$ is the true value and $\\hat{y}$ is\n",
        "the predicted value. This error term is normally distributed with mean 0\n",
        "and variance 1. To get the best estimate of the parameters\n",
        "$\\beta_0,\\beta_1$ we can minimize the error term as much as possible.\n",
        "So, we define the residual sum of squares (RSS) as:"
      ],
      "id": "2ed7c488-10e7-4b82-a361-5d1ed640e1fe"
    },
    {
      "cell_type": "raw",
      "metadata": {
        "raw_mimetype": "text/html"
      },
      "source": [
        "</p>"
      ],
      "id": "b5ea921a-15d7-458e-b527-6c207b5d6976"
    },
    {
      "cell_type": "markdown",
      "metadata": {},
      "source": [
        "Using multivariate calculus we see\n",
        "\n",
        "Setting the partial derivatives to zero we solve for\n",
        "$\\hat{\\beta_0},\\hat{\\beta_1}$ as follows\n",
        "\n",
        "and,\n",
        "\n",
        "Therefore, we have the following\n",
        "\n",
        "Simple Linear Regression `slr` is applicable for a single feature data\n",
        "set with contineous response variable."
      ],
      "id": "cf727d69-6bba-4b20-a153-c98414a3bd84"
    },
    {
      "cell_type": "code",
      "execution_count": 1,
      "metadata": {},
      "outputs": [],
      "source": [
        "import numpy as np \n",
        "import matplotlib.pyplot as plt \n",
        "from sklearn.linear_model import LinearRegression"
      ],
      "id": "c7d9df04"
    },
    {
      "cell_type": "markdown",
      "metadata": {},
      "source": [
        "## Assumptions of Linear Regressions\n",
        "\n",
        "-   **Linearity:** The relationship between the feature set and the\n",
        "    target variable has to be linear.  \n",
        "-   **Homoscedasticity:** The variance of the residuals has to be\n",
        "    constant.  \n",
        "-   **Independence:** All the observations are independent of each\n",
        "    other.  \n",
        "-   **Normality:** The distribution of the dependent variable $y$ has to\n",
        "    be normal.\n",
        "\n",
        "## Synthetic Data\n",
        "\n",
        "To implement the algorithm, we need some synthetic data. To generate the\n",
        "synthetic data we use the linear equation $y(x)=2x+\\frac{1}{2}+\\xi$\n",
        "where $\\xi\\sim \\mathbf{N}(0,1)$"
      ],
      "id": "e23014e8-6a6b-47ea-89cf-255aa4f26e39"
    },
    {
      "cell_type": "code",
      "execution_count": 2,
      "metadata": {},
      "outputs": [],
      "source": [
        "X=np.random.random(100)\n",
        "y=2*X+0.5+np.random.randn(100)"
      ],
      "id": "b2f178d5"
    },
    {
      "cell_type": "markdown",
      "metadata": {},
      "source": [
        "Note that we used two random number generators, `np.random.random(n)`\n",
        "and `np.random.randn(n)`. The first one generates $n$ random numbers of\n",
        "values from the range (0,1) and the second one generates values from the\n",
        "standard normal distribution with mean 0 and variance or standard\n",
        "deviation 1."
      ],
      "id": "ab323b72-6afd-4e25-b506-e1155b6e42e8"
    },
    {
      "cell_type": "code",
      "execution_count": 3,
      "metadata": {},
      "outputs": [
        {
          "output_type": "display_data",
          "metadata": {},
          "data": {
            "image/png": "[encoded data removed]"
          }
        }
      ],
      "source": [
        "plt.figure(figsize=(9,6))\n",
        "plt.scatter(X,y)\n",
        "plt.xlabel('$X$')\n",
        "plt.ylabel('y')\n",
        "plt.gca().set_facecolor('#f4f4f4') \n",
        "plt.gcf().patch.set_facecolor('#f4f4f4')\n",
        "plt.show()"
      ],
      "id": "0dee4702"
    },
    {
      "cell_type": "markdown",
      "metadata": {},
      "source": [
        "## Model\n",
        "\n",
        "We want to fit a simple linear regression to the above data."
      ],
      "id": "88d1b4c6-46c2-44c1-bc43-765e1e2be18d"
    },
    {
      "cell_type": "code",
      "execution_count": 4,
      "metadata": {},
      "outputs": [],
      "source": [
        "slr=LinearRegression()"
      ],
      "id": "e1abcc8a"
    },
    {
      "cell_type": "markdown",
      "metadata": {},
      "source": [
        "Now to fit our data $X$ and $y$ we need to reshape the input variable.\n",
        "Because if we look at $X$,"
      ],
      "id": "2dfc70c6-49ce-4b79-aeb5-4f9b49832f28"
    },
    {
      "cell_type": "code",
      "execution_count": 5,
      "metadata": {},
      "outputs": [
        {
          "output_type": "display_data",
          "metadata": {},
          "data": {
            "text/plain": [
              "array([0.58165137, 0.73300215, 0.83844551, 0.36643553, 0.08588427,\n",
              "       0.71535988, 0.74779653, 0.23596953, 0.41054657, 0.87937675,\n",
              "       0.81468528, 0.27459872, 0.22106712, 0.02161322, 0.59369695,\n",
              "       0.37814846, 0.06199941, 0.56270235, 0.41168007, 0.31059778,\n",
              "       0.601365  , 0.17929473, 0.49205514, 0.14342219, 0.34998684,\n",
              "       0.34530024, 0.73152089, 0.76877846, 0.23659119, 0.55942157,\n",
              "       0.52281704, 0.30278201, 0.09864428, 0.46926468, 0.8839879 ,\n",
              "       0.20569984, 0.26032154, 0.07179576, 0.10201967, 0.08039824,\n",
              "       0.93361526, 0.47080322, 0.06727425, 0.68207873, 0.11097354,\n",
              "       0.52475223, 0.67212254, 0.19354418, 0.84729644, 0.32002316,\n",
              "       0.52119955, 0.9700175 , 0.79782271, 0.38769293, 0.82649356,\n",
              "       0.64772788, 0.93002374, 0.23133405, 0.78088103, 0.68061644,\n",
              "       0.27353832, 0.78877215, 0.85026723, 0.57447774, 0.92061849,\n",
              "       0.94424568, 0.05255518, 0.37660028, 0.70137362, 0.78882206,\n",
              "       0.92529713, 0.69872645, 0.79706572, 0.40017533, 0.74004904,\n",
              "       0.09646095, 0.85417346, 0.84983049, 0.33173974, 0.14836752,\n",
              "       0.38757023, 0.82825575, 0.45962927, 0.69875363, 0.45558986,\n",
              "       0.70403749, 0.99974411, 0.14765537, 0.30575553, 0.17166652,\n",
              "       0.55037675, 0.18926306, 0.16461038, 0.40911475, 0.22866316,\n",
              "       0.04040472, 0.71488946, 0.68385476, 0.28564093, 0.33182089])"
            ]
          }
        }
      ],
      "source": [
        "X"
      ],
      "id": "cfdac664"
    },
    {
      "cell_type": "markdown",
      "metadata": {},
      "source": [
        "It is a one-dimensional array/vector but the `slr` object accepts input\n",
        "variable as matrix or two-dimensional format."
      ],
      "id": "b83ffd3d-1f20-4d0d-ae04-ce104ad06844"
    },
    {
      "cell_type": "code",
      "execution_count": 6,
      "metadata": {},
      "outputs": [
        {
          "output_type": "display_data",
          "metadata": {},
          "data": {
            "text/plain": [
              "array([[0.58165137],\n",
              "       [0.73300215],\n",
              "       [0.83844551],\n",
              "       [0.36643553],\n",
              "       [0.08588427],\n",
              "       [0.71535988],\n",
              "       [0.74779653],\n",
              "       [0.23596953],\n",
              "       [0.41054657],\n",
              "       [0.87937675]])"
            ]
          }
        }
      ],
      "source": [
        "X=X.reshape(-1,1)\n",
        "X[:10]"
      ],
      "id": "ef56422c"
    },
    {
      "cell_type": "markdown",
      "metadata": {},
      "source": [
        "Now we fit the data to our model"
      ],
      "id": "18f65035-5fc6-4629-a1a4-0efb7d3eb318"
    },
    {
      "cell_type": "code",
      "execution_count": 7,
      "metadata": {},
      "outputs": [
        {
          "output_type": "display_data",
          "metadata": {},
          "data": {
            "text/plain": [
              "array([4.46774606, 6.45264533])"
            ]
          }
        }
      ],
      "source": [
        "slr.fit(X,y)\n",
        "slr.predict([[2],[3]])"
      ],
      "id": "e3a65fca"
    },
    {
      "cell_type": "markdown",
      "metadata": {},
      "source": [
        "We have our $X=2,3$ and the corresponding $y$ values are from the above\n",
        "cell output, which are pretty close to the model $y=2x+\\frac{1}{2}$."
      ],
      "id": "941a86be-5e99-4787-89b0-02a106f1c603"
    },
    {
      "cell_type": "code",
      "execution_count": 8,
      "metadata": {},
      "outputs": [],
      "source": [
        "intercept = round(slr.intercept_,4)\n",
        "slope = slr.coef_"
      ],
      "id": "a266f76b"
    },
    {
      "cell_type": "markdown",
      "metadata": {},
      "source": [
        "Now our model parameters are: intercept $\\beta_0=$ 0.4979 and slope\n",
        "$\\beta_1=$ array(\\[1.98489927\\])."
      ],
      "id": "e64d5c7b-1527-4c3a-805e-a45bf99ef341"
    },
    {
      "cell_type": "code",
      "execution_count": 9,
      "metadata": {},
      "outputs": [
        {
          "output_type": "display_data",
          "metadata": {},
          "data": {
            "image/png": "[encoded data removed]"
          }
        }
      ],
      "source": [
        "plt.figure(figsize=(9,6))\n",
        "plt.scatter(X,y, alpha=0.7,label=\"Sample Data\")\n",
        "plt.plot(np.linspace(0,1,100),\n",
        "    slr.predict(np.linspace(0,1,100).reshape(-1,1)),\n",
        "    'k',\n",
        "    label='Model $\\hat{f}$'\n",
        ")\n",
        "plt.plot(np.linspace(0,1,100),\n",
        "    2*np.linspace(0,1,100)+0.5,\n",
        "    'r--',\n",
        "    label='$f$'\n",
        ")\n",
        "plt.xlabel('$X$')\n",
        "plt.ylabel('y')\n",
        "plt.legend(fontsize=10)\n",
        "plt.gca().set_facecolor('#f4f4f4') \n",
        "plt.gcf().patch.set_facecolor('#f4f4f4')\n",
        "plt.show()"
      ],
      "id": "ed29c47a"
    },
    {
      "cell_type": "markdown",
      "metadata": {},
      "source": [
        "So the model fits the data almost perfectly.\n",
        "\n",
        "Up next [multiple linear\n",
        "regression](../../dsandml/multiplelinreg/index.qmd).\n",
        "\n",
        "**Share on**"
      ],
      "id": "04536876-fae3-4826-b793-eef83ecba2bc"
    },
    {
      "cell_type": "raw",
      "metadata": {
        "raw_mimetype": "text/html"
      },
      "source": [
        "<script async defer crossorigin=\"anonymous\"\n",
        " src=\"https://connect.facebook.net/en_US/sdk.js#xfbml=1&version=v20.0\"></script>"
      ],
      "id": "701caad9-5922-4281-a8de-260cea4ee683"
    },
    {
      "cell_type": "markdown",
      "metadata": {},
      "source": [
        "<a target=\"_blank\" \n",
        " href=\"https://www.facebook.com/sharer/sharer.php?u=https%3A%2F%2Fmrislambd.github.io%2Fmachinelearning%2Fsimplelinreg%2F&amp;src=sdkpreparse\" \n",
        " class=\"fb-xfbml-parse-ignore\">Share</a>\n",
        "\n",
        "<script src=\"https://platform.linkedin.com/in.js\" type=\"text/javascript\">lang: en_US</script>\n",
        "\n",
        "<script type=\"IN/Share\" data-url=\"https://mrislambd.github.io/machinelearning/simplelinreg/\"></script>\n",
        "\n",
        "<a href=\"https://twitter.com/share?ref_src=twsrc%5Etfw\" class=\"twitter-share-button\" \n",
        " data-url=\"https://mrislambd.github.io/machinelearning/simplelinreg/\" data-show-count=\"true\">Tweet</a>\n",
        "\n",
        "<script async src=\"https://platform.twitter.com/widgets.js\" charset=\"utf-8\"></script>\n",
        "\n",
        "**You may also like**"
      ],
      "id": "05a0bc8c-57d0-406b-8e96-90091f614660"
    }
  ],
  "nbformat": 4,
  "nbformat_minor": 5,
  "metadata": {
    "kernelspec": {
      "name": "python3",
      "display_name": "Python 3 (ipykernel)",
      "language": "python",
      "path": "/opt/hostedtoolcache/Python/3.10.15/x64/share/jupyter/kernels/python3"
    },
    "language_info": {
      "name": "python",
      "codemirror_mode": {
        "name": "ipython",
        "version": "3"
      },
      "file_extension": ".py",
      "mimetype": "text/x-python",
      "nbconvert_exporter": "python",
      "pygments_lexer": "ipython3",
      "version": "3.10.15"
    }
  }
}