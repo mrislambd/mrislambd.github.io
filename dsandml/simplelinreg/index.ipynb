{
  "cells": [
    {
      "cell_type": "markdown",
      "metadata": {},
      "source": [
        "# Simple Linear Regression\n",
        "\n",
        "Rafiq Islam  \n",
        "2024-08-29\n",
        "\n",
        "# Simple Linear Regression"
      ],
      "id": "9b78eb74-62f3-4350-90a8-222010c46865"
    },
    {
      "cell_type": "raw",
      "metadata": {
        "raw_mimetype": "text/html"
      },
      "source": [
        "<p style=\"text-align: justify\">"
      ],
      "id": "52f22e5e-022b-4fdd-9f1b-52f9e9e39330"
    },
    {
      "cell_type": "markdown",
      "metadata": {},
      "source": [
        "A simple linear regression in multiple predictors/input\n",
        "variables/features/independent variables/ explanatory\n",
        "variables/regressors/ covariates (many names) often takes the form"
      ],
      "id": "653cc9a6-c394-48fa-9e38-a4d4dadea741"
    },
    {
      "cell_type": "raw",
      "metadata": {
        "raw_mimetype": "text/html"
      },
      "source": [
        "</p>"
      ],
      "id": "a87a779b-6d07-4790-ad1f-a7886656c33c"
    },
    {
      "cell_type": "markdown",
      "metadata": {},
      "source": [
        "$$\n",
        " y=f(\\mathbf{x})+\\epsilon =\\mathbf{\\beta}\\mathbf{x}+\\epsilon\n",
        " $$"
      ],
      "id": "b4665c12-7c0d-4189-a6a8-e36820d37872"
    },
    {
      "cell_type": "raw",
      "metadata": {
        "raw_mimetype": "text/html"
      },
      "source": [
        "<p style=\"text-align: justify\">"
      ],
      "id": "412d27d3-92d6-4823-8da6-72e688f1357e"
    },
    {
      "cell_type": "markdown",
      "metadata": {},
      "source": [
        "where $\\mathbf{\\beta} \\in \\mathbb{R}^d$ are regression parameters or\n",
        "constant values that we aim to estimate and\n",
        "$\\epsilon \\sim \\mathcal{N}(0,1)$ is a normally distributed error term\n",
        "independent of $x$ or also called the white noise."
      ],
      "id": "add80493-7bde-4a54-80c5-aef24da8f1ac"
    },
    {
      "cell_type": "raw",
      "metadata": {
        "raw_mimetype": "text/html"
      },
      "source": [
        "</p>"
      ],
      "id": "15dcc404-fef8-439b-a797-514a602ff0cd"
    },
    {
      "cell_type": "markdown",
      "metadata": {},
      "source": [
        "In this case, the model:\n",
        "\n",
        "$$\n",
        "y=f(x)+\\epsilon=\\beta_0+\\beta_1 x+\\epsilon\n",
        "$$"
      ],
      "id": "7239b889-5275-40f1-a7e0-5fd7cd01a416"
    },
    {
      "cell_type": "raw",
      "metadata": {
        "raw_mimetype": "text/html"
      },
      "source": [
        "<p style=\"text-align: justify\">"
      ],
      "id": "9ad1598d-e78f-4dd7-beb7-f6fb492ff292"
    },
    {
      "cell_type": "markdown",
      "metadata": {},
      "source": [
        "Therefore, in our model we need to estimate the parameters\n",
        "$\\beta_0,\\beta_1$. The true relationship between the explanatory\n",
        "variables and the dependent variable is $y=f(x)$. But our model is\n",
        "$y=f(x)+\\epsilon$. Here, this $f(x)$ is the working model with the data.\n",
        "In other words, $\\hat{y}=f(x)=\\hat{\\beta}_0+\\hat{\\beta}_1 x$. Therefore,\n",
        "there should be some error in the model prediction which we are calling\n",
        "$\\epsilon=\\|y-\\hat{y}\\|$ where $y$ is the true value and $\\hat{y}$ is\n",
        "the predicted value. This error term is normally distributed with mean 0\n",
        "and variance 1. To get the best estimate of the parameters\n",
        "$\\beta_0,\\beta_1$ we can minimize the error term as much as possible.\n",
        "So, we define the residual sum of squares (RSS) as:"
      ],
      "id": "fc29b5fe-1130-443f-a0c4-1fd9db388739"
    },
    {
      "cell_type": "raw",
      "metadata": {
        "raw_mimetype": "text/html"
      },
      "source": [
        "</p>"
      ],
      "id": "4edb59ea-155b-47bc-8589-8ac98126a832"
    },
    {
      "cell_type": "markdown",
      "metadata": {},
      "source": [
        "Using multivariate calculus we see\n",
        "\n",
        "Setting the partial derivatives to zero we solve for\n",
        "$\\hat{\\beta_0},\\hat{\\beta_1}$ as follows\n",
        "\n",
        "and,\n",
        "\n",
        "Therefore, we have the following\n",
        "\n",
        "Simple Linear Regression `slr` is applicable for a single feature data\n",
        "set with contineous response variable."
      ],
      "id": "4b833d34-676e-4145-a9b4-fa5c67b5d66b"
    },
    {
      "cell_type": "code",
      "execution_count": 1,
      "metadata": {},
      "outputs": [],
      "source": [
        "import numpy as np \n",
        "import matplotlib.pyplot as plt \n",
        "from sklearn.linear_model import LinearRegression"
      ],
      "id": "04be5ddc"
    },
    {
      "cell_type": "markdown",
      "metadata": {},
      "source": [
        "## Assumptions of Linear Regressions\n",
        "\n",
        "-   **Linearity:** The relationship between the feature set and the\n",
        "    target variable has to be linear.  \n",
        "-   **Homoscedasticity:** The variance of the residuals has to be\n",
        "    constant.  \n",
        "-   **Independence:** All the observations are independent of each\n",
        "    other.  \n",
        "-   **Normality:** The distribution of the dependent variable $y$ has to\n",
        "    be normal.\n",
        "\n",
        "## Synthetic Data\n",
        "\n",
        "To implement the algorithm, we need some synthetic data. To generate the\n",
        "synthetic data we use the linear equation $y(x)=2x+\\frac{1}{2}+\\xi$\n",
        "where $\\xi\\sim \\mathbf{N}(0,1)$"
      ],
      "id": "db629865-e656-460a-81dd-6e54db9eecf8"
    },
    {
      "cell_type": "code",
      "execution_count": 2,
      "metadata": {},
      "outputs": [],
      "source": [
        "X=np.random.random(100)\n",
        "y=2*X+0.5+np.random.randn(100)"
      ],
      "id": "92b9d0a5"
    },
    {
      "cell_type": "markdown",
      "metadata": {},
      "source": [
        "Note that we used two random number generators, `np.random.random(n)`\n",
        "and `np.random.randn(n)`. The first one generates $n$ random numbers of\n",
        "values from the range (0,1) and the second one generates values from the\n",
        "standard normal distribution with mean 0 and variance or standard\n",
        "deviation 1."
      ],
      "id": "b4d15058-44b4-400b-ac29-5e6d63a3ca8d"
    },
    {
      "cell_type": "code",
      "execution_count": 3,
      "metadata": {},
      "outputs": [
        {
          "output_type": "display_data",
          "metadata": {},
          "data": {
            "image/png": "[encoded data removed]"
          }
        }
      ],
      "source": [
        "plt.figure(figsize=(9,6))\n",
        "plt.scatter(X,y)\n",
        "plt.xlabel('$X$')\n",
        "plt.ylabel('y')\n",
        "plt.gca().set_facecolor('#f4f4f4') \n",
        "plt.gcf().patch.set_facecolor('#f4f4f4')\n",
        "plt.show()"
      ],
      "id": "17fcc313"
    },
    {
      "cell_type": "markdown",
      "metadata": {},
      "source": [
        "## Model\n",
        "\n",
        "We want to fit a simple linear regression to the above data."
      ],
      "id": "585ab26b-0432-4f02-805b-699253a343a4"
    },
    {
      "cell_type": "code",
      "execution_count": 4,
      "metadata": {},
      "outputs": [],
      "source": [
        "slr=LinearRegression()"
      ],
      "id": "1dba4bb6"
    },
    {
      "cell_type": "markdown",
      "metadata": {},
      "source": [
        "Now to fit our data $X$ and $y$ we need to reshape the input variable.\n",
        "Because if we look at $X$,"
      ],
      "id": "aa0cda97-67fb-44c1-88da-4b7ec4066a93"
    },
    {
      "cell_type": "code",
      "execution_count": 5,
      "metadata": {},
      "outputs": [
        {
          "output_type": "display_data",
          "metadata": {},
          "data": {
            "text/plain": [
              "array([0.43076558, 0.4548476 , 0.49638872, 0.79872869, 0.91053026,\n",
              "       0.72163829, 0.86700916, 0.58208333, 0.01534057, 0.5078218 ,\n",
              "       0.60662878, 0.39026476, 0.81158048, 0.267743  , 0.96437996,\n",
              "       0.15033475, 0.60479905, 0.08052397, 0.63989073, 0.83046629,\n",
              "       0.50413823, 0.6461428 , 0.80387913, 0.26722423, 0.77091468,\n",
              "       0.47412158, 0.39211634, 0.18379831, 0.62935877, 0.97340035,\n",
              "       0.17485819, 0.12159013, 0.12354514, 0.50332154, 0.5424863 ,\n",
              "       0.17899689, 0.82739097, 0.2901846 , 0.58606079, 0.30116878,\n",
              "       0.15060561, 0.85768307, 0.54470695, 0.86138521, 0.11688797,\n",
              "       0.60981644, 0.53087761, 0.41701907, 0.00702705, 0.79602125,\n",
              "       0.97594924, 0.87323469, 0.26579206, 0.32470155, 0.00409448,\n",
              "       0.49414383, 0.27551425, 0.57733311, 0.70603213, 0.85175679,\n",
              "       0.45487099, 0.65781263, 0.22687265, 0.14582616, 0.56202995,\n",
              "       0.46703819, 0.19458218, 0.72758629, 0.7857481 , 0.1099678 ,\n",
              "       0.46367471, 0.64000271, 0.76610359, 0.89924502, 0.13861118,\n",
              "       0.02419363, 0.76218178, 0.27411523, 0.59214105, 0.39392009,\n",
              "       0.9623908 , 0.30694174, 0.51829   , 0.30139783, 0.12730466,\n",
              "       0.11893309, 0.67274816, 0.55696502, 0.47694921, 0.11466226,\n",
              "       0.70734499, 0.78114644, 0.87185783, 0.10898496, 0.70060002,\n",
              "       0.59965065, 0.88190749, 0.50903463, 0.27041174, 0.95771647])"
            ]
          }
        }
      ],
      "source": [
        "X"
      ],
      "id": "abb26658"
    },
    {
      "cell_type": "markdown",
      "metadata": {},
      "source": [
        "It is a one-dimensional array/vector but the `slr` object accepts input\n",
        "variable as matrix or two-dimensional format."
      ],
      "id": "98fb7120-5049-4eb0-a4a9-0e4254fe762d"
    },
    {
      "cell_type": "code",
      "execution_count": 6,
      "metadata": {},
      "outputs": [
        {
          "output_type": "display_data",
          "metadata": {},
          "data": {
            "text/plain": [
              "array([[0.43076558],\n",
              "       [0.4548476 ],\n",
              "       [0.49638872],\n",
              "       [0.79872869],\n",
              "       [0.91053026],\n",
              "       [0.72163829],\n",
              "       [0.86700916],\n",
              "       [0.58208333],\n",
              "       [0.01534057],\n",
              "       [0.5078218 ]])"
            ]
          }
        }
      ],
      "source": [
        "X=X.reshape(-1,1)\n",
        "X[:10]"
      ],
      "id": "6ad01a8e"
    },
    {
      "cell_type": "markdown",
      "metadata": {},
      "source": [
        "Now we fit the data to our model"
      ],
      "id": "05e6b011-c4a2-4dd5-ba04-952fce64a76d"
    },
    {
      "cell_type": "code",
      "execution_count": 7,
      "metadata": {},
      "outputs": [
        {
          "output_type": "display_data",
          "metadata": {},
          "data": {
            "text/plain": [
              "array([4.16700632, 5.94126893])"
            ]
          }
        }
      ],
      "source": [
        "slr.fit(X,y)\n",
        "slr.predict([[2],[3]])"
      ],
      "id": "86dceb1f"
    },
    {
      "cell_type": "markdown",
      "metadata": {},
      "source": [
        "We have our $X=2,3$ and the corresponding $y$ values are from the above\n",
        "cell output, which are pretty close to the model $y=2x+\\frac{1}{2}$."
      ],
      "id": "61764449-5d4b-4058-9cd4-f87f1649b9b0"
    },
    {
      "cell_type": "code",
      "execution_count": 8,
      "metadata": {},
      "outputs": [],
      "source": [
        "intercept = round(slr.intercept_,4)\n",
        "slope = slr.coef_"
      ],
      "id": "5a03505f"
    },
    {
      "cell_type": "markdown",
      "metadata": {},
      "source": [
        "Now our model parameters are: intercept $\\beta_0=$ 0.6185 and slope\n",
        "$\\beta_1=$ array(\\[1.77426261\\])."
      ],
      "id": "0c2c5955-64d1-48a8-b5cd-37393883c9a3"
    },
    {
      "cell_type": "code",
      "execution_count": 9,
      "metadata": {},
      "outputs": [
        {
          "output_type": "display_data",
          "metadata": {},
          "data": {
            "image/png": "[encoded data removed]"
          }
        }
      ],
      "source": [
        "plt.figure(figsize=(9,6))\n",
        "plt.scatter(X,y, alpha=0.7,label=\"Sample Data\")\n",
        "plt.plot(np.linspace(0,1,100),\n",
        "    slr.predict(np.linspace(0,1,100).reshape(-1,1)),\n",
        "    'k',\n",
        "    label='Model $\\hat{f}$'\n",
        ")\n",
        "plt.plot(np.linspace(0,1,100),\n",
        "    2*np.linspace(0,1,100)+0.5,\n",
        "    'r--',\n",
        "    label='$f$'\n",
        ")\n",
        "plt.xlabel('$X$')\n",
        "plt.ylabel('y')\n",
        "plt.legend(fontsize=10)\n",
        "plt.gca().set_facecolor('#f4f4f4') \n",
        "plt.gcf().patch.set_facecolor('#f4f4f4')\n",
        "plt.show()"
      ],
      "id": "ca76a53f"
    },
    {
      "cell_type": "markdown",
      "metadata": {},
      "source": [
        "So the model fits the data almost perfectly.\n",
        "\n",
        "Up next [multiple linear\n",
        "regression](../../dsandml/multiplelinreg/index.qmd).\n",
        "\n",
        "**Share on**\n",
        "\n",
        "<a href=\"https://www.facebook.com/sharer.php?u=https://mrislambd.github.io/dsandml/simplelinreg/\" target=\"_blank\" style=\"color:#1877F2; text-decoration: none;\">\n",
        "\n",
        "</a>\n",
        "\n",
        "<a href=\"https://www.linkedin.com/sharing/share-offsite/?url=https://mrislambd.github.io/dsandml/simplelinreg/\" target=\"_blank\" style=\"color:#0077B5; text-decoration: none;\">\n",
        "\n",
        "</a>\n",
        "\n",
        "<a href=\"https://www.twitter.com/intent/tweet?url=https://mrislambd.github.io/dsandml/simplelinreg/\" target=\"_blank\" style=\"color:#1DA1F2; text-decoration: none;\">\n",
        "\n",
        "</a>"
      ],
      "id": "b703c649-ef40-41a7-b397-b189869183df"
    },
    {
      "cell_type": "raw",
      "metadata": {
        "raw_mimetype": "text/html"
      },
      "source": [
        "<script src=\"https://giscus.app/client.js\"\n",
        "        data-repo=\"mrislambd/mrislambd.github.io\" \n",
        "        data-repo-id=\"R_kgDOMV8crA\"\n",
        "        data-category=\"Announcements\"\n",
        "        data-category-id=\"DIC_kwDOMV8crM4CjbQW\"\n",
        "        data-mapping=\"pathname\"\n",
        "        data-strict=\"0\"\n",
        "        data-reactions-enabled=\"1\"\n",
        "        data-emit-metadata=\"0\"\n",
        "        data-input-position=\"bottom\"\n",
        "        data-theme=\"light\"\n",
        "        data-lang=\"en\"\n",
        "        crossorigin=\"anonymous\"\n",
        "        async>\n",
        "</script>"
      ],
      "id": "e17224fa-6d8e-4994-acf6-3b9c5b802796"
    },
    {
      "cell_type": "markdown",
      "metadata": {},
      "source": [],
      "id": "511c526a-ddf4-4de4-9103-7f6df9704a4b"
    },
    {
      "cell_type": "raw",
      "metadata": {
        "raw_mimetype": "text/html"
      },
      "source": [
        "<script async defer crossorigin=\"anonymous\"\n",
        " src=\"https://connect.facebook.net/en_US/sdk.js#xfbml=1&version=v20.0\"></script>"
      ],
      "id": "60bb78cd-29ca-48d5-b6ab-f833d428eed3"
    },
    {
      "cell_type": "markdown",
      "metadata": {},
      "source": [
        "**You may also like**"
      ],
      "id": "a0b50058-2d2a-4420-8bfe-a21cfe698303"
    }
  ],
  "nbformat": 4,
  "nbformat_minor": 5,
  "metadata": {
    "kernelspec": {
      "name": "python3",
      "display_name": "Python 3 (ipykernel)",
      "language": "python",
      "path": "/opt/hostedtoolcache/Python/3.10.15/x64/share/jupyter/kernels/python3"
    },
    "language_info": {
      "name": "python",
      "codemirror_mode": {
        "name": "ipython",
        "version": "3"
      },
      "file_extension": ".py",
      "mimetype": "text/x-python",
      "nbconvert_exporter": "python",
      "pygments_lexer": "ipython3",
      "version": "3.10.15"
    }
  }
}