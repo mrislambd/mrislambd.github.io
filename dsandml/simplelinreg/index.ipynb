{
  "cells": [
    {
      "cell_type": "markdown",
      "metadata": {},
      "source": [
        "# Simple Linear Regression\n",
        "\n",
        "Rafiq Islam  \n",
        "2024-08-29\n",
        "\n",
        "# Simple Linear Regression"
      ],
      "id": "c5b96274-e802-492f-aef4-c27aae7013fb"
    },
    {
      "cell_type": "raw",
      "metadata": {
        "raw_mimetype": "text/html"
      },
      "source": [
        "<p style=\"text-align: justify\">"
      ],
      "id": "a1dcdb2d-d219-4648-bd7f-d604230fa7d8"
    },
    {
      "cell_type": "markdown",
      "metadata": {},
      "source": [
        "A simple linear regression in multiple predictors/input\n",
        "variables/features/independent variables/ explanatory\n",
        "variables/regressors/ covariates (many names) often takes the form"
      ],
      "id": "298a2746-e02a-4ac2-8d7e-82fceaf3c28d"
    },
    {
      "cell_type": "raw",
      "metadata": {
        "raw_mimetype": "text/html"
      },
      "source": [
        "</p>"
      ],
      "id": "f85bb673-6fb4-4dbe-8074-ac3c95580d9f"
    },
    {
      "cell_type": "markdown",
      "metadata": {},
      "source": [
        "$$\n",
        " y=f(\\mathbf{x})+\\epsilon =\\mathbf{\\beta}\\mathbf{x}+\\epsilon\n",
        " $$"
      ],
      "id": "fb732d14-3d15-4332-9719-1565f6bfd01b"
    },
    {
      "cell_type": "raw",
      "metadata": {
        "raw_mimetype": "text/html"
      },
      "source": [
        "<p style=\"text-align: justify\">"
      ],
      "id": "2c6217d8-86fb-4e05-bb4a-5ff0d234e083"
    },
    {
      "cell_type": "markdown",
      "metadata": {},
      "source": [
        "where $\\mathbf{\\beta} \\in \\mathbb{R}^d$ are regression parameters or\n",
        "constant values that we aim to estimate and\n",
        "$\\epsilon \\sim \\mathcal{N}(0,1)$ is a normally distributed error term\n",
        "independent of $x$ or also called the white noise."
      ],
      "id": "09c75112-076d-4594-a5eb-c540be069297"
    },
    {
      "cell_type": "raw",
      "metadata": {
        "raw_mimetype": "text/html"
      },
      "source": [
        "</p>"
      ],
      "id": "c7abb376-cf02-4b4d-a2d2-60337bba5f79"
    },
    {
      "cell_type": "markdown",
      "metadata": {},
      "source": [
        "In this case, the model:\n",
        "\n",
        "$$\n",
        "y=f(x)+\\epsilon=\\beta_0+\\beta_1 x+\\epsilon\n",
        "$$"
      ],
      "id": "142c74c2-ab4d-4ac9-a528-e6c049efe72b"
    },
    {
      "cell_type": "raw",
      "metadata": {
        "raw_mimetype": "text/html"
      },
      "source": [
        "<p style=\"text-align: justify\">"
      ],
      "id": "e13c2e28-24ca-48fe-b2e1-5777007046f5"
    },
    {
      "cell_type": "markdown",
      "metadata": {},
      "source": [
        "Therefore, in our model we need to estimate the parameters\n",
        "$\\beta_0,\\beta_1$. The true relationship between the explanatory\n",
        "variables and the dependent variable is $y=f(x)$. But our model is\n",
        "$y=f(x)+\\epsilon$. Here, this $f(x)$ is the working model with the data.\n",
        "In other words, $\\hat{y}=f(x)=\\hat{\\beta}_0+\\hat{\\beta}_1 x$. Therefore,\n",
        "there should be some error in the model prediction which we are calling\n",
        "$\\epsilon=\\|y-\\hat{y}\\|$ where $y$ is the true value and $\\hat{y}$ is\n",
        "the predicted value. This error term is normally distributed with mean 0\n",
        "and variance 1. To get the best estimate of the parameters\n",
        "$\\beta_0,\\beta_1$ we can minimize the error term as much as possible.\n",
        "So, we define the residual sum of squares (RSS) as:"
      ],
      "id": "78a845de-b877-4c97-b867-6233d0886881"
    },
    {
      "cell_type": "raw",
      "metadata": {
        "raw_mimetype": "text/html"
      },
      "source": [
        "</p>"
      ],
      "id": "6566177c-4618-4e26-8b2b-5ba1a0b4f28d"
    },
    {
      "cell_type": "markdown",
      "metadata": {},
      "source": [
        "Using multivariate calculus we see\n",
        "\n",
        "Setting the partial derivatives to zero we solve for\n",
        "$\\hat{\\beta_0},\\hat{\\beta_1}$ as follows\n",
        "\n",
        "and,\n",
        "\n",
        "Therefore, we have the following\n",
        "\n",
        "Simple Linear Regression `slr` is applicable for a single feature data\n",
        "set with contineous response variable."
      ],
      "id": "b7d8fcc7-65ed-4e13-8bd7-eeb9ec51a736"
    },
    {
      "cell_type": "code",
      "execution_count": 1,
      "metadata": {},
      "outputs": [],
      "source": [
        "import numpy as np \n",
        "import matplotlib.pyplot as plt \n",
        "from sklearn.linear_model import LinearRegression"
      ],
      "id": "06152635"
    },
    {
      "cell_type": "markdown",
      "metadata": {},
      "source": [
        "## Assumptions of Linear Regressions\n",
        "\n",
        "-   **Linearity:** The relationship between the feature set and the\n",
        "    target variable has to be linear.  \n",
        "-   **Homoscedasticity:** The variance of the residuals has to be\n",
        "    constant.  \n",
        "-   **Independence:** All the observations are independent of each\n",
        "    other.  \n",
        "-   **Normality:** The distribution of the dependent variable $y$ has to\n",
        "    be normal.\n",
        "\n",
        "## Synthetic Data\n",
        "\n",
        "To implement the algorithm, we need some synthetic data. To generate the\n",
        "synthetic data we use the linear equation $y(x)=2x+\\frac{1}{2}+\\xi$\n",
        "where $\\xi\\sim \\mathbf{N}(0,1)$"
      ],
      "id": "6af69aa2-778d-4995-af88-99531ef6945f"
    },
    {
      "cell_type": "code",
      "execution_count": 2,
      "metadata": {},
      "outputs": [],
      "source": [
        "X=np.random.random(100)\n",
        "y=2*X+0.5+np.random.randn(100)"
      ],
      "id": "a7095bb7"
    },
    {
      "cell_type": "markdown",
      "metadata": {},
      "source": [
        "Note that we used two random number generators, `np.random.random(n)`\n",
        "and `np.random.randn(n)`. The first one generates $n$ random numbers of\n",
        "values from the range (0,1) and the second one generates values from the\n",
        "standard normal distribution with mean 0 and variance or standard\n",
        "deviation 1."
      ],
      "id": "0f03058f-824e-45c1-a667-cb2c399c865d"
    },
    {
      "cell_type": "code",
      "execution_count": 3,
      "metadata": {},
      "outputs": [
        {
          "output_type": "display_data",
          "metadata": {},
          "data": {
            "image/png": "[encoded data removed]"
          }
        }
      ],
      "source": [
        "plt.figure(figsize=(9,6))\n",
        "plt.scatter(X,y)\n",
        "plt.xlabel('$X$')\n",
        "plt.ylabel('y')\n",
        "plt.gca().set_facecolor('#f4f4f4') \n",
        "plt.gcf().patch.set_facecolor('#f4f4f4')\n",
        "plt.show()"
      ],
      "id": "dd686b29"
    },
    {
      "cell_type": "markdown",
      "metadata": {},
      "source": [
        "## Model\n",
        "\n",
        "We want to fit a simple linear regression to the above data."
      ],
      "id": "1edfff55-4354-407a-988f-4821fdb9fb9b"
    },
    {
      "cell_type": "code",
      "execution_count": 4,
      "metadata": {},
      "outputs": [],
      "source": [
        "slr=LinearRegression()"
      ],
      "id": "3fb38bfb"
    },
    {
      "cell_type": "markdown",
      "metadata": {},
      "source": [
        "Now to fit our data $X$ and $y$ we need to reshape the input variable.\n",
        "Because if we look at $X$,"
      ],
      "id": "dd64b977-8006-4041-b2e8-5263baf0aba2"
    },
    {
      "cell_type": "code",
      "execution_count": 5,
      "metadata": {},
      "outputs": [
        {
          "output_type": "display_data",
          "metadata": {},
          "data": {
            "text/plain": [
              "array([0.79954343, 0.39325443, 0.72925323, 0.90417449, 0.94170043,\n",
              "       0.1112896 , 0.3378826 , 0.51790526, 0.76250173, 0.29548709,\n",
              "       0.09287399, 0.3052173 , 0.80353969, 0.92043084, 0.1878706 ,\n",
              "       0.08293873, 0.50751395, 0.84755157, 0.86870164, 0.11153688,\n",
              "       0.3887108 , 0.25848153, 0.51310022, 0.65526189, 0.64473915,\n",
              "       0.04048696, 0.43481997, 0.33397015, 0.75244649, 0.19077797,\n",
              "       0.64295562, 0.12444473, 0.21320244, 0.88684133, 0.69315623,\n",
              "       0.14711898, 0.26676997, 0.25811595, 0.66782303, 0.15730192,\n",
              "       0.44343786, 0.75097426, 0.85657112, 0.83799536, 0.05365337,\n",
              "       0.47279656, 0.03033696, 0.59298746, 0.97744063, 0.70791969,\n",
              "       0.39167889, 0.58792476, 0.46200721, 0.97610198, 0.97366954,\n",
              "       0.46332199, 0.32603752, 0.39743262, 0.78202535, 0.29295373,\n",
              "       0.22030621, 0.03617038, 0.37431279, 0.69236868, 0.02146821,\n",
              "       0.63771012, 0.80094835, 0.51090849, 0.75274333, 0.57920684,\n",
              "       0.67214469, 0.57363022, 0.75933544, 0.51676156, 0.08628376,\n",
              "       0.87173745, 0.50139589, 0.57211725, 0.97670928, 0.40500902,\n",
              "       0.58551582, 0.69808859, 0.22583026, 0.88418019, 0.34549267,\n",
              "       0.46304236, 0.43161921, 0.04440731, 0.97767523, 0.40414374,\n",
              "       0.88577834, 0.81497129, 0.48757732, 0.3087714 , 0.41012057,\n",
              "       0.34880155, 0.94920094, 0.54811892, 0.12132508, 0.04480473])"
            ]
          }
        }
      ],
      "source": [
        "X"
      ],
      "id": "b3c2b026"
    },
    {
      "cell_type": "markdown",
      "metadata": {},
      "source": [
        "It is a one-dimensional array/vector but the `slr` object accepts input\n",
        "variable as matrix or two-dimensional format."
      ],
      "id": "6cfd5722-fcc3-4d22-abca-f695695f8237"
    },
    {
      "cell_type": "code",
      "execution_count": 6,
      "metadata": {},
      "outputs": [
        {
          "output_type": "display_data",
          "metadata": {},
          "data": {
            "text/plain": [
              "array([[0.79954343],\n",
              "       [0.39325443],\n",
              "       [0.72925323],\n",
              "       [0.90417449],\n",
              "       [0.94170043],\n",
              "       [0.1112896 ],\n",
              "       [0.3378826 ],\n",
              "       [0.51790526],\n",
              "       [0.76250173],\n",
              "       [0.29548709]])"
            ]
          }
        }
      ],
      "source": [
        "X=X.reshape(-1,1)\n",
        "X[:10]"
      ],
      "id": "c5eb2781"
    },
    {
      "cell_type": "markdown",
      "metadata": {},
      "source": [
        "Now we fit the data to our model"
      ],
      "id": "2fd124e1-9580-401a-b752-a95e0327d0c8"
    },
    {
      "cell_type": "code",
      "execution_count": 7,
      "metadata": {},
      "outputs": [
        {
          "output_type": "display_data",
          "metadata": {},
          "data": {
            "text/plain": [
              "array([4.88708937, 7.13526555])"
            ]
          }
        }
      ],
      "source": [
        "slr.fit(X,y)\n",
        "slr.predict([[2],[3]])"
      ],
      "id": "8c2a3829"
    },
    {
      "cell_type": "markdown",
      "metadata": {},
      "source": [
        "We have our $X=2,3$ and the corresponding $y$ values are from the above\n",
        "cell output, which are pretty close to the model $y=2x+\\frac{1}{2}$."
      ],
      "id": "fe7693c0-2dbc-4560-97dc-cbe23c9c2ea3"
    },
    {
      "cell_type": "code",
      "execution_count": 8,
      "metadata": {},
      "outputs": [],
      "source": [
        "intercept = round(slr.intercept_,4)\n",
        "slope = slr.coef_"
      ],
      "id": "8c026986"
    },
    {
      "cell_type": "markdown",
      "metadata": {},
      "source": [
        "Now our model parameters are: intercept $\\beta_0=$ 0.3907 and slope\n",
        "$\\beta_1=$ array(\\[2.24817618\\])."
      ],
      "id": "caacc26b-fcb9-430b-914d-b06c86e31fc2"
    },
    {
      "cell_type": "code",
      "execution_count": 9,
      "metadata": {},
      "outputs": [
        {
          "output_type": "display_data",
          "metadata": {},
          "data": {
            "image/png": "[encoded data removed]"
          }
        }
      ],
      "source": [
        "plt.figure(figsize=(9,6))\n",
        "plt.scatter(X,y, alpha=0.7,label=\"Sample Data\")\n",
        "plt.plot(np.linspace(0,1,100),\n",
        "    slr.predict(np.linspace(0,1,100).reshape(-1,1)),\n",
        "    'k',\n",
        "    label='Model $\\hat{f}$'\n",
        ")\n",
        "plt.plot(np.linspace(0,1,100),\n",
        "    2*np.linspace(0,1,100)+0.5,\n",
        "    'r--',\n",
        "    label='$f$'\n",
        ")\n",
        "plt.xlabel('$X$')\n",
        "plt.ylabel('y')\n",
        "plt.legend(fontsize=10)\n",
        "plt.gca().set_facecolor('#f4f4f4') \n",
        "plt.gcf().patch.set_facecolor('#f4f4f4')\n",
        "plt.show()"
      ],
      "id": "bb720375"
    },
    {
      "cell_type": "markdown",
      "metadata": {},
      "source": [
        "So the model fits the data almost perfectly.\n",
        "\n",
        "Up next [multiple linear\n",
        "regression](../../dsandml/multiplelinreg/index.qmd).\n",
        "\n",
        "**Share on**\n",
        "\n",
        "<a href=\"https://www.facebook.com/sharer.php?u=https://mrislambd.github.io/dsandml/simplelinreg/\" target=\"_blank\" style=\"color:#1877F2; text-decoration: none;\">\n",
        "\n",
        "</a>\n",
        "\n",
        "<a href=\"https://www.linkedin.com/sharing/share-offsite/?url=https://mrislambd.github.io/dsandml/simplelinreg/\" target=\"_blank\" style=\"color:#0077B5; text-decoration: none;\">\n",
        "\n",
        "</a>\n",
        "\n",
        "<a href=\"https://www.twitter.com/intent/tweet?url=https://mrislambd.github.io/dsandml/simplelinreg/\" target=\"_blank\" style=\"color:#1DA1F2; text-decoration: none;\">\n",
        "\n",
        "</a>"
      ],
      "id": "8bbce811-22c1-4825-92d7-83bac51e312b"
    },
    {
      "cell_type": "raw",
      "metadata": {
        "raw_mimetype": "text/html"
      },
      "source": [
        "<script src=\"https://giscus.app/client.js\"\n",
        "        data-repo=\"mrislambd/mrislambd.github.io\" \n",
        "        data-repo-id=\"R_kgDOMV8crA\"\n",
        "        data-category=\"Announcements\"\n",
        "        data-category-id=\"DIC_kwDOMV8crM4CjbQW\"\n",
        "        data-mapping=\"pathname\"\n",
        "        data-strict=\"0\"\n",
        "        data-reactions-enabled=\"1\"\n",
        "        data-emit-metadata=\"0\"\n",
        "        data-input-position=\"bottom\"\n",
        "        data-theme=\"light\"\n",
        "        data-lang=\"en\"\n",
        "        crossorigin=\"anonymous\"\n",
        "        async>\n",
        "</script>"
      ],
      "id": "a464ccb8-fb42-4919-85bb-54d41c544b65"
    },
    {
      "cell_type": "markdown",
      "metadata": {},
      "source": [],
      "id": "0a167a15-1a4d-43c9-a8b9-2741164f5630"
    },
    {
      "cell_type": "raw",
      "metadata": {
        "raw_mimetype": "text/html"
      },
      "source": [
        "<script async defer crossorigin=\"anonymous\"\n",
        " src=\"https://connect.facebook.net/en_US/sdk.js#xfbml=1&version=v20.0\"></script>"
      ],
      "id": "15af06f7-c7d0-43e3-928d-ea188e8b15d7"
    },
    {
      "cell_type": "markdown",
      "metadata": {},
      "source": [
        "**You may also like**"
      ],
      "id": "f2570af0-fc60-4cd1-912d-075d87a406d7"
    }
  ],
  "nbformat": 4,
  "nbformat_minor": 5,
  "metadata": {
    "kernelspec": {
      "name": "python3",
      "display_name": "Python 3 (ipykernel)",
      "language": "python",
      "path": "/opt/hostedtoolcache/Python/3.10.15/x64/share/jupyter/kernels/python3"
    },
    "language_info": {
      "name": "python",
      "codemirror_mode": {
        "name": "ipython",
        "version": "3"
      },
      "file_extension": ".py",
      "mimetype": "text/x-python",
      "nbconvert_exporter": "python",
      "pygments_lexer": "ipython3",
      "version": "3.10.15"
    }
  }
}