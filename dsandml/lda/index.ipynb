{
  "cells": [
    {
      "cell_type": "markdown",
      "metadata": {},
      "source": [
        "# Classification: Linear Discriminant Analysis (LDA)\n",
        "\n",
        "Rafiq Islam  \n",
        "2024-10-17\n",
        "\n",
        "## Introduction"
      ],
      "id": "bde3c392-1d5e-4bdb-9829-5fa046fb2d34"
    },
    {
      "cell_type": "raw",
      "metadata": {
        "raw_mimetype": "text/html"
      },
      "source": [
        "<p style=\"text-align: justify\">"
      ],
      "id": "6284f686-75ac-4457-8c72-48f90958a34b"
    },
    {
      "cell_type": "markdown",
      "metadata": {},
      "source": [
        "Linear Discriminant Analysis (LDA) is a supervised machine learning\n",
        "algorithm commonly used for classification tasks. It is widely applied\n",
        "when dealing with datasets where the number of predictors (features)\n",
        "exceeds the number of observations, or when multicollinearity is a\n",
        "concern. LDA works by projecting data onto a lower-dimensional space,\n",
        "maximizing the separation between classes."
      ],
      "id": "a6d12cdf-3211-4bed-acdc-58c741688b7f"
    },
    {
      "cell_type": "raw",
      "metadata": {
        "raw_mimetype": "text/html"
      },
      "source": [
        "</p>"
      ],
      "id": "2cf75f1e-5cb6-4194-bf43-7b41a4c34081"
    },
    {
      "cell_type": "markdown",
      "metadata": {},
      "source": [
        "## Mathematical Foundation of LDA"
      ],
      "id": "232f00a4-b54c-4e9a-ac7c-5f4615744002"
    },
    {
      "cell_type": "raw",
      "metadata": {
        "raw_mimetype": "text/html"
      },
      "source": [
        "<p style=\"text-align: justify\">"
      ],
      "id": "7cbbc669-26b8-4826-bc6c-f2c5b255d0c9"
    },
    {
      "cell_type": "markdown",
      "metadata": {},
      "source": [
        "Let’s assume we have a dataset $X \\in \\mathbb{R}^{n \\times p}$\n",
        "consisting of $n$ data points and $p$ features, and each data point\n",
        "belongs to one of $K$ distinct classes. The goal of LDA is to find a new\n",
        "space (called a discriminant space) in which the classes are maximally\n",
        "separated, i.e. we want to **maximize the separability between classes**\n",
        "while **minimizing the variation within each class**. This can be\n",
        "mathematically expressed as finding a projection that maximizes the\n",
        "ratio of between-class variance to within-class variance."
      ],
      "id": "2a67bf58-78c8-4733-9ba5-db0920c03fcb"
    },
    {
      "cell_type": "raw",
      "metadata": {
        "raw_mimetype": "text/html"
      },
      "source": [
        "</p>"
      ],
      "id": "3a404c03-aa3f-45f3-babf-cd7d479c70bb"
    },
    {
      "cell_type": "markdown",
      "metadata": {},
      "source": [
        "For each class $C_k$ (where $k \\in \\{1, 2, \\dots, K\\}$):\n",
        "\n",
        "-   $\\mu_k$ is the **mean vector** of class $C_k$.  \n",
        "-   $\\mu$ is the **overall mean** of the entire dataset.\n",
        "\n",
        "**Class Mean**: For each class $C_k$, the mean is calculated as:\n",
        "\n",
        "$$\n",
        "\\mu_k = \\frac{1}{N_k} \\sum_{x_i \\in C_k} x_i\n",
        "$$\n",
        "\n",
        "where $N_k$ is the number of data points in class $C_k$, and $x_i$\n",
        "represents individual data points.\n",
        "\n",
        "**Overall Mean**: The mean of the entire dataset is:\n",
        "\n",
        "$$\n",
        "\\mu = \\frac{1}{n} \\sum_{i=1}^{n} x_i\n",
        "$$\n",
        "\n",
        "To understand how well classes are separated, we need two key measures:\n",
        "\n",
        "1.  **Within-Class Scatter Matrix $S_W$**  \n",
        "    The within-class scatter matrix measures how the data points of each\n",
        "    class deviate from the class mean. It captures the **spread of data\n",
        "    points within each class**. For class $C_k$, the scatter matrix is\n",
        "    calculated as:  \n",
        "    $$\n",
        "     S_W = \\sum_{k=1}^{K} \\sum_{x_i \\in C_k} (x_i - \\mu_k)(x_i - \\mu_k)^T\n",
        "     $$\n",
        "\n",
        "    This formula is saying that for each class $C_k$, we calculate the\n",
        "    distance of every point $x_i$ from the mean of its class $\\mu_k$,\n",
        "    and then sum these squared distances across all classes.\n",
        "\n",
        "2.  **Between-Class Scatter Matrix $S_B$**  \n",
        "    The between-class scatter matrix measures how the **class means\n",
        "    deviate from the overall mean**. It captures how well-separated the\n",
        "    classes are.\n",
        "\n",
        "    $$\n",
        "     S_B = \\sum_{k=1}^{K} N_k (\\mu_k - \\mu)(\\mu_k - \\mu)^T\n",
        "     $$\n",
        "\n",
        "    In this case, for each class $C_k$, we calculate the distance\n",
        "    between the mean of class $\\mu_k$ and the overall mean $\\mu$, then\n",
        "    scale this by the number of points in class $C_k$.\n",
        "\n",
        "------------------------------------------------------------------------"
      ],
      "id": "d52ed7ed-3bd5-4f9b-9b4a-284ad17885f4"
    },
    {
      "cell_type": "raw",
      "metadata": {
        "raw_mimetype": "text/html"
      },
      "source": [
        "<p style=\"text-align: justify\">"
      ],
      "id": "168a3a76-591e-4df8-a9a2-7ec54d912974"
    },
    {
      "cell_type": "markdown",
      "metadata": {},
      "source": [
        "LDA aims to find a transformation that maximizes the separation between\n",
        "classes. This is done by finding a linear projection $\\mathbf{w}$ such\n",
        "that the **between-class scatter is maximized** and the **within-class\n",
        "scatter is minimized**. Mathematically, the optimization problem\n",
        "becomes:"
      ],
      "id": "4f62cc93-3ffd-4afb-a7f4-50840caf7a31"
    },
    {
      "cell_type": "raw",
      "metadata": {
        "raw_mimetype": "text/html"
      },
      "source": [
        "</p>"
      ],
      "id": "26d9f41e-f762-439c-94d4-e16dc71f342c"
    },
    {
      "cell_type": "markdown",
      "metadata": {},
      "source": [
        "$$\n",
        "J(\\mathbf{w}) = \\frac{\\mathbf{w}^T S_B \\mathbf{w}}{\\mathbf{w}^T S_W \\mathbf{w}}\n",
        "$$\n",
        "\n",
        "-   $S_B \\mathbf{w}$ captures the between-class variance (how\n",
        "    well-separated the classes are in the new projection).  \n",
        "-   $S_W \\mathbf{w}$ captures the within-class variance (how tightly\n",
        "    packed the points of the same class are in the new projection).\n",
        "\n",
        "This ratio $J(\\mathbf{w})$ is known as the **Fisher’s discriminant\n",
        "ratio**. The goal is to find $\\mathbf{w}$ that maximizes this ratio. To\n",
        "maximize the Fisher’s discriminant ratio, we need to solve the following\n",
        "generalized eigenvalue problem:\n",
        "\n",
        "$$\n",
        "S_W^{-1} S_B \\mathbf{w} = \\lambda \\mathbf{w}\n",
        "$$\n",
        "\n",
        "Here, $\\mathbf{w}$ is the vector that defines the linear combination of\n",
        "features that maximizes class separation, and $\\lambda$ is an eigenvalue\n",
        "that represents how much variance is explained by that direction.\n",
        "\n",
        "The solution to this equation gives us the eigenvectors (directions) and\n",
        "eigenvalues (variances) of the transformed space. We select the top\n",
        "eigenvectors corresponding to the largest eigenvalues to form the\n",
        "projection matrix $W$.\n",
        "\n",
        "------------------------------------------------------------------------\n",
        "\n",
        "## Dimensionality Reduction"
      ],
      "id": "09dc4946-f4e5-45c4-b328-10ee88680ece"
    },
    {
      "cell_type": "raw",
      "metadata": {
        "raw_mimetype": "text/html"
      },
      "source": [
        "<p style=\"text-align: justify\">"
      ],
      "id": "8d8b666d-bb84-410d-baa9-62805ceb10d9"
    },
    {
      "cell_type": "markdown",
      "metadata": {},
      "source": [
        "The LDA transformation reduces the dimensionality of the data by\n",
        "projecting it onto a subspace spanned by the eigenvectors with the\n",
        "largest eigenvalues. For a dataset with $K$ classes, LDA can reduce the\n",
        "data to at most $K-1$ dimensions because $S_B$ has rank $K-1$. <br><br>\n",
        "If we have two classes, LDA will reduce the data to a one-dimensional\n",
        "subspace. For three classes, LDA can project the data onto a\n",
        "two-dimensional subspace, and so on."
      ],
      "id": "be3a84d1-ac37-44e8-982d-40f64e1415be"
    },
    {
      "cell_type": "raw",
      "metadata": {
        "raw_mimetype": "text/html"
      },
      "source": [
        "</p>"
      ],
      "id": "b9ef91b8-d355-4ae9-b809-bf9fdc388ca1"
    },
    {
      "cell_type": "markdown",
      "metadata": {},
      "source": [
        "------------------------------------------------------------------------\n",
        "\n",
        "Now before diving into the python code, let’s do some math by hand so\n",
        "that we can understand the skeleton of the process. Let’s create a small\n",
        "dataset with 6 features and 4 observations divided into 3 classes. We\n",
        "will use this dataset to manually go through the Linear Discriminant\n",
        "Analysis (LDA) process step by step.\n",
        "\n",
        "### Dataset\n",
        "\n",
        "| Observation | Feature 1 | Feature 2 | Feature 3 | Feature 4 | Feature 5 | Feature 6 | Class |\n",
        "|-----------|---------|---------|---------|---------|---------|---------|-------|\n",
        "| $x_1$       | 2         | 3         | 4         | 5         | 6         | 7         | $C_1$ |\n",
        "| $x_2$       | 3         | 4         | 5         | 6         | 7         | 8         | $C_1$ |\n",
        "| $x_3$       | 6         | 5         | 4         | 3         | 2         | 1         | $C_2$ |\n",
        "| $x_4$       | 7         | 6         | 5         | 4         | 3         | 2         | $C_3$ |\n",
        "\n",
        "Now, we’ll walk through the mathematical steps of LDA for this small\n",
        "dataset.\n",
        "\n",
        "### 1. Compute Class Means $\\mu_k$ for each class:\n",
        "\n",
        "-   Class $C_1$ (mean of $x_1$ and $x_2$): $$\n",
        "    \\mu_1 = \\frac{1}{2} \\left( \\begin{bmatrix} 2 \\\\ 3 \\\\ 4 \\\\ 5 \\\\ 6 \\\\ 7 \\end{bmatrix} + \\begin{bmatrix} 3 \\\\ 4 \\\\ 5 \\\\ 6 \\\\ 7 \\\\ 8 \\end{bmatrix} \\right) = \\begin{bmatrix} 2.5 \\\\ 3.5 \\\\ 4.5 \\\\ 5.5 \\\\ 6.5 \\\\ 7.5 \\end{bmatrix}\n",
        "    $$\n",
        "\n",
        "-   Class $C_2$ (only one observation $x_3$): $$\n",
        "    \\mu_2 = \\begin{bmatrix} 6 \\\\ 5 \\\\ 4 \\\\ 3 \\\\ 2 \\\\ 1 \\end{bmatrix}\n",
        "     $$\n",
        "\n",
        "-   Class $C_3$ (only one observation $x_4$): $$\n",
        "    \\mu_3 = \\begin{bmatrix} 7 \\\\ 6 \\\\ 5 \\\\ 4 \\\\ 3 \\\\ 2 \\end{bmatrix}\n",
        "     $$\n",
        "\n",
        "### 2. Compute Overall Mean $\\mu$:\n",
        "\n",
        "We compute the overall mean $\\mu$, which is the average of all\n",
        "observations from all classes:\n",
        "\n",
        "$$\n",
        "\\mu = \\frac{1}{4} \\left( \\begin{bmatrix} 2 \\\\ 3 \\\\ 4 \\\\ 5 \\\\ 6 \\\\ 7 \\end{bmatrix} + \\begin{bmatrix} 3 \\\\ 4 \\\\ 5 \\\\ 6 \\\\ 7 \\\\ 8 \\end{bmatrix} + \\begin{bmatrix} 6 \\\\ 5 \\\\ 4 \\\\ 3 \\\\ 2 \\\\ 1 \\end{bmatrix} + \\begin{bmatrix} 7 \\\\ 6 \\\\ 5 \\\\ 4 \\\\ 3 \\\\ 2 \\end{bmatrix} \\right)= \\frac{1}{4} \\begin{bmatrix} 18 \\\\ 18 \\\\ 18 \\\\ 18 \\\\ 18 \\\\ 18 \\end{bmatrix} = \\begin{bmatrix} 4.5 \\\\ 4.5 \\\\ 4.5 \\\\ 4.5 \\\\ 4.5 \\\\ 4.5 \\end{bmatrix}\n",
        "$$\n",
        "\n",
        "### 3. **Compute the Within-Class Scatter Matrix $S_W$**:\n",
        "\n",
        "For each class $C_k$, the within-class scatter matrix $S_W$ is computed\n",
        "as:\n",
        "\n",
        "$$\n",
        "S_W = \\sum_{k=1}^{K} \\sum_{x_i \\in C_k} (x_i - \\mu_k)(x_i - \\mu_k)^T\n",
        "$$\n",
        "\n",
        "For $C_1$, the within-class scatter matrix is:\n",
        "\n",
        "$$\n",
        "(x_1 - \\mu_1) = \\begin{bmatrix} 2 \\\\ 3 \\\\ 4 \\\\ 5 \\\\ 6 \\\\ 7 \\end{bmatrix} - \\begin{bmatrix} 2.5 \\\\ 3.5 \\\\ 4.5 \\\\ 5.5 \\\\ 6.5 \\\\ 7.5 \\end{bmatrix} = \\begin{bmatrix} -0.5 \\\\ -0.5 \\\\ -0.5 \\\\ -0.5 \\\\ -0.5 \\\\ -0.5 \\end{bmatrix}; \\hspace{6mm} (x_2 - \\mu_1) = \\begin{bmatrix} 3 \\\\ 4 \\\\ 5 \\\\ 6 \\\\ 7 \\\\ 8 \\end{bmatrix} - \\begin{bmatrix} 2.5 \\\\ 3.5 \\\\ 4.5 \\\\ 5.5 \\\\ 6.5 \\\\ 7.5 \\end{bmatrix} = \\begin{bmatrix} 0.5 \\\\ 0.5 \\\\ 0.5 \\\\ 0.5 \\\\ 0.5 \\\\ 0.5 \\end{bmatrix}\n",
        "$$\n",
        "\n",
        "For class $C_1$, the scatter matrix is:\n",
        "\n",
        "For classes $C_2$ and $C_3$, there is only one data point in each, so\n",
        "there is no within-class scatter:\n",
        "\n",
        "$$\n",
        "S_{W2} = 0, \\quad S_{W3} = 0\n",
        "$$\n",
        "\n",
        "Thus, the total within-class scatter matrix is:\n",
        "\n",
        "$$\n",
        "S_W = S_{W1} + S_{W2} + S_{W3} = S_{W1}\n",
        "$$\n",
        "\n",
        "$$\n",
        "S_W = \\begin{bmatrix} 0.5 & 0.5 & 0.5 & 0.5 & 0.5 & 0.5 \\\\ 0.5 & 0.5 & 0.5 & 0.5 & 0.5 & 0.5 \\\\ 0.5 & 0.5 & 0.5 & 0.5 & 0.5 & 0.5 \\\\ 0.5 & 0.5 & 0.5 & 0.5 & 0.5 & 0.5 \\\\ 0.5 & 0.5 & 0.5 & 0.5 & 0.5 & 0.5 \\\\ 0.5 & 0.5 & 0.5 & 0.5 & 0.5 & 0.5 \\end{bmatrix}\n",
        "$$\n",
        "\n",
        "### 4. Compute the Between-Class Scatter Matrix $S_B$:\n",
        "\n",
        "For each class $C_k$, the between-class scatter matrix is computed as:\n",
        "\n",
        "$$\n",
        "S_B = \\sum_{k=1}^{K} N_k (\\mu_k - \\mu)(\\mu_k - \\mu)^T\n",
        "$$\n",
        "\n",
        "For class $C_1$ (where $N_1 = 2$):\n",
        "\n",
        "$$\n",
        "(\\mu_1 - \\mu) = \\begin{bmatrix} 2.5 \\\\ 3.5 \\\\ 4.5 \\\\ 5.5 \\\\ 6.5 \\\\ 7.5 \\end{bmatrix} - \\begin{bmatrix} 4.5 \\\\ 4.5 \\\\ 4.5 \\\\ 4.5 \\\\ 4.5 \\\\ 4.5 \\end{bmatrix} = \\begin{bmatrix} -2 \\\\ -1 \\\\ 0 \\\\ 1 \\\\ 2 \\\\ 3 \\end{bmatrix}\n",
        "$$\n",
        "\n",
        "Thus, for $C_1$:\n",
        "\n",
        "For $C_2$ (where $N_2 = 1$):\n",
        "\n",
        "$$\n",
        "(\\mu_2 - \\mu) = \\begin{bmatrix} 6 \\\\ 5 \\\\ 4 \\\\ 3 \\\\ 2 \\\\ 1 \\end{bmatrix} - \\begin{bmatrix} 4.5 \\\\ 4.5 \\\\ 4.5 \\\\ 4.5 \\\\ 4.5 \\\\ 4.5 \\end{bmatrix} = \\begin{bmatrix} 1.5 \\\\ 0.5 \\\\ -0.5 \\\\ -1.5 \\\\ -2.5 \\\\ -3.5 \\end{bmatrix}\n",
        "$$\n",
        "\n",
        "The between-class scatter matrix for $C_2$ is:\n",
        "\n",
        "For $C_3$ (where $N_3 = 1$):\n",
        "\n",
        "$$\n",
        "(\\mu_3 - \\mu) = \\begin{bmatrix} 7 \\\\ 6 \\\\ 5 \\\\ 4 \\\\ 3 \\\\ 2 \\end{bmatrix} - \\begin{bmatrix} 4.5 \\\\ 4.5 \\\\ 4.5 \\\\ 4.5 \\\\ 4.5 \\\\ 4.5 \\end{bmatrix} = \\begin{bmatrix} 2.5 \\\\ 1.5 \\\\ 0.5 \\\\ -0.5 \\\\ -1.5 \\\\ -2.5 \\end{bmatrix}\n",
        "$$\n",
        "\n",
        "The between-class scatter matrix for $C_3$ is:\n",
        "\n",
        "Total Between-Class Scatter Matrix $S_B$:\n",
        "\n",
        "Adding the matrices gives:\n",
        "\n",
        "$$\n",
        "S_B = \\begin{bmatrix} 16.5 & 8.5 & 0.5 & -7.5 & -15.5 & -23.5 \\\\ 8.5 & 4.5 & 0.5 & -3.5 & -7.5 & -11.5 \\\\ 0.5 & 0.5 & 0.5 & 0.5 & 0.5 & 0.5 \\\\ -7.5 & -3.5 & 0.5 & 4.5 & 8.5 & 12.5 \\\\ -15.5 & -7.5 & 0.5 & 8.5 & 16.5 & 24.5 \\\\ -23.5 & -11.5 & 0.5 & 12.5 & 24.5 & 36.5 \\end{bmatrix}\n",
        "$$\n",
        "\n",
        "### 5. Solve the Eigenvalue Problem:\n",
        "\n",
        "We now solve the eigenvalue problem:  \n",
        "$$\n",
        "S_W^{-1} S_B \\mathbf{w} = \\lambda \\mathbf{w}\n",
        "$$"
      ],
      "id": "6c1ca8c6-6717-4b1a-b247-fe452b327572"
    },
    {
      "cell_type": "raw",
      "metadata": {
        "raw_mimetype": "text/html"
      },
      "source": [
        "<p style=\"text-align:justify\">"
      ],
      "id": "49d2344b-3a51-4b3b-96b9-a763f8918617"
    },
    {
      "cell_type": "markdown",
      "metadata": {},
      "source": [
        "The solution to this eigenvalue problem gives us the eigenvalues\n",
        "$\\lambda$ (which quantify the amount of variance captured in each\n",
        "direction) and the eigenvectors $\\mathbf{w}$ (which give the directions\n",
        "of maximum class separation). The eigenvector corresponding to the\n",
        "largest eigenvalue defines the direction of the first discriminant axis,\n",
        "which is the direction that maximally separates the classes."
      ],
      "id": "91b5db60-c5a2-485c-b49f-33ebd64a8eca"
    },
    {
      "cell_type": "raw",
      "metadata": {
        "raw_mimetype": "text/html"
      },
      "source": [
        "</p>"
      ],
      "id": "81c40ce3-1957-4827-aa7d-523a41dab8d1"
    },
    {
      "cell_type": "markdown",
      "metadata": {},
      "source": [
        "The eigenvalues of the matrix are:\n",
        "\n",
        "$$\n",
        "\\lambda_1 = 6.00, \\quad \\lambda_2 = 1.78 \\times 10^{-15}, \\quad \\lambda_3 = 9.86 \\times 10^{-32}, \\quad \\lambda_4 = 0.00, \\quad \\lambda_5 = -5.47 \\times 10^{-48}, \\quad \\lambda_6 = -5.95 \\times 10^{-16}\n",
        "$$\n",
        "\n",
        "The two largest eigenvalues are:\n",
        "\n",
        "1.  $\\lambda_1 = 6.00$\n",
        "2.  $\\lambda_2 = 1.78 \\times 10^{-15}$\n",
        "\n",
        "The corresponding eigenvectors for the two largest eigenvalues are:\n",
        "\n",
        "$$\n",
        "\\mathbf{w_1} = \\begin{bmatrix} \n",
        "-0.408 \\\\\n",
        "-0.408 \\\\\n",
        "-0.408 \\\\\n",
        "-0.408 \\\\\n",
        "-0.408 \\\\\n",
        "-0.408 \\end{bmatrix}, \\quad\n",
        "\\mathbf{w_2} = \\begin{bmatrix} \n",
        "-0.848 \\\\\n",
        "-0.237 \\\\\n",
        "-0.237 \\\\\n",
        "-0.237 \\\\\n",
        "-0.237 \\\\\n",
        "-0.237 \\end{bmatrix}\n",
        "$$\n",
        "\n",
        "By projecting the data onto the eigenvector $\\mathbf{w}$, we transform\n",
        "the original dataset into a lower-dimensional space where class\n",
        "separability is maximized. For this dataset, since there are 3 classes,\n",
        "LDA will find up to $K-1 = 2$ discriminant axes. Let’s see how.\n",
        "\n",
        "The matrix formed by the two largest eigenvectors is:\n",
        "\n",
        "$$\n",
        "W=\\begin{bmatrix} \n",
        "-0.408 & -0.848 \\\\\n",
        "-0.408 & -0.237 \\\\\n",
        "-0.408 & -0.237 \\\\\n",
        "-0.408 & -0.237 \\\\\n",
        "-0.408 & -0.237 \\\\\n",
        "-0.408 & -0.237 \\end{bmatrix}\n",
        "$$"
      ],
      "id": "b68643f7-83fa-450d-a9fc-17305f73621c"
    },
    {
      "cell_type": "raw",
      "metadata": {
        "raw_mimetype": "text/html"
      },
      "source": [
        "<p style=\"text-align: justify\">"
      ],
      "id": "517fd955-5910-4b06-bca5-ca8da016b534"
    },
    {
      "cell_type": "markdown",
      "metadata": {},
      "source": [
        "This matrix represents the projection directions corresponding to the\n",
        "two largest eigenvalues in the Linear Discriminant Analysis process.\n",
        "With the eigenvectors $\\mathbf{w}_1$ and $\\mathbf{w}_2$, we can now\n",
        "project our original dataset onto the new 2D subspace. <br><br> Now, let\n",
        "$X$ represent our original dataset (where each row corresponds to an\n",
        "observation and each column to a feature). The projection of the\n",
        "original data onto the new 2D subspace is given by:"
      ],
      "id": "8b27ef60-834d-4448-9cb7-dc56d2e9e971"
    },
    {
      "cell_type": "raw",
      "metadata": {
        "raw_mimetype": "text/html"
      },
      "source": [
        "</p>"
      ],
      "id": "f555129b-f6b4-4bef-9448-20900b23bb81"
    },
    {
      "cell_type": "markdown",
      "metadata": {},
      "source": [
        "$$\n",
        "Y = X W\n",
        "$$\n",
        "\n",
        "Where:\n",
        "\n",
        "-   $X$ is the $4 \\times 6$ matrix (4 observations, 6 features),\n",
        "-   $W$ is the $6 \\times 2$ matrix of eigenvectors.\n",
        "\n",
        "After multiplying $X$ by $W$, we obtain the projected data matrix $Y$,\n",
        "which is a $4 \\times 2$ matrix (4 observations, 2 features):\n",
        "\n",
        "$$\n",
        "Y = \\begin{bmatrix}\n",
        "y_{11} & y_{12} \\\\\n",
        "y_{21} & y_{22} \\\\\n",
        "y_{31} & y_{32} \\\\\n",
        "y_{41} & y_{42}\n",
        "\\end{bmatrix}\n",
        "$$\n",
        "\n",
        "This matrix $Y$ represents the data in the new 2D space where class\n",
        "separability is maximized. So for our data\n",
        "\n",
        "### Step 6: Visualizing the Results\n",
        "\n",
        "If we were to plot the projected data in this new 2D space, we would see\n",
        "the observations from different classes are better separated, which is\n",
        "the ultimate goal of LDA. The two axes of this 2D space correspond to\n",
        "the two linear discriminants that maximize the separation between the\n",
        "classes."
      ],
      "id": "f70c88af-b981-4a4f-9595-40f90b01f5df"
    },
    {
      "cell_type": "code",
      "execution_count": 1,
      "metadata": {},
      "outputs": [
        {
          "output_type": "display_data",
          "metadata": {},
          "data": {
            "image/png": "[encoded data removed]"
          }
        }
      ],
      "source": [
        "import numpy as np\n",
        "import matplotlib.pyplot as plt\n",
        "\n",
        "X = np.array([[2, 3, 4, 5, 6, 7],\n",
        "                  [3, 4, 5, 6, 7, 8],\n",
        "                  [6, 5, 4, 3, 2, 1],\n",
        "                  [7, 6, 5, 4, 3, 2]])\n",
        "\n",
        "W = np.array([[-0.408, -0.848],\n",
        "                         [-0.408, -0.237],\n",
        "                         [-0.408, -0.237],\n",
        "                         [-0.408, -0.237],\n",
        "                         [-0.408, -0.237],\n",
        "                         [-0.408, -0.237]])\n",
        "\n",
        "Y = np.dot(X, W)\n",
        "\n",
        "# Visualize the projection\n",
        "plt.figure(figsize=(8, 6))\n",
        "for i in range(Y.shape[0]):\n",
        "    plt.scatter(Y[i, 0], Y[i, 1], label=f'Obs {i+1}', s=100)\n",
        "    plt.text(Y[i, 0] + 0.02, Y[i, 1] + 0.02, f'Obs {i+1}', fontsize=12)\n",
        "\n",
        "plt.title(\"Projected Data after LDA\")\n",
        "plt.xlabel('LD1 (First Linear Discriminant)')\n",
        "plt.ylabel('LD2 (Second Linear Discriminant)')\n",
        "plt.axhline(0, color='gray', lw=1)\n",
        "plt.axvline(0, color='gray', lw=1)\n",
        "plt.grid(True)\n",
        "plt.legend(loc='upper right')\n",
        "plt.gcf().patch.set_facecolor('#f4f4f4')\n",
        "plt.gca().set_facecolor('#f4f4f4')\n",
        "plt.show()"
      ],
      "id": "a2a5d93d"
    },
    {
      "cell_type": "markdown",
      "metadata": {},
      "source": [
        "------------------------------------------------------------------------\n",
        "\n",
        "### Summary of the Process of Eigenvalue Problem\n",
        "\n",
        "1.  **Eigenvalue Calculation**: We found the eigenvalues $\\lambda_1$ and\n",
        "    $\\lambda_2$ to be the largest, indicating the directions with the\n",
        "    most class separability. We did find only two eigenvaleus since\n",
        "    total class is 3.\n",
        "2.  **Eigenvector Calculation**: We computed the eigenvectors\n",
        "    $\\mathbf{w}_1$ and $\\mathbf{w}_2$ corresponding to these\n",
        "    eigenvalues. These eigenvectors define the directions in the\n",
        "    original feature space along which the class separation is\n",
        "    maximized.\n",
        "3.  **Projection**: We projected the original dataset onto the new 2D\n",
        "    subspace spanned by the eigenvectors. This resulted in a new dataset\n",
        "    in 2D, where the different classes are more separable.\n",
        "\n",
        "This completes the detailed walkthrough of solving the eigenvalue\n",
        "problem in LDA for our example dataset.\n",
        "\n",
        "------------------------------------------------------------------------\n",
        "\n",
        "### Final Summary\n",
        "\n",
        "-   **Within-class scatter matrix** $S_W$ quantifies the spread of data\n",
        "    points within each class, and we calculated it for each class.\n",
        "-   **Between-class scatter matrix** $S_B$ quantifies the separation\n",
        "    between the class means, and we calculated it using the mean of each\n",
        "    class and the overall mean.\n",
        "-   Solving the **eigenvalue problem**\n",
        "    $S_W^{-1} S_B \\mathbf{w} = \\lambda \\mathbf{w}$ gives us the\n",
        "    directions $\\mathbf{w}$ (eigenvectors) that maximize class\n",
        "    separation.\n",
        "\n",
        "This is how LDA works step by step, using a small dataset as an example.\n",
        "\n",
        "## Python Code Example\n",
        "\n",
        "Let’s now revisit the Python code, with an understanding of the math\n",
        "behind LDA. First build our own classifier"
      ],
      "id": "6669825e-1c0f-4252-9a74-18012a7be090"
    },
    {
      "cell_type": "code",
      "execution_count": 2,
      "metadata": {},
      "outputs": [],
      "source": [
        "class CustomLDA:\n",
        "    def __init__(self,n_components = None) -> None:\n",
        "        \"\"\"\n",
        "        Parameters:\n",
        "        n_components: int, optional (default=None)\n",
        "                      Number of components to keep. If None, all components are kept\n",
        "        \"\"\"\n",
        "        self.n_components = n_components\n",
        "        self.eigenvalues = None\n",
        "        self.eigenvectors = None \n",
        "        self.mean_vectors = None \n",
        "        self.class_means = None\n",
        "    \n",
        "    def fit(self, X, y):\n",
        "        \"\"\"\n",
        "        Parameters:\n",
        "        X: ndarray of shape (n_samples, n_features)\n",
        "        y: ndarray of shape (n_samples,)\n",
        "           Target labels (must be categorical)\n",
        "        \"\"\"\n",
        "        n_features = X.shape[1]\n",
        "        class_labels = np.unique(y)\n",
        "\n",
        "        # Step1: Compute the class means mu_k for each class \n",
        "        self.mean_vectors = []\n",
        "        for c in class_labels:\n",
        "            self.mean_vectors.append(np.mean(X[y==c], axis=0))\n",
        "        \n",
        "        # Step 2: Compute the within-class scatter matrix S_W \n",
        "        S_W = np.zeros((n_features, n_features))\n",
        "        for c in class_labels:\n",
        "            class_scatter = np.cov(X[y==c].T, bias=True) # Covariance matrix for each class\n",
        "            S_W += class_scatter * (X[y==c].shape[0])\n",
        "\n",
        "        # Step 3: Compute the between-class scatter matrix S_B\n",
        "        overall_mean = np.mean(X, axis=0)\n",
        "        S_B = np.zeros((n_features, n_features))\n",
        "\n",
        "\n",
        "        for i,mean_vector in enumerate(self.mean_vectors):\n",
        "            n = X[y == class_labels[i]].shape[0]\n",
        "            mean_differences = (mean_vector -overall_mean).reshape(n_features,1)\n",
        "            S_B += n*(mean_differences).dot(mean_differences.T)\n",
        "        \n",
        "        # Step 4: Solve the Eigenvalue problem \n",
        "        eigvalues, eigvectors = np.linalg.eig(np.linalg.pinv(S_W).dot(S_B))\n",
        "\n",
        "        # Step 5: Sort the Eigenvalues and corresponding eigenvectors \n",
        "        eigvalues_sort_idx = np.argsort(np.abs(eigvalues))[::-1]\n",
        "        self.eigenvalues = eigvalues[eigvalues_sort_idx]\n",
        "        self.eigenvectors = eigvectors[:,eigvalues_sort_idx]\n",
        "\n",
        "        # Step 6: Keep only the top n_components\n",
        "        if self.n_components:\n",
        "            self.eigenvectors = self.eigenvectors[:,:self.n_components]\n",
        "        \n",
        "        self.class_means = np.dot(self.mean_vectors, self.eigenvectors)\n",
        "    \n",
        "    def transform(self,X):\n",
        "        \"\"\"\n",
        "        Project the data onto the LDA components \n",
        "\n",
        "        Parameters:\n",
        "        X: ndarray of shape (n_samples, n_features)\n",
        "\n",
        "        Returns:\n",
        "        X_transformed: ndarray of shape (n_samples, n_features)\n",
        "        \"\"\"\n",
        "        return np.dot(X,self.eigenvectors)\n",
        "    \n",
        "    def fit_transform(self, X, y):\n",
        "        \"\"\"\n",
        "        Fit the LDA model and transform the data.\n",
        "        \n",
        "        Parameters:\n",
        "        X : ndarray of shape (n_samples, n_features)\n",
        "            Training data.\n",
        "        y : ndarray of shape (n_samples,)\n",
        "            Target labels (must be categorical).\n",
        "        \n",
        "        Returns:\n",
        "        X_transformed : ndarray of shape (n_samples, n_components)\n",
        "            Transformed data after fitting.\n",
        "        \"\"\"\n",
        "        self.fit(X, y)\n",
        "        return self.transform(X)\n",
        "    \n",
        "    def predict(self, X):\n",
        "        \"\"\"\n",
        "        Predict the class labels for new data points.\n",
        "\n",
        "        Parameters:\n",
        "        X : ndarray of shape (n_samples, n_features)\n",
        "            New data to classify.\n",
        "\n",
        "        Returns:\n",
        "        Predictions: ndarray of shape (n_samples,)\n",
        "                     Predicted class labels\n",
        "        \"\"\"\n",
        "        X_projected = self.transform(X)\n",
        "\n",
        "        predictions = []\n",
        "        for x in X_projected:\n",
        "            distances = np.linalg.norm(x-self.class_means, axis=1)\n",
        "            predictions.append(np.argmin(distances))\n",
        "        \n",
        "        return np.array(predictions)\n",
        "\n",
        "    \n",
        "    def explained_variance_ratio(self):\n",
        "        \"\"\"\n",
        "        Return the percentage of variance explained by each of the selected components\n",
        "\n",
        "        Returns:\n",
        "        explained_variance: ndarray of shape (n_components,)\n",
        "                            Percentage of variance explained by each selected components\n",
        "        \"\"\"\n",
        "        total = np.sum(self.eigenvalues)\n",
        "\n",
        "        return [(i/total) for i in self.eigenvalues[:self.n_components]]"
      ],
      "id": "df9f5ad0"
    },
    {
      "cell_type": "markdown",
      "metadata": {},
      "source": [
        "Next we apply both the custom classifier and the classifier from the\n",
        "`scikit-learn` library."
      ],
      "id": "56b986c1-d359-401d-a9d8-7d9ae16da34f"
    },
    {
      "cell_type": "code",
      "execution_count": 3,
      "metadata": {},
      "outputs": [
        {
          "output_type": "stream",
          "name": "stderr",
          "text": [
            "/opt/hostedtoolcache/Python/3.10.15/x64/lib/python3.10/site-packages/matplotlib/cbook.py:1762: ComplexWarning:\n",
            "\n",
            "Casting complex values to real discards the imaginary part\n",
            "\n",
            "/opt/hostedtoolcache/Python/3.10.15/x64/lib/python3.10/site-packages/matplotlib/collections.py:197: ComplexWarning:\n",
            "\n",
            "Casting complex values to real discards the imaginary part\n"
          ]
        },
        {
          "output_type": "display_data",
          "metadata": {},
          "data": {
            "image/png": "[encoded data removed]"
          }
        }
      ],
      "source": [
        "import pandas as pd\n",
        "from sklearn.model_selection import train_test_split\n",
        "from sklearn.preprocessing import StandardScaler\n",
        "from sklearn.discriminant_analysis import LinearDiscriminantAnalysis as LDA\n",
        "from sklearn.datasets import load_iris\n",
        "from sklearn.metrics import accuracy_score\n",
        "\n",
        "# Load the dataset\n",
        "iris = load_iris()\n",
        "X = iris.data\n",
        "y = iris.target\n",
        "\n",
        "# Standardize the dataset (optional but often improves performance)\n",
        "scaler = StandardScaler()\n",
        "X_scaled = scaler.fit_transform(X)\n",
        "\n",
        "# Split into training and test sets\n",
        "X_train, X_test, y_train, y_test = train_test_split(X_scaled, y, test_size=0.3, random_state=42)\n",
        "\n",
        "# Apply LDA from the scikit-learn library\n",
        "lda1 = LDA(n_components=2)  # Reduce to 2 dimensions\n",
        "X_train_lda1 = lda1.fit_transform(X_train, y_train)\n",
        "X_test_lda1 = lda1.transform(X_test)\n",
        "\n",
        "# Apply LDA from the custom built classifier\n",
        "lda2 = CustomLDA(n_components=2)  # Reduce to 2 dimensions\n",
        "X_train_lda2 = lda2.fit_transform(X_train, y_train)\n",
        "X_test_lda2 = lda2.transform(X_test)\n",
        "\n",
        "# Visualize the LDA-transformed data\n",
        "fig, axes = plt.subplots(1,2, figsize=(9.5,4))\n",
        "\n",
        "axes[0].scatter(X_train_lda1[:, 0], X_train_lda1[:, 1], c=y_train, cmap='rainbow', edgecolor='k', s=100)\n",
        "axes[0].set_xlabel('LD1')\n",
        "axes[0].set_ylabel('LD2')\n",
        "axes[0].set_title('Scikit-learn')\n",
        "axes[1].scatter(X_train_lda2[:, 0], X_train_lda2[:, 1], c=y_train, cmap='rainbow', edgecolor='k', s=100)\n",
        "axes[1].set_xlabel('LD1')\n",
        "axes[1].set_ylabel('LD2')\n",
        "axes[1].set_title('Custom')\n",
        "for ax in axes:\n",
        "    ax.set_facecolor('#f4f4f4')\n",
        "plt.gcf().patch.set_facecolor('#f4f4f4')\n",
        "fig.suptitle('LDA: Projection of the Iris Dataset')\n",
        "plt.show()"
      ],
      "id": "0986b4f9"
    },
    {
      "cell_type": "markdown",
      "metadata": {},
      "source": [
        "Next, apply LDA as a classifiers for the actual classification"
      ],
      "id": "d1b4d40d-ad1f-402c-8ae5-c13fd837cac0"
    },
    {
      "cell_type": "code",
      "execution_count": 4,
      "metadata": {},
      "outputs": [
        {
          "output_type": "stream",
          "name": "stdout",
          "text": [
            "sklearn LDA Classifier Accuracy: 100.00% and \n",
            "custom LDA Classifier Accuracy: 95.56%"
          ]
        }
      ],
      "source": [
        "lda_classifier1 = LDA()\n",
        "lda_classifier1.fit(X_train, y_train)\n",
        "y_pred1 = lda_classifier1.predict(X_test)\n",
        "\n",
        "lda_classifier2 = CustomLDA()\n",
        "lda_classifier2.fit(X_train, y_train)\n",
        "y_pred2 = lda_classifier2.predict(X_test)\n",
        "\n",
        "\n",
        "# Check accuracy\n",
        "accuracy1 = accuracy_score(y_test, y_pred1)\n",
        "accuracy2 = accuracy_score(y_test, y_pred2)\n",
        "print(f'sklearn LDA Classifier Accuracy: {accuracy1 * 100:.2f}% and \\ncustom LDA Classifier Accuracy: {accuracy2 * 100:.2f}%')"
      ],
      "id": "7ba1be08"
    },
    {
      "cell_type": "markdown",
      "metadata": {},
      "source": [
        "Not too bad, huh! Let’s see the confusion matrix for our custom\n",
        "classifier"
      ],
      "id": "622769df-89af-4a62-8a4f-86cd5a952dba"
    },
    {
      "cell_type": "code",
      "execution_count": 5,
      "metadata": {},
      "outputs": [
        {
          "output_type": "stream",
          "name": "stdout",
          "text": [
            "                    Pred: Setosa  Pred: Virginica  Pred: Versicolor\n",
            "Actual: Setosa                19                0                 0\n",
            "Actual: Virginica              0               11                 2\n",
            "Actual: Versicolor             0                0                13"
          ]
        }
      ],
      "source": [
        "from sklearn.metrics import confusion_matrix\n",
        "\n",
        "conf_mat = confusion_matrix(y_test, y_pred2)\n",
        "\n",
        "print(pd.DataFrame(\n",
        "    conf_mat, \n",
        "    columns=['Pred: Setosa','Pred: Virginica', 'Pred: Versicolor'],\n",
        "    index=['Actual: Setosa','Actual: Virginica', 'Actual: Versicolor']\n",
        "))"
      ],
      "id": "aa072a07"
    },
    {
      "cell_type": "markdown",
      "metadata": {},
      "source": [
        "------------------------------------------------------------------------\n",
        "\n",
        "## Conclusion"
      ],
      "id": "e48fc3a3-48f7-4184-ab06-8f3ac90ccf14"
    },
    {
      "cell_type": "raw",
      "metadata": {
        "raw_mimetype": "text/html"
      },
      "source": [
        "<p style=\"text-align: justify\">"
      ],
      "id": "55a968c3-b1d1-4ab1-82d5-26061edf2b37"
    },
    {
      "cell_type": "markdown",
      "metadata": {},
      "source": [
        "Linear Discriminant Analysis (LDA) is a powerful technique for\n",
        "dimensionality reduction and classification. Its goal is to find\n",
        "directions (linear combinations of the original features) that best\n",
        "separate the classes by maximizing between-class variance while\n",
        "minimizing within-class variance."
      ],
      "id": "68fd8b4d-adcf-44fb-b9bb-e143ee343a29"
    },
    {
      "cell_type": "raw",
      "metadata": {
        "raw_mimetype": "text/html"
      },
      "source": [
        "</p>"
      ],
      "id": "cc8d1d45-9ab9-4f08-97ad-bc4f5b07e9f7"
    },
    {
      "cell_type": "markdown",
      "metadata": {},
      "source": [
        "### Disclaimer"
      ],
      "id": "603db619-d062-40d9-bae2-d80e2a0e809b"
    },
    {
      "cell_type": "raw",
      "metadata": {
        "raw_mimetype": "text/html"
      },
      "source": [
        "<p style=\"text-align: justify\">"
      ],
      "id": "ad07b492-6910-4ebf-85b0-c3c6b211a374"
    },
    {
      "cell_type": "markdown",
      "metadata": {},
      "source": [
        "For the mathematical explanation, I used generative AI to produce the\n",
        "matrices and vectors and their manipulations. So it won’t be surprising\n",
        "if a calculation mistake is found. The custom python class was created\n",
        "by the help of ChatGPT4"
      ],
      "id": "86a3a939-c1e4-4374-96aa-4dc3b7f9f1d3"
    },
    {
      "cell_type": "raw",
      "metadata": {
        "raw_mimetype": "text/html"
      },
      "source": [
        "</p>"
      ],
      "id": "85709e1c-06ae-4543-b6d6-665285208672"
    },
    {
      "cell_type": "markdown",
      "metadata": {},
      "source": [
        "## References\n",
        "\n",
        "-   Fisher, R.A. (1936). “The Use of Multiple Measurements in Taxonomic\n",
        "    Problems.” *Annals of Eugenics*, 7(2), 179–188.  \n",
        "-   Murphy, K. P. (2012). *Machine Learning: A Probabilistic\n",
        "    Perspective*. MIT Press.  \n",
        "-   Strang, G. (2016). *Introduction to Linear Algebra* (5th ed.).\n",
        "    Wellesley-Cambridge Press.  \n",
        "-   Lay, D. C. (2011). *Linear Algebra and Its Applications* (4th ed.).\n",
        "    Pearson.\n",
        "\n",
        "**Share on**\n",
        "\n",
        "<a href=\"https://www.facebook.com/sharer.php?u=https://mrislambd.github.io/dsandml/lda/\" target=\"_blank\" style=\"color:#1877F2; text-decoration: none;\">\n",
        "\n",
        "</a>\n",
        "\n",
        "<a href=\"https://www.linkedin.com/sharing/share-offsite/?url=https://mrislambd.github.io/dsandml/lda/\" target=\"_blank\" style=\"color:#0077B5; text-decoration: none;\">\n",
        "\n",
        "</a>\n",
        "\n",
        "<a href=\"https://www.twitter.com/intent/tweet?url=https://mrislambd.github.io/dsandml/lda/\" target=\"_blank\" style=\"color:#1DA1F2; text-decoration: none;\">\n",
        "\n",
        "</a>"
      ],
      "id": "68d0ac15-d9aa-4189-b95c-80211cdb9bc5"
    },
    {
      "cell_type": "raw",
      "metadata": {
        "raw_mimetype": "text/html"
      },
      "source": [
        "<script src=\"https://giscus.app/client.js\"\n",
        "        data-repo=\"mrislambd/mrislambd.github.io\" \n",
        "        data-repo-id=\"R_kgDOMV8crA\"\n",
        "        data-category=\"Announcements\"\n",
        "        data-category-id=\"DIC_kwDOMV8crM4CjbQW\"\n",
        "        data-mapping=\"pathname\"\n",
        "        data-strict=\"0\"\n",
        "        data-reactions-enabled=\"1\"\n",
        "        data-emit-metadata=\"0\"\n",
        "        data-input-position=\"bottom\"\n",
        "        data-theme=\"light\"\n",
        "        data-lang=\"en\"\n",
        "        crossorigin=\"anonymous\"\n",
        "        async>\n",
        "</script>"
      ],
      "id": "1bcdb698-70f7-45b2-ab8b-703c41b7c099"
    },
    {
      "cell_type": "markdown",
      "metadata": {},
      "source": [],
      "id": "0152030d-d373-44af-9706-e4affb5398e6"
    },
    {
      "cell_type": "raw",
      "metadata": {
        "raw_mimetype": "text/html"
      },
      "source": [
        "<script async defer crossorigin=\"anonymous\"\n",
        " src=\"https://connect.facebook.net/en_US/sdk.js#xfbml=1&version=v20.0\"></script>"
      ],
      "id": "e8f66eb5-b59a-486a-b412-0770294f1b77"
    },
    {
      "cell_type": "markdown",
      "metadata": {},
      "source": [
        "------------------------------------------------------------------------\n",
        "\n",
        "**You may also like**"
      ],
      "id": "c5310676-8aa1-4432-bc5d-8a7c6e611ed4"
    }
  ],
  "nbformat": 4,
  "nbformat_minor": 5,
  "metadata": {
    "kernelspec": {
      "name": "python3",
      "display_name": "Python 3 (ipykernel)",
      "language": "python",
      "path": "/opt/hostedtoolcache/Python/3.10.15/x64/share/jupyter/kernels/python3"
    },
    "language_info": {
      "name": "python",
      "codemirror_mode": {
        "name": "ipython",
        "version": "3"
      },
      "file_extension": ".py",
      "mimetype": "text/x-python",
      "nbconvert_exporter": "python",
      "pygments_lexer": "ipython3",
      "version": "3.10.15"
    }
  }
}