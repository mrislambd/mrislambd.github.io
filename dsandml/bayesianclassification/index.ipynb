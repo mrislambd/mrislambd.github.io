{
  "cells": [
    {
      "cell_type": "markdown",
      "metadata": {},
      "source": [
        "# Bayesian Probabilistic Models for Classification\n",
        "\n",
        "Rafiq Islam  \n",
        "2024-10-22\n",
        "\n",
        "## Introduction\n",
        "\n",
        "Bayesian inference is a powerful statistical method that applies the\n",
        "principles of Bayes’s theorem to update the probability of a hypothesis\n",
        "as more evidence or information becomes available. It is widely used in\n",
        "various fields including machine learning, to make predictions and\n",
        "decisions under uncertainty.\n",
        "\n",
        "Bayes’s theorem is based on the definition of conditional probability.\n",
        "For two events $A$ and $B$ with $\\mathbb{P}(B) \\neq 0$, we define the\n",
        "conditional probability of occurring $A$ given that $B$ has already\n",
        "occurred.\n",
        "\n",
        "![](attachment:index_files/figure-ipynb/cell-2-output-1.png)\n",
        "\n",
        "$\\mathbb{P}(A|B)=\\frac{\\mathbb{P}(A\\cap B)}{\\mathbb{P}(B)}$\n",
        "\n",
        "Similarly, the conditional probability of occuring $B$ given that $A$\n",
        "has already occured with $\\mathbb{P}(A) \\ne 0$ is  \n",
        "$$\n",
        "\\mathbb{P}(B|A)=\\frac{\\mathbb{P}(A\\cap B)}{\\mathbb{P}(A)}\n",
        "$$\n",
        "\n",
        "From this equation, we can derive that the joint probability of\n",
        "$A\\cap B$ is $$\n",
        "\\mathbb{P}(A\\cap B) = \\mathbb{P}(B | A) \\mathbb{P} (A) = \\mathbb{P}(A | B) \\mathbb{P} (B) \n",
        "$$\n",
        "\n",
        "## Bayes’s Theorem\n",
        "\n",
        "### For Two Events or Random Variables\n",
        "\n",
        "Bayes’s theorem is based on these conditional probabilities. It states\n",
        "that the likelihood of occuring the event $A$ given that the event $B$\n",
        "has occured is given as\n",
        "\n",
        "$$\n",
        "\\mathbb{P}(A | B) = \\frac{\\mathbb{P}(B | A)\\mathbb{P}(A)}{\\mathbb{P}(B)} = \\frac{\\mathbb{P}(B | A)\\mathbb{P}(A)}{\\mathbb{P}(B\\cap A)+\\mathbb{P}(B\\cap A^c)} = \\frac{\\mathbb{P}(B | A)\\mathbb{P}(A)}{\\mathbb{P}(B | A)\\mathbb{P}(A)+\\mathbb{P}(A | B)\\mathbb{P}(B)}\n",
        "$$\n",
        "\n",
        "where, in Bayesin terminology,\n",
        "\n",
        "-   $\\mathbb{P}(A|B)$ is called *<span style=\"color: red\">posterior\n",
        "    probability</span>* of $A$ given the event $B$ or simply,\n",
        "    *<span style=\"color: red\">posterior distribution.</span>*  \n",
        "-   $\\mathbb{P}(B|A)$ is the likelihood: the probability of evidence $B$\n",
        "    given that $A$ is true.  \n",
        "-   $\\mathbb{P}(A)$ or $\\mathbb{P}(B)$ are the probabilities of occuring\n",
        "    $A$ and $B$ respectively, without any dependence on each other.  \n",
        "-   $\\mathbb{P}(A)$ is called the *prior* probability or prior\n",
        "    distribution and $\\mathbb{P}(B)$ is called the marginal likelihood\n",
        "    or marginal probabilities.\n",
        "\n",
        "For two continuous random variable $X$ and $Y$, the conditional\n",
        "probability density function of $X$ given the occurence of the value $y$\n",
        "of $Y$ can be given as\n",
        "\n",
        "$$\n",
        "f_{X|Y} (x | y) =\\frac{f_{X,Y}(x,y)}{f_Y(y)}\n",
        "$$\n",
        "\n",
        "or the otherway around,  \n",
        "$$\n",
        "f_{Y|X} (y | x) =\\frac{f_{X,Y}(x,y)}{f_X(x)}\n",
        "$$\n",
        "\n",
        "Therefore, the continuous version of Bayes’s theorem is given as follows\n",
        "\n",
        "$$\n",
        "f_{Y|X}(y) = \\frac{f_{X|Y}(x)f_Y(y)}{f_X(x)}\n",
        "$$\n",
        "\n",
        "### Generalization of Bayes’s Theorem\n",
        "\n",
        "For $n$ disjoint set of discrete events $B_1,B_2\\dots, B_n$ where\n",
        "$\\Omega = \\cup_{i}^{n}B_i$ and for any event $A\\in \\Omega$, we will\n",
        "have  \n",
        "$$\n",
        "\\mathbb{P}(A) = \\sum_{i=1}^{n}\\mathbb{P}(A\\cap B_i)\n",
        "$$\n",
        "\n",
        "and this is true by the\n",
        "<a href=\"https://en.wikipedia.org/wiki/Law_of_total_probability\"\n",
        "style=\"text-decoration:none\">law of total probability</a>.\n",
        "\n",
        "![](attachment:index_files/figure-ipynb/cell-3-output-1.png)\n",
        "\n",
        "Then the Bayes’s rule extends to the following\n",
        "\n",
        "$$\n",
        "\\mathbb{P}(B_i|A) = \\frac{\\mathbb{P}(A|B_i)\\mathbb{P}(B_i)}{\\mathbb{P}(A)}=\\frac{\\mathbb{P}(A|B_i)\\mathbb{P}(B_i)}{\\sum_{i=1}^{n}\\mathbb{P}(A|B_i)\\mathbb{P}(B_i)}\n",
        "$$\n",
        "\n",
        "The continuous version would be $$\n",
        "f_{Y=y|X=x}(y|x) = \\frac{f_{X|Y=y}(x)f_Y(y)}{\\sum_{i=1}^{n}\\int_{-\\infty}^{\\infty}f_{X|Y=y}(x|u)f_{Y}(u)du}\n",
        "$$\n",
        "\n",
        "## Probabilistic Models"
      ],
      "attachments": {
        "index_files/figure-ipynb/cell-2-output-1.png": {
          "image/png": "[encoded data removed]"
        },
        "index_files/figure-ipynb/cell-3-output-1.png": {
          "image/png": "[encoded data removed]"
        }
      },
      "id": "75b4382a-8104-4658-89de-1f55a5b7f93e"
    },
    {
      "cell_type": "raw",
      "metadata": {
        "raw_mimetype": "text/html"
      },
      "source": [
        "<p style=\"text-align: justify\">"
      ],
      "id": "c64b7ff2-deb4-41d1-ad38-05d28721635a"
    },
    {
      "cell_type": "markdown",
      "metadata": {},
      "source": [
        "Bayes’s theorem gets us the posterior probability given the data with a\n",
        "prior. Therefore, for classification tasks in machine learning, we can\n",
        "use Bayesin style models for classification by maximizing the numerator\n",
        "and minimizing the denominator in the previous equation, for any given\n",
        "class. For instance, say we have a $d-$ dimensional data collected as a\n",
        "random matrix $X$ and the response variable $y$ is a categorical one\n",
        "with $c$ categories. Then for a given data vector $X'$, the posterior\n",
        "distibution that it falls for category $j$ is given as"
      ],
      "id": "2cefb384-ed9c-4108-a78c-3863ff899e46"
    },
    {
      "cell_type": "raw",
      "metadata": {
        "raw_mimetype": "text/html"
      },
      "source": [
        "</p>"
      ],
      "id": "404b524e-83ae-41e6-93ed-a2ba3813d101"
    },
    {
      "cell_type": "markdown",
      "metadata": {},
      "source": [
        "$$\n",
        "\\mathbb{P}(y=j|X=X')=\\frac{\\pi_j f_j(X')}{\\sum_{i=1}^{c}\\pi_i f_i(X')}\n",
        "$$\n",
        "\n",
        "where,\n",
        "\n",
        "-   $f_i(X)$ is the probability density function of the features\n",
        "    conditioned on $y$ being class $i$  \n",
        "-   $\\pi_i =\\mathbb{P}(y=i)$\n",
        "\n",
        "We can estimate $\\pi_i$ as the fraction of observations which belong to\n",
        "class $i$.\n",
        "\n",
        "### Linear Discriminant Analysis (LDA)"
      ],
      "id": "be8bea5a-b5f9-411b-95a4-c4e118cd4ead"
    },
    {
      "cell_type": "raw",
      "metadata": {
        "raw_mimetype": "text/html"
      },
      "source": [
        "<p style=\"text-align: justify\">"
      ],
      "id": "c3816c93-8ad6-4303-9c88-4906356036ba"
    },
    {
      "cell_type": "markdown",
      "metadata": {},
      "source": [
        "To connect Linear Discriminant Analysis (LDA) with the Bayesian\n",
        "probabilistic classification, we start by considering the Bayes Theorem\n",
        "and the assumptions made in LDA. We adapt the Bayes theorem for\n",
        "classification as follows"
      ],
      "id": "3624a9c5-15f4-4531-94eb-645eaa04b8ce"
    },
    {
      "cell_type": "raw",
      "metadata": {
        "raw_mimetype": "text/html"
      },
      "source": [
        "</p>"
      ],
      "id": "018d9bfc-2856-4e51-9328-ee4e1fb00402"
    },
    {
      "cell_type": "markdown",
      "metadata": {},
      "source": [
        "$$\n",
        "P(C_k | \\mathbf{x}) = \\frac{P(\\mathbf{x} | C_k) P(C_k)}{P(\\mathbf{x})}\n",
        "$$\n",
        "\n",
        "Where:\n",
        "\n",
        "-   $P(C_k | \\mathbf{x})$ is the posterior probability that $\\mathbf{x}$\n",
        "    belongs to class $C_k$,\n",
        "-   $P(\\mathbf{x} | C_k)$ is the likelihood (the probability of\n",
        "    observing $\\mathbf{x}$ given class $C_k$),\n",
        "-   $P(C_k)$ is the prior probability of class $C_k$,\n",
        "-   $P(\\mathbf{x})$ is the marginal likelihood (normalizing constant).\n",
        "\n",
        "#### Gaussian Assumption in LDA\n",
        "\n",
        "LDA assumes that:\n",
        "\n",
        "-   The likelihood for each class follows a Gaussian distribution with a\n",
        "    common covariance matrix $\\Sigma$, i.e.,\n",
        "\n",
        "$$\n",
        "P(\\mathbf{x} | C_k) = \\frac{1}{(2\\pi)^{d/2} |\\Sigma|^{1/2}} \\exp\\left(-\\frac{1}{2} (\\mathbf{x} - \\boldsymbol{\\mu}_k)^T \\Sigma^{-1} (\\mathbf{x} - \\boldsymbol{\\mu}_k)\\right)\n",
        "$$\n",
        "\n",
        "where $\\boldsymbol{\\mu}_k$ is the mean of class $C_k$ and $\\Sigma$ is\n",
        "the shared covariance matrix. Now let’s talk about $\\boldsymbol{\\mu}_k$\n",
        "and $\\Sigma$.\n",
        "\n",
        "**One feature or dimension**  \n",
        "For a single feature $x$ and $N_k$ samples\n",
        "$x_{k,1},x_{k,2},\\dots, x_{k,N}$ for class $C_k$, the mean $\\mu_k$:\n",
        "\n",
        "$$\n",
        "\\mu_k = \\frac{1}{N_k}\\sum_{i=1}^{N_k} x_{k,i}\n",
        "$$\n",
        "\n",
        "and variance $\\sigma^2$ is calculated as the variance within-class\n",
        "variance $\\sigma_k^2$ for each class\n",
        "\n",
        "$$\n",
        "\\sigma_k^2 = \\frac{1}{N_k-1}\\sum_{i=1}^{N_k}(x_{k,i}-\\mu_k)^2\n",
        "$$\n",
        "\n",
        "and then the pooled variance $\\sigma^2$ is calculated by averaging these\n",
        "variances, weighted by the degrees of freedom in each class:\n",
        "\n",
        "$$\n",
        "\\sigma^2 = \\frac{1}{n-\\mathcal{C}}\\sum_{k=1}^{\\mathcal{C}}\\sum_{i=1}^{N_k}(x_{k,i}-\\mu_k)^2\n",
        "$$\n",
        "\n",
        "where, $n$ is the total number of samples accross all classes,\n",
        "$\\mathcal{C}$ is the number of classes, and $x_{k,i}$ are samples from\n",
        "each class $C_k$.\n",
        "\n",
        "**For multi-dimensional data**\n",
        "\n",
        "If we have $d$ features (e.g., if $\\mathbf{x}$ is a $d-$dimensional\n",
        "vector), we calculate the mean vector $\\boldsymbol{\\mu}_k$ for each\n",
        "feature across the $N_k$ samples in class $C_k$ as follows\n",
        "\n",
        "$$\n",
        "\\boldsymbol{\\mu}_k = \\frac{1}{N_k}\\sum_{i=1}^{N_k}\\mathbf{x}_{k,i}\n",
        "$$\n",
        "\n",
        "and the covariance matrix for each class $C_k$:\n",
        "\n",
        "$$\n",
        "\\Sigma_k = \\frac{1}{N_k}\\sum_{i=1}^{N_k} (\\mathbf{x}_{k,i}-\\boldsymbol{\\mu}_k)(\\mathbf{x}_{k,i}-\\boldsymbol{\\mu}_k)^T\n",
        "$$\n",
        "\n",
        "Therefore, the pooled variance\n",
        "\n",
        "$$\n",
        "\\Sigma = \\frac{1}{n-\\mathcal{C}}\\sum_{k=1}^{\\mathcal{C}}\\sum_{i=1}^{N_k} (\\mathbf{x}_{k,i}-\\boldsymbol{\\mu}_k)(\\mathbf{x}_{k,i}-\\boldsymbol{\\mu}_k)^T\n",
        "$$\n",
        "\n",
        "#### Log Likelihood Ratio"
      ],
      "id": "1553b5e4-f2c6-45a1-a2d9-ac6d4d393a55"
    },
    {
      "cell_type": "raw",
      "metadata": {
        "raw_mimetype": "text/html"
      },
      "source": [
        "<p style=\"text-align: justify\">"
      ],
      "id": "010e53c0-332a-4d0c-b118-ddc7605da74c"
    },
    {
      "cell_type": "markdown",
      "metadata": {},
      "source": [
        "For simplicity, let’s say we have only two classes $C_1$ and $C_2$. To\n",
        "derive a decision boundary, we take the ratio of the posterior\n",
        "probabilities for two classes $C_1$ and $C_2$, and then take the\n",
        "logarithm. The rationality behind this approach is when we divide a\n",
        "relatively bigger number by a smaller number we get a larger number and\n",
        "smaller number if we reverse the divison. Since we are working with the\n",
        "probabilities, therefore, we take logarithm."
      ],
      "id": "9dd1b472-72fb-4d44-aa7c-1ac8ed5cc7b4"
    },
    {
      "cell_type": "raw",
      "metadata": {
        "raw_mimetype": "text/html"
      },
      "source": [
        "</p>"
      ],
      "id": "7b15cd57-e26b-4362-831d-4fe00062cc6f"
    },
    {
      "cell_type": "markdown",
      "metadata": {},
      "source": [
        "Using the Gaussian likelihood assumption, we expand the terms\n",
        "$P(\\mathbf{x} | C_1)$ and $P(\\mathbf{x} | C_2)$:\n",
        "\n",
        "Therefore, we can write\n",
        "\n",
        "$$\n",
        "\\log\\left(\\frac{P(\\mathbf{x} | C_1)}{P(\\mathbf{x} | C_2)}\\right) = \\mathbf{w}^T\\mathbf{x}+\\text{constant}\n",
        "$$\n",
        "\n",
        "since $\\mathbf{w}^T\\mathbf{x}=\\mathbf{x}^T\\mathbf{w}$, as inner product\n",
        "is commutative. This is the linear projection vector $\\mathbf{w}$ that\n",
        "LDA uses.\n",
        "\n",
        "#### Fisher’s Discriminant Ratio"
      ],
      "id": "dcaddafa-d6f3-4f11-9823-c5536f6bbc09"
    },
    {
      "cell_type": "raw",
      "metadata": {
        "raw_mimetype": "text/html"
      },
      "source": [
        "<p style=\"text-align:justify\">"
      ],
      "id": "1c5316de-9e7e-4709-b758-cb897ec92989"
    },
    {
      "cell_type": "markdown",
      "metadata": {},
      "source": [
        "Now, we derive the Fisher’s Discriminant Ratio. The goal is to find a\n",
        "projection $\\mathbf{w}$ that maximizes the separation between classes\n",
        "(between-class variance) and minimizes the spread within each class\n",
        "(within-class variance)."
      ],
      "id": "6c6871e0-f07b-46cd-b35b-5ab700caf9bb"
    },
    {
      "cell_type": "raw",
      "metadata": {
        "raw_mimetype": "text/html"
      },
      "source": [
        "</p>"
      ],
      "id": "c904502b-e08a-4a56-acf6-4315b602e2c2"
    },
    {
      "cell_type": "markdown",
      "metadata": {},
      "source": [
        "-   **Between-class scatter** $S_B$ is defined as:\n",
        "\n",
        "$$\n",
        "S_B = (\\boldsymbol{\\mu}_1 - \\boldsymbol{\\mu}_2)(\\boldsymbol{\\mu}_1 - \\boldsymbol{\\mu}_2)^T\n",
        "$$\n",
        "\n",
        "-   **Within-class scatter** $S_W$ is the covariance matrix $\\Sigma$,\n",
        "    assuming equal covariance for both classes.\n",
        "\n",
        "The Fisher’s discriminant ratio is the objective function to maximize:\n",
        "\n",
        "$$\n",
        "J(\\mathbf{w}) = \\frac{\\mathbf{w}^T S_B \\mathbf{w}}{\\mathbf{w}^T S_W \\mathbf{w}}\n",
        "$$\n",
        "\n",
        "Substituting $S_B$ and $S_W$ into this expression, we get:\n",
        "\n",
        "$$\n",
        "J(\\mathbf{w}) = \\frac{\\mathbf{w}^T (\\boldsymbol{\\mu}_1 - \\boldsymbol{\\mu}_2)(\\boldsymbol{\\mu}_1 - \\boldsymbol{\\mu}_2)^T \\mathbf{w}}{\\mathbf{w}^T \\Sigma \\mathbf{w}}\n",
        "$$\n",
        "\n",
        "Thus, maximizing this ratio gives the direction\n",
        "$\\mathbf{w} = \\Sigma^{-1} (\\boldsymbol{\\mu}_1 - \\boldsymbol{\\mu}_2)$,\n",
        "which is the same as the result from the Bayesian classification.\n",
        "\n",
        "#### Summary\n",
        "\n",
        "The Fisher’s Discriminant Ratio arises as a byproduct of maximizing the\n",
        "posterior probability ratios between two classes under Gaussian\n",
        "assumptions. It captures the optimal linear projection to maximize the\n",
        "separation between classes (via between-class scatter) and minimize the\n",
        "spread within classes (via within-class scatter).\n",
        "\n",
        "### Quadratic Discriminant Analysis (QDA)"
      ],
      "id": "9e37098a-bee3-4b14-8fe0-ff8e2aa64f63"
    },
    {
      "cell_type": "raw",
      "metadata": {
        "raw_mimetype": "text/html"
      },
      "source": [
        "<p style=\"text-align: justify\">"
      ],
      "id": "68870497-ed36-4704-b79e-a2a58fdaadb5"
    },
    {
      "cell_type": "markdown",
      "metadata": {},
      "source": [
        "Unlike LDA, we allow each class $C_k$ to have its own covariance matrix\n",
        "$\\Sigma_k$, leading to a more flexible model capable of handling classes\n",
        "with different shapes and orientations in feature space. Here’s how we\n",
        "can derive the discriminant function for QDA."
      ],
      "id": "e352b9b0-7b52-4eca-b37c-a7167a640cbe"
    },
    {
      "cell_type": "raw",
      "metadata": {
        "raw_mimetype": "text/html"
      },
      "source": [
        "</p>"
      ],
      "id": "f7838820-ba04-4a43-8a78-7b28e2778fbd"
    },
    {
      "cell_type": "markdown",
      "metadata": {},
      "source": [
        "#### Discriminant Function for QDA\n",
        "\n",
        "In QDA, we aim to classify a sample $\\mathbf{x}$ based on the\n",
        "probability that it belongs to class $C_k$, given by\n",
        "$P(C_k|\\mathbf{x})$. Using Bayes’ theorem, we have:\n",
        "\n",
        "$$\n",
        "P(C_k | \\mathbf{x}) = \\frac{P(\\mathbf{x} | C_k) P(C_k)}{P(\\mathbf{x})}\n",
        "$$\n",
        "\n",
        "Since we’re primarily interested in maximizing this value to classify\n",
        "$\\mathbf{x}$, we can focus on maximizing the posterior probability\n",
        "$P(\\mathbf{x} | C_k) P(C_k)$.\n",
        "\n",
        "#### Likelihood of $\\mathbf{x}$ in Class $C_k$\n",
        "\n",
        "Assuming that the feature vector $\\mathbf{x}$ follows a Gaussian\n",
        "distribution within each class $C_k$, the likelihood\n",
        "$P(\\mathbf{x} | C_k)$ is given by:\n",
        "\n",
        "$$\n",
        "P(\\mathbf{x} | C_k) = \\frac{1}{(2 \\pi)^{d/2} |\\Sigma_k|^{1/2}} \\exp \\left( -\\frac{1}{2} (\\mathbf{x} - \\boldsymbol{\\mu}_k)^T \\Sigma_k^{-1} (\\mathbf{x} - \\boldsymbol{\\mu}_k) \\right)\n",
        "$$\n",
        "\n",
        "where:\n",
        "\n",
        "-   $\\boldsymbol{\\mu}_k$ is the mean vector for class $C_k$,\n",
        "-   $\\Sigma_k$ is the covariance matrix for class $C_k$,\n",
        "-   $d$ is the dimensionality of $\\mathbf{x}$.\n",
        "\n",
        "#### Log of the Posterior (Quadratic Discriminant)\n",
        "\n",
        "To simplify the computation, we take the logarithm of the posterior\n",
        "probability. Ignoring constant terms that do not depend on $k$, we have:\n",
        "\n",
        "$$\n",
        "\\ln P(\\mathbf{x} | C_k) P(C_k) = -\\frac{1}{2} \\left( (\\mathbf{x} - \\boldsymbol{\\mu}_k)^T \\Sigma_k^{-1} (\\mathbf{x} - \\boldsymbol{\\mu}_k) + \\ln |\\Sigma_k| \\right) + \\ln P(C_k)\n",
        "$$\n",
        "\n",
        "The discriminant function for QDA can then be expressed as:\n",
        "\n",
        "$$\n",
        "\\delta_k(\\mathbf{x}) = -\\frac{1}{2} (\\mathbf{x} - \\boldsymbol{\\mu}_k)^T \\Sigma_k^{-1} (\\mathbf{x} - \\boldsymbol{\\mu}_k) - \\frac{1}{2} \\ln |\\Sigma_k| + \\ln P(C_k)\n",
        "$$\n",
        "\n",
        "#### Expanding the Quadratic Term\n",
        "\n",
        "Let’s expand the quadratic term:\n",
        "\n",
        "$$\n",
        "(\\mathbf{x} - \\boldsymbol{\\mu}_k)^T \\Sigma_k^{-1} (\\mathbf{x} - \\boldsymbol{\\mu}_k)\n",
        "$$\n",
        "\n",
        "Expanding this gives:\n",
        "\n",
        "$$\n",
        "(\\mathbf{x} - \\boldsymbol{\\mu}_k)^T \\Sigma_k^{-1} (\\mathbf{x} - \\boldsymbol{\\mu}_k) = \\mathbf{x}^T \\Sigma_k^{-1} \\mathbf{x} - 2 \\mathbf{x}^T \\Sigma_k^{-1} \\boldsymbol{\\mu}_k + \\boldsymbol{\\mu}_k^T \\Sigma_k^{-1} \\boldsymbol{\\mu}_k\n",
        "$$\n",
        "\n",
        "Substituting this expansion into the discriminant function:\n",
        "\n",
        "$$\n",
        "\\delta_k(\\mathbf{x}) = -\\frac{1}{2} \\left( \\mathbf{x}^T \\Sigma_k^{-1} \\mathbf{x} - 2 \\mathbf{x}^T \\Sigma_k^{-1} \\boldsymbol{\\mu}_k + \\boldsymbol{\\mu}_k^T \\Sigma_k^{-1} \\boldsymbol{\\mu}_k \\right) - \\frac{1}{2} \\ln |\\Sigma_k| + \\ln P(C_k)\n",
        "$$\n",
        "\n",
        "#### Final Form of the QDA Discriminant Function\n",
        "\n",
        "Rearranging terms, we get:\n",
        "\n",
        "$$\n",
        "\\delta_k(\\mathbf{x}) = -\\frac{1}{2} \\mathbf{x}^T \\Sigma_k^{-1} \\mathbf{x} + \\mathbf{x}^T \\Sigma_k^{-1} \\boldsymbol{\\mu}_k - \\frac{1}{2} \\boldsymbol{\\mu}_k^T \\Sigma_k^{-1} \\boldsymbol{\\mu}_k - \\frac{1}{2} \\ln |\\Sigma_k| + \\ln P(C_k)\n",
        "$$\n",
        "\n",
        "#### Key Points in QDA\n",
        "\n",
        "-   **Quadratic term**: Unlike LDA, QDA includes a quadratic term in\n",
        "    $\\mathbf{x}$, $-\\frac{1}{2} \\mathbf{x}^T \\Sigma_k^{-1} \\mathbf{x}$,\n",
        "    which allows QDA to model classes with different covariances.\n",
        "-   **Linear term**: $\\mathbf{x}^T \\Sigma_k^{-1} \\boldsymbol{\\mu}_k$ is\n",
        "    a linear term in $\\mathbf{x}$.\n",
        "-   **Constant term**: The remaining terms\n",
        "    $-\\frac{1}{2} \\boldsymbol{\\mu}_k^T \\Sigma_k^{-1} \\boldsymbol{\\mu}_k - \\frac{1}{2} \\ln |\\Sigma_k| + \\ln P(C_k)$\n",
        "    are independent of $\\mathbf{x}$.\n",
        "\n",
        "Because of the quadratic term, the decision boundaries in QDA are\n",
        "generally **quadratic surfaces**, allowing it to handle more complex\n",
        "class separations than LDA, which has linear boundaries.\n",
        "\n",
        "## References\n",
        "\n",
        "1.  **“The Elements of Statistical Learning” by Trevor Hastie, Robert\n",
        "    Tibshirani, and Jerome Friedman**\n",
        "    -   This book is an excellent resource for both Linear and Quadratic\n",
        "        Discriminant Analysis, including mathematical derivations,\n",
        "        explanations of Gaussian discriminant analysis, and the context\n",
        "        for using LDA and QDA.\n",
        "    -   See Chapter 4: Linear Methods for Classification.\n",
        "2.  **“Pattern Recognition and Machine Learning” by Christopher M.\n",
        "    Bishop**\n",
        "    -   Bishop’s book offers a clear introduction to probabilistic\n",
        "        classification, Bayes theorem, and discriminant analysis.\n",
        "    -   See Chapter 4: Linear Models for Classification.\n",
        "3.  **“Machine Learning: A Probabilistic Perspective” by Kevin P.\n",
        "    Murphy**\n",
        "    -   This text provides derivations and explanations of LDA and QDA\n",
        "        from a probabilistic and Bayesian perspective.\n",
        "    -   See Chapter 7: Linear Discriminant Analysis.\n",
        "4.  **“Applied Multivariate Statistical Analysis” by Richard A. Johnson\n",
        "    and Dean W. Wichern**\n",
        "    -   This book goes deeper into the statistical foundation behind\n",
        "        discriminant analysis, including pooled variance, unbiased\n",
        "        estimators, and the assumptions behind LDA and QDA.\n",
        "    -   See Chapter 11: Discrimination and Classification.\n",
        "5.  **“Introduction to the Theory of Statistics” by Alexander M. Mood,\n",
        "    Franklin A. Graybill, and Duane C. Boes**\n",
        "    -   This text provides a theoretical foundation on statistical\n",
        "        concepts, including unbiased estimators and quadratic forms,\n",
        "        which underlie LDA and QDA derivations.\n",
        "    -   Relevant for concepts of unbiased estimation and quadratic\n",
        "        forms.\n",
        "\n",
        "------------------------------------------------------------------------\n",
        "\n",
        "**Share on**\n",
        "\n",
        "<a href=\"https://www.facebook.com/sharer.php?u=https://mrislambd.github.io/dsandml/bayesianclassification/\" target=\"_blank\" style=\"color:#1877F2; text-decoration: none;\">\n",
        "\n",
        "</a>\n",
        "\n",
        "<a href=\"https://www.linkedin.com/sharing/share-offsite/?url=https://mrislambd.github.io/dsandml/bayesianclassification/\" target=\"_blank\" style=\"color:#0077B5; text-decoration: none;\">\n",
        "\n",
        "</a>\n",
        "\n",
        "<a href=\"https://www.twitter.com/intent/tweet?url=https://mrislambd.github.io/dsandml/bayesianclassification/\" target=\"_blank\" style=\"color:#1DA1F2; text-decoration: none;\">\n",
        "\n",
        "</a>"
      ],
      "id": "6eaebfdf-445a-49a8-a95e-708a727b5a6b"
    },
    {
      "cell_type": "raw",
      "metadata": {
        "raw_mimetype": "text/html"
      },
      "source": [
        "<script src=\"https://giscus.app/client.js\"\n",
        "        data-repo=\"mrislambd/mrislambd.github.io\" \n",
        "        data-repo-id=\"R_kgDOMV8crA\"\n",
        "        data-category=\"Announcements\"\n",
        "        data-category-id=\"DIC_kwDOMV8crM4CjbQW\"\n",
        "        data-mapping=\"pathname\"\n",
        "        data-strict=\"0\"\n",
        "        data-reactions-enabled=\"1\"\n",
        "        data-emit-metadata=\"0\"\n",
        "        data-input-position=\"bottom\"\n",
        "        data-theme=\"light\"\n",
        "        data-lang=\"en\"\n",
        "        crossorigin=\"anonymous\"\n",
        "        async>\n",
        "</script>"
      ],
      "id": "3ef44b65-67ec-4706-a9ed-1ac79a474888"
    },
    {
      "cell_type": "markdown",
      "metadata": {},
      "source": [],
      "id": "20d9fb0e-d654-437b-8a96-6af781a90178"
    },
    {
      "cell_type": "raw",
      "metadata": {
        "raw_mimetype": "text/html"
      },
      "source": [
        "<script async defer crossorigin=\"anonymous\"\n",
        " src=\"https://connect.facebook.net/en_US/sdk.js#xfbml=1&version=v20.0\"></script>"
      ],
      "id": "3475d224-0dd6-4761-8dd1-15352d09e34a"
    },
    {
      "cell_type": "markdown",
      "metadata": {},
      "source": [
        "**You may also like**"
      ],
      "id": "3316a4a4-d4b3-4efd-ba69-6720df65ddab"
    }
  ],
  "nbformat": 4,
  "nbformat_minor": 5,
  "metadata": {
    "kernelspec": {
      "name": "python3",
      "display_name": "Python 3 (ipykernel)",
      "language": "python",
      "path": "/opt/hostedtoolcache/Python/3.10.15/x64/share/jupyter/kernels/python3"
    },
    "language_info": {
      "name": "python",
      "codemirror_mode": {
        "name": "ipython",
        "version": "3"
      },
      "file_extension": ".py",
      "mimetype": "text/x-python",
      "nbconvert_exporter": "python",
      "pygments_lexer": "ipython3",
      "version": "3.10.15"
    }
  }
}