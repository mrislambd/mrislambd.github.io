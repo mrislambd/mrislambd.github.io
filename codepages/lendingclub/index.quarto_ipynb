{
  "cells": [
    {
      "cell_type": "markdown",
      "metadata": {},
      "source": [
        "---\n",
        "title: \"Lendingclub's loan default prediction\"\n",
        "author: \"Rafiq Islam\"\n",
        "date: \"2023-02-23\"\n",
        "collection: portfolio\n",
        "citation: true\n",
        "search: true\n",
        "lightbox: true\n",
        "format:\n",
        "    html: default\n",
        "    ipynb: default\n",
        "toc-depth: 4\n",
        "---\n",
        "\n",
        "\n",
        "## Load the data and primary library\n",
        "\n",
        "## Data\n",
        "\n",
        "```python\n",
        "kaggle.api.authenticate()\n",
        "kaggle.api.dataset_download_files(\n",
        "    'jeandedieunyandwi/lending-club-dataset', path='.', unzip=True\n",
        ")\n",
        "```\n",
        "\n",
        "## Primary Libraries\n"
      ],
      "id": "db4deb17"
    },
    {
      "cell_type": "code",
      "metadata": {},
      "source": [
        "#| warning: false\n",
        "from mywebstyle import plot_style\n",
        "import matplotlib.pyplot as plt\n",
        "import seaborn as sns\n",
        "import numpy as np\n",
        "import pandas as pd\n",
        "import kaggle\n",
        "plot_style('#f4f4f4')\n",
        "loandata = pd.read_csv('lending_club_loan_two.csv')\n",
        "first_13_cols = loandata.iloc[:, :13]\n",
        "first_13_cols.head()"
      ],
      "id": "70f9947e",
      "execution_count": null,
      "outputs": []
    },
    {
      "cell_type": "code",
      "metadata": {},
      "source": [
        "second_13_cols = loandata.iloc[:, 13:]\n",
        "second_13_cols.head()"
      ],
      "id": "7be1a824",
      "execution_count": null,
      "outputs": []
    },
    {
      "cell_type": "markdown",
      "metadata": {},
      "source": [
        "## Exploratory Data Analysis\n",
        "\n",
        "### Descriptive Statistics\n"
      ],
      "id": "3f7e1e92"
    },
    {
      "cell_type": "code",
      "metadata": {},
      "source": [
        "loandata.info()"
      ],
      "id": "37782d58",
      "execution_count": null,
      "outputs": []
    },
    {
      "cell_type": "code",
      "metadata": {},
      "source": [
        "sns.heatmap(loandata.isnull(), yticklabels=False, cbar=False, cmap='viridis')"
      ],
      "id": "edf4b76b",
      "execution_count": null,
      "outputs": []
    },
    {
      "cell_type": "code",
      "metadata": {},
      "source": [
        "# | echo: false\n",
        "emplen = np.round(loandata['emp_length'].isnull().sum()/len(loandata)*100, 2)\n",
        "emptit = np.round(loandata['emp_title'].isnull().sum()/len(loandata)*100, 2)\n",
        "mort = np.round(loandata['mort_acc'].isnull().sum()/len(loandata)*100, 2)\n",
        "revutil = np.round(loandata['revol_util'].isnull().sum()/len(loandata)*100, 2)"
      ],
      "id": "890c1d4c",
      "execution_count": null,
      "outputs": []
    },
    {
      "cell_type": "markdown",
      "metadata": {},
      "source": [
        "<p style = \"text-align: justify\">\n",
        "Seems like there are some missing data in the `emp_length`, `emp_title`, and `mort_acc` columns. Around `{python} emplen`$\\%$ missing data in `emp_length` column, `{python} emptit`$\\%$ missing data in `emp_title` column, and `{python} mort`$\\%$ in the `mort_acc` coulumn. Also, there is very small proportion, `{python} revutil`$\\%$ of missing data in the `revol_util` column. <br>\n",
        "<br>\n",
        "We need to take care of this missing observations. We may drop the missing values if it is insignificantly missing or doesn't seem to be very strongly related to the predictive/dependent variable. </p >\n"
      ],
      "id": "49a44d55"
    },
    {
      "cell_type": "code",
      "metadata": {},
      "source": [
        "loandata.describe().T"
      ],
      "id": "246bb0c6",
      "execution_count": null,
      "outputs": []
    },
    {
      "cell_type": "markdown",
      "metadata": {},
      "source": [
        "### Data Visualization\n",
        "\n",
        "#### Loan Status\n",
        "First, let's look at the class balance in the dependent variable\n"
      ],
      "id": "709f4044"
    },
    {
      "cell_type": "code",
      "metadata": {},
      "source": [
        "sns.countplot(x='loan_status', data=loandata)\n",
        "fp = np.round(\n",
        "    len(loandata[loandata['loan_status'] == 'Fully Paid'])/len(loandata)*100, 2\n",
        ")\n",
        "\n",
        "co = np.round(\n",
        "    len(loandata[loandata['loan_status'] == 'Charged Off']) /\n",
        "    len(loandata)*100, 2\n",
        ")"
      ],
      "id": "40f57565",
      "execution_count": null,
      "outputs": []
    },
    {
      "cell_type": "markdown",
      "metadata": {},
      "source": [
        "So, `{python} fp`$\\%$ are `Fully Paid` category where as `{python} co`$\\%$ is labeled as `Charged Off` or defaulter.\n",
        "\n",
        "<p style = \"text-align: justify\">\n",
        "**Insights: ** With 80.39 % labeled as \"Fully Paid\" and 19.61 % as \"Charged Off,\" this dataset qualifies as moderately imbalanced. The minority class (\"Charged Off\") is well underrepresented, but not severely so. This level of imbalance can still impact model performance, especially if the model is biased towards predicting the majority class . Techniques like resampling(oversampling the minority class or undersampling the majority), using metrics like F1-score or AUC-ROC, or even experimenting with algorithms specifically designed for imbalanced datasets(such as XGBoost or balanced random forests) could be effective ways to address this imbalance in the predictive modeling process. </p>\n",
        "\n",
        "#### Loan Amount and Installment Interaction With Loan Status\n",
        "\n",
        "Next, let's see how the features interacts with the dependent variable\n"
      ],
      "id": "5b95169b"
    },
    {
      "cell_type": "code",
      "metadata": {},
      "source": [
        "fig = plt.figure(figsize=(9, 4))\n",
        "ax1 = fig.add_subplot(121)\n",
        "loandata[loandata['loan_status'] == 'Charged Off']['loan_amnt'].hist(\n",
        "    alpha=0.5, color='red', bins=30, ax=ax1,\n",
        "    label='Charged Off'\n",
        ")\n",
        "loandata[loandata['loan_status'] == 'Fully Paid']['loan_amnt'].hist(\n",
        "    alpha=0.5, color='blue', bins=30, ax=ax1,\n",
        "    label='Fully Paid'\n",
        ")\n",
        "ax1.set_title('Loan Amount Distribution')\n",
        "ax1.set_xlabel('Loan Amount')\n",
        "ax1.legend()\n",
        "\n",
        "ax2 = fig.add_subplot(122)\n",
        "loandata[loandata['loan_status'] == 'Charged Off']['installment'].hist(\n",
        "    alpha=0.5, color='red', bins=30, ax=ax2,\n",
        "    label='Charged Off'\n",
        ")\n",
        "loandata[loandata['loan_status'] == 'Fully Paid']['installment'].hist(\n",
        "    alpha=0.5, color='blue', bins=30, ax=ax2,\n",
        "    label='Fully Paid'\n",
        ")\n",
        "ax2.set_title('Installment Distribution')\n",
        "ax2.set_xlabel('Installment')\n",
        "ax2.legend()"
      ],
      "id": "a91b337f",
      "execution_count": null,
      "outputs": []
    },
    {
      "cell_type": "markdown",
      "metadata": {},
      "source": [
        "Both the `loan_amnt` and `installment` are slightly positively skewed. How about their mean, upper quartile, lower quartile based on `loan_status`?\n"
      ],
      "id": "70eea2d2"
    },
    {
      "cell_type": "code",
      "metadata": {},
      "source": [
        "fig = plt.figure(figsize=(8.8, 4))\n",
        "ax1 = fig.add_subplot(121)\n",
        "sns.boxplot(\n",
        "    x='loan_status', y='loan_amnt', hue='loan_status',\n",
        "    data=loandata, ax=ax1, palette='winter'\n",
        ")\n",
        "ax1.set_title('Loan Amount Boxplot')\n",
        "\n",
        "ax2 = fig.add_subplot(122)\n",
        "sns.boxplot(\n",
        "    x='loan_status', y='installment', hue='loan_status',\n",
        "    data=loandata, ax=ax2, palette='winter'\n",
        ")\n",
        "ax2.set_title('Installment Boxplot')"
      ],
      "id": "a365f372",
      "execution_count": null,
      "outputs": []
    },
    {
      "cell_type": "markdown",
      "metadata": {},
      "source": [
        "**Insights: ** From the above plot we see that mean loan amount of the fully paid and charged off categories are $\\$12, 500$ and $\\$14, 000$, respectively.\n",
        "\n",
        "#### Term, Grade, and Sub-grade Interaction With Loan Status\n"
      ],
      "id": "e5ef6389"
    },
    {
      "cell_type": "code",
      "metadata": {},
      "source": [
        "fig = plt.figure(figsize=(8.8, 4))\n",
        "ax1 = fig.add_subplot(121)\n",
        "sns.countplot(\n",
        "    x='loan_status',\n",
        "    hue='term', data=loandata,\n",
        "    palette='RdBu_r', ax=ax1\n",
        ")\n",
        "ax2 = fig.add_subplot(122)\n",
        "sns.countplot(\n",
        "    x='loan_status',\n",
        "    hue='grade', data=loandata,\n",
        "    palette='winter', ax=ax2\n",
        ")"
      ],
      "id": "b26af9f9",
      "execution_count": null,
      "outputs": []
    },
    {
      "cell_type": "code",
      "metadata": {},
      "source": [
        "fig, ax = plt.subplots(figsize=(10, 5))\n",
        "sns.histplot(x='sub_grade', hue='loan_status', data=loandata, ax=ax)"
      ],
      "id": "7d29c25e",
      "execution_count": null,
      "outputs": []
    },
    {
      "cell_type": "markdown",
      "metadata": {},
      "source": [
        "#### Employment Title and Employment Length\n"
      ],
      "id": "3eb72533"
    },
    {
      "cell_type": "code",
      "metadata": {},
      "source": [
        "loandata['emp_title'] = loandata['emp_title'].str.lower()\n",
        "loandata.emp_title.value_counts()[:25]"
      ],
      "id": "9ff8f876",
      "execution_count": null,
      "outputs": []
    },
    {
      "cell_type": "markdown",
      "metadata": {},
      "source": [
        "Let's work with the employment length column\n"
      ],
      "id": "4ef292aa"
    },
    {
      "cell_type": "code",
      "metadata": {},
      "source": [
        "loandata['emp_length'] = loandata['emp_length'].replace({\n",
        "    '< 1 year': 0,\n",
        "    '1 year': 1,\n",
        "    '2 years': 2,\n",
        "    '3 years': 3,\n",
        "    '4 years': 4,\n",
        "    '5 years': 5,\n",
        "    '6 years': 6,\n",
        "    '7 years': 7,\n",
        "    '8 years': 8,\n",
        "    '9 years': 9,\n",
        "    '10+ years': 10\n",
        "}\n",
        ").infer_objects(copy=False)\n",
        "\n",
        "loandata['emp_length_group'] = pd.cut(\n",
        "    loandata['emp_length'],\n",
        "    bins=[-1, 2, 7, 10],  # Bins: <3 years, 3-7 years, > 7 years\n",
        "    labels=['Short-term', 'Mid-term', 'Long-term']\n",
        ")\n",
        "\n",
        "sns.countplot(\n",
        "    x='emp_length_group',\n",
        "    hue='loan_status',\n",
        "    data=loandata,\n",
        "    palette='winter',\n",
        "    stat='count'\n",
        ")"
      ],
      "id": "82ace7d6",
      "execution_count": null,
      "outputs": []
    },
    {
      "cell_type": "markdown",
      "metadata": {},
      "source": [
        "<p style = \"text-align: justify\" >\n",
        "**Insights: ** So, from this plot we can see a trend. As employment length goes up, the chances of fully paid gets higher, but the charged of situation remains almost same, irrespective of the employment length. Therefore, it may not be very useful when we may think of data imputation for the missing values. </p >\n",
        "\n",
        "#### Home Ownership and Annual Income\n"
      ],
      "id": "aac27423"
    },
    {
      "cell_type": "code",
      "metadata": {},
      "source": [
        "fig = plt.figure(figsize=(8, 10))\n",
        "ax1 = fig.add_subplot(211)\n",
        "sns.boxplot(\n",
        "    x='loan_status', y='annual_inc',\n",
        "    hue='loan_status', palette='winter',\n",
        "    data=loandata, ax=ax1\n",
        ")\n",
        "ax1.set_title('Income Distribution')\n",
        "ax1.set_xlabel('Loan Status')\n",
        "ax1.set_ylabel('Annual Income')\n",
        "\n",
        "ax2 = fig.add_subplot(212)\n",
        "sns.countplot(\n",
        "    x='home_ownership', hue='loan_status',\n",
        "    data=loandata, ax=ax2\n",
        ")"
      ],
      "id": "326a4eaf",
      "execution_count": null,
      "outputs": []
    },
    {
      "cell_type": "markdown",
      "metadata": {},
      "source": [
        "**Insights: ** From the Annual Income column, there is not enough insights based on the plot. But for the Home Ownership plot shows that, if the house is owned, it's less likely to be charged off.\n",
        "\n",
        "#### Issue Date and Verification Status\n"
      ],
      "id": "41e3339e"
    },
    {
      "cell_type": "code",
      "metadata": {},
      "source": [
        "loandata['issue_d'] = pd.to_datetime(\n",
        "    loandata['issue_d'], format='%b-%y'\n",
        ")\n",
        "loandata = loandata.sort_values('issue_d')\n",
        "loan_status_trend = loandata.groupby(\n",
        "    ['issue_d', 'loan_status']).size().unstack()\n",
        "\n",
        "fig = plt.figure(figsize=(8, 10))\n",
        "ax1 = fig.add_subplot(211)\n",
        "loan_status_trend.plot(\n",
        "    kind='line', marker='o', ax=ax1\n",
        ")\n",
        "ax1.set_title('Loan Status Over Time by Issue Date')\n",
        "ax1.set_xlabel('Issue Date(mm-yyyy)')\n",
        "ax1.set_ylabel('Number of Loans')\n",
        "ax1.legend(title='Loan Status')\n",
        "\n",
        "ax2 = fig.add_subplot(212)\n",
        "sns.countplot(\n",
        "    x='verification_status', hue='loan_status',\n",
        "    data=loandata, palette='winter', ax=ax2\n",
        ")"
      ],
      "id": "dbaf0985",
      "execution_count": null,
      "outputs": []
    },
    {
      "cell_type": "markdown",
      "metadata": {},
      "source": [
        "<p style = \"text-align: justify\">\n",
        "**Insights: ** From issue date plot we see that most of loans that were marked as charged off happened during the year 2012 to 2016, with the pick in in 2015. For the verification status, we can see the less charged off incidents when the source was not varified. </p>\n",
        "\n",
        "#### Purpose and Debt-to-Income Ratio\n"
      ],
      "id": "8252a61a"
    },
    {
      "cell_type": "code",
      "metadata": {},
      "source": [
        "loandata['purpose'].value_counts()\n",
        "fig = plt.figure(figsize=(7.9, 4))\n",
        "ax1 = fig.add_subplot(121)\n",
        "sns.countplot(\n",
        "    y='purpose', hue='loan_status',\n",
        "    data=loandata, palette='coolwarm'\n",
        ")\n",
        "ax1.set_title('Loan Purpose')\n",
        "\n",
        "ax2 = fig.add_subplot(122)\n",
        "dti_threshold = loandata['dti'].quantile(0.95)\n",
        "filtereddata = loandata[loandata['dti'] <= dti_threshold]\n",
        "\n",
        "sns.boxplot(\n",
        "    x='loan_status', y='dti',\n",
        "    hue='loan_status', data=filtereddata,\n",
        "    palette='coolwarm', ax=ax2\n",
        ")\n",
        "ax2.set_title('Debt-to-Income Ratio on Loan Status')"
      ],
      "id": "8e918670",
      "execution_count": null,
      "outputs": []
    },
    {
      "cell_type": "markdown",
      "metadata": {},
      "source": [
        "<p style=\"text-align: justify\">\n",
        "**Insights:** From the purpose column, we see that most of the loans that were charged off were used to make debt consolidation. Therefore, debt consolidation may have been a significant factor when a loan is charged off. Another insight we obtain from the debt-to-income ratio is that the charged off loans have higher dti ratio\n",
        "</p>  \n",
        "\n",
        "#### Number of Credit Accounts and Number of Public Records  \n"
      ],
      "id": "b0115149"
    },
    {
      "cell_type": "code",
      "metadata": {},
      "source": [
        "fig = plt.figure(figsize=(9, 4))\n",
        "ax1 = fig.add_subplot(121)\n",
        "filtered_open_account_threshold = loandata['open_acc'].quantile(0.98)\n",
        "filtered_open_account = loandata[loandata['open_acc']\n",
        "                                 <= filtered_open_account_threshold]\n",
        "filtered_open_account[filtered_open_account['loan_status'] == 'Fully Paid']['open_acc'].hist(\n",
        "    alpha=0.5, color='green', bins=30,label='Fully Paid' ,ax=ax1\n",
        ")\n",
        "filtered_open_account[filtered_open_account['loan_status'] == 'Charged Off']['open_acc'].hist(\n",
        "    alpha=0.5, color='red', bins=30,label='Charged Off' ,ax=ax1\n",
        ")\n",
        "ax1.set_xlabel('Number of opened credit acc.')\n",
        "ax1.legend()\n",
        "ax1.set_title('Number of open credit accounts and Loan Status')\n",
        "\n",
        "loandata['pub_rec_group'] = pd.cut(\n",
        "    loandata['pub_rec'], bins=[-1, 0, 1, 3, loandata['pub_rec'].max()],\n",
        "    labels=['0', '1', '2-3', '4+']\n",
        ")\n",
        "loan_status_by_pub_rec = loandata.groupby(\n",
        "    ['pub_rec_group', 'loan_status'], observed=False\n",
        ").size().unstack()\n",
        "\n",
        "ax2 = fig.add_subplot(122)\n",
        "loan_status_by_pub_rec.plot(\n",
        "    kind='bar', stacked=False, edgecolor='black',\n",
        "    color=['#1f77b4', '#ff7f0e'], ax=ax2\n",
        ")\n",
        "ax2.set_title('Public Records and Loan Status')\n",
        "ax2.set_xlabel('Public Records')\n",
        "ax2.set_xticklabels(ax2.get_xticklabels(), rotation=0)"
      ],
      "id": "4f80b59c",
      "execution_count": null,
      "outputs": []
    },
    {
      "cell_type": "code",
      "metadata": {},
      "source": [
        "sns.boxplot(\n",
        "    y='open_acc', x='loan_status',\n",
        "    hue='loan_status',\n",
        "    data=filtered_open_account\n",
        ")"
      ],
      "id": "f4d2a263",
      "execution_count": null,
      "outputs": []
    },
    {
      "cell_type": "markdown",
      "metadata": {},
      "source": [
        "<p style=\"text-align: justify\">\n",
        "**Insights:** Number of credit account seems normally distributed among both groups except for some outliers. However, the mean number of credit accounts are slightly higher for the charged off category than the fully paid category. So, higher credit account has some sort of relation with loan being charged off. Also, people who doesn't have any public record seems to have higher chance of loan status being charged off\n",
        "</p>  \n",
        "\n",
        "#### Revolving Balance and Utilization  \n"
      ],
      "id": "b75c45fe"
    },
    {
      "cell_type": "code",
      "metadata": {},
      "source": [
        "fig = plt.figure(figsize=(9,4))\n",
        "ax1 = fig.add_subplot(121)\n",
        "revol_bal_threshold = loandata['revol_bal'].quantile(0.95)\n",
        "filtered_revol_bal = loandata[loandata['revol_bal']<=revol_bal_threshold]\n",
        "sns.boxplot(\n",
        "    x='loan_status', y='revol_bal',\n",
        "    data=filtered_revol_bal, hue='loan_status',\n",
        "    palette='Set2',ax=ax1\n",
        ")\n",
        "ax1.set_xlabel('Loan Status')\n",
        "ax1.set_ylabel('Revolving Balance')\n",
        "ax1.set_title('Revolving Balance vs Loan Status')\n",
        "\n",
        "ax2 = fig.add_subplot(122)\n",
        "revol_util_threshold = loandata['revol_util'].quantile(0.95)\n",
        "filtered_revol_util = loandata[loandata['revol_util']<=revol_util_threshold]\n",
        "sns.boxplot(\n",
        "    x='loan_status', y='revol_util',\n",
        "    hue='loan_status', data=filtered_revol_util,\n",
        "    palette='Set1',ax=ax2\n",
        ")\n",
        "ax2.set_xlabel('Loan Status')\n",
        "ax2.set_ylabel('Revolving Utilization')\n",
        "ax2.set_title('Revolving Utilization vs Loan Status')"
      ],
      "id": "a15e13d3",
      "execution_count": null,
      "outputs": []
    },
    {
      "cell_type": "markdown",
      "metadata": {},
      "source": [
        "<p style=\"text-align:justify\">\n",
        "**Insights:** From the above plots, we don't see much difference between fully paid or charged off status regarding the revolving balance, however, for revolving utilization, it's higher for the charged off category.\n",
        "</p>\n",
        "\n",
        "\n",
        "#### Total Account and Initial List Status  \n"
      ],
      "id": "02c143e6"
    },
    {
      "cell_type": "code",
      "metadata": {},
      "source": [
        "fig = plt.figure(figsize=(9, 4))\n",
        "ax1 = fig.add_subplot(121)\n",
        "filtered_total_account_threshold = loandata['total_acc'].quantile(0.95)\n",
        "filtered_total_account = loandata[loandata['total_acc']\n",
        "                                 <= filtered_total_account_threshold]\n",
        "filtered_total_account[filtered_total_account['loan_status'] == 'Fully Paid']['total_acc'].hist(\n",
        "    alpha=0.5, color='green', bins=30,label='Fully Paid' ,ax=ax1\n",
        ")\n",
        "filtered_total_account[filtered_total_account['loan_status'] == 'Charged Off']['total_acc'].hist(\n",
        "    alpha=0.5, color='red', bins=30,label='Charged Off' ,ax=ax1\n",
        ")\n",
        "ax1.set_xlabel('Number of Total Credit Acc.')\n",
        "ax1.legend()\n",
        "ax1.set_title('Number of Total credit accounts and Loan Status')\n",
        "\n",
        "\n",
        "ax2 = fig.add_subplot(122)\n",
        "sns.countplot(\n",
        "    x='initial_list_status',hue='loan_status',\n",
        "    data=loandata, palette='winter'\n",
        ")\n",
        "ax2.set_title('Initial Status and Loan Status')\n",
        "ax2.set_xlabel('Initial Status (Funded or Withdrawn)')"
      ],
      "id": "b4e8a4b5",
      "execution_count": null,
      "outputs": []
    },
    {
      "cell_type": "markdown",
      "metadata": {},
      "source": [
        "next,  \n"
      ],
      "id": "e41ac28a"
    },
    {
      "cell_type": "code",
      "metadata": {},
      "source": [
        "sns.boxplot(\n",
        "    y='total_acc', x='loan_status',\n",
        "    hue='loan_status',\n",
        "    data=filtered_total_account\n",
        ")"
      ],
      "id": "24adff17",
      "execution_count": null,
      "outputs": []
    },
    {
      "cell_type": "markdown",
      "metadata": {},
      "source": [
        "<p style=\"text-align: justify\">\n",
        "**Insights:** The number of total credit account seems to have no impact on loan status based on the plottings above. Similarly, Initial Loan Status also doesn't give much information.\n",
        "</p>\n",
        "\n",
        "\n",
        "\n",
        "#### Number of Mortgage Account and Number of Public Record of Bankruptcies\n"
      ],
      "id": "6a564b34"
    },
    {
      "cell_type": "code",
      "metadata": {},
      "source": [
        "fig = plt.figure(figsize=(9,4))\n",
        "\n",
        "ax1 = fig.add_subplot(121)\n",
        "\n",
        "loandata['mort_acc_group'] = pd.cut(\n",
        "    loandata['mort_acc'], bins=[-1, 0, 2, 5, 10, loandata['mort_acc'].max()],\n",
        "    labels=['0', '1-2', '3-5', '6-10', '10+']\n",
        ")\n",
        "\n",
        "mort_acc_counts = loandata.groupby(\n",
        "    ['mort_acc_group', 'loan_status'],observed=False\n",
        ").size().unstack()\n",
        "\n",
        "mort_acc_counts.plot(\n",
        "    kind='bar', stacked=False, \n",
        "    colormap='viridis', ax=ax1\n",
        ")\n",
        "ax1.set_title('Loan Status by the # of Mort. Acc')\n",
        "ax1.set_xlabel('Number of Mortgage Accounts (Grouped)')\n",
        "ax1.set_ylabel('Number of Loans')\n",
        "ax1.set_xticklabels(ax1.get_xticklabels(), rotation=0)\n",
        "ax1.legend(title='Loan Status')\n",
        "\n",
        "ax2 = fig.add_subplot(122)\n",
        "\n",
        "loandata['pub_rec_bankruptcies_group'] = pd.cut(\n",
        "    loandata['pub_rec_bankruptcies'], bins=[-1, 0, loandata['pub_rec_bankruptcies'].max()],\n",
        "    labels=['0', '1 or More']\n",
        ")\n",
        "\n",
        "# Plot the grouped bar chart\n",
        "pub_rec_bankruptcies_counts = loandata.groupby(\n",
        "    ['pub_rec_bankruptcies_group', 'loan_status'],observed=False\n",
        ").size().unstack()\n",
        "\n",
        "pub_rec_bankruptcies_counts.plot(\n",
        "    kind='bar', stacked=False,\n",
        "    colormap='coolwarm', ax=ax2\n",
        ")\n",
        "ax2.set_title('Loan Status by the # of Pub Rec of Bankruptcies')\n",
        "ax2.set_xlabel('Public Record of Bankruptcies (Grouped)')\n",
        "ax2.set_ylabel('Number of Loans')\n",
        "ax2.set_xticklabels(ax2.get_xticklabels(), rotation=0)\n",
        "ax2.legend(title='Loan Status')\n",
        "plt.show()"
      ],
      "id": "bd7aa27e",
      "execution_count": null,
      "outputs": []
    },
    {
      "cell_type": "markdown",
      "metadata": {},
      "source": [
        "**Insigths:** Again, loans where the applicants has less number of mortgage acc or public record of bankruptcies are more likely to be tagged as charged off.  \n",
        "\n",
        "#### Application Type  \n"
      ],
      "id": "3ca6e9f1"
    },
    {
      "cell_type": "code",
      "metadata": {},
      "source": [
        "sns.countplot(\n",
        "    x='loan_status', hue= 'application_type', \n",
        "    data=loandata, palette='winter'\n",
        ")"
      ],
      "id": "bf62b4db",
      "execution_count": null,
      "outputs": []
    },
    {
      "cell_type": "markdown",
      "metadata": {},
      "source": [
        "We see only the individual type applications have impact on loans being charged off. \n",
        "\n",
        "Now that we have analyzed all the features, how about the correlations among the features? \n"
      ],
      "id": "b3f7fc9e"
    },
    {
      "cell_type": "code",
      "metadata": {},
      "source": [
        "numeric_loandata = loandata.select_dtypes(include=['float64','int64'])\n",
        "plt.figure(figsize=(10,8))\n",
        "sns.heatmap(numeric_loandata.corr(), annot=True, cmap='coolwarm', vmin=-1, vmax=1)\n",
        "plt.show()"
      ],
      "id": "1b740a30",
      "execution_count": null,
      "outputs": []
    },
    {
      "cell_type": "markdown",
      "metadata": {},
      "source": [
        "### Conclusion  \n"
      ],
      "id": "5cfcc02e"
    }
  ],
  "metadata": {
    "kernelspec": {
      "name": "python3",
      "language": "python",
      "display_name": "Python 3 (ipykernel)",
      "path": "/Users/macpc/Library/CloudStorage/OneDrive-FloridaStateUniversity/OnlineLearning/python_environments/pytorch-env/share/jupyter/kernels/python3"
    }
  },
  "nbformat": 4,
  "nbformat_minor": 5
}