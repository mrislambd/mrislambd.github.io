{
  "cells": [
    {
      "cell_type": "markdown",
      "metadata": {},
      "source": [
        "#"
      ],
      "id": "3bfe0c81-eaeb-457e-b340-b4ced236a969"
    },
    {
      "cell_type": "raw",
      "metadata": {
        "raw_mimetype": "text/html"
      },
      "source": [
        "<script async src=\"https://pagead2.googlesyndication.com/pagead/js/adsbygoogle.js?client=ca-pub-6878992848042528\"\n",
        "     crossorigin=\"anonymous\"></script>"
      ],
      "id": "7e1f6141-6250-481f-afa5-8005f663702a"
    },
    {
      "cell_type": "raw",
      "metadata": {
        "raw_mimetype": "text/html"
      },
      "source": [
        "<h2>"
      ],
      "id": "14e2ce7a-aeae-4ae3-a881-807aaa484351"
    },
    {
      "cell_type": "markdown",
      "metadata": {},
      "source": [
        "Rafiq Islam"
      ],
      "id": "20e01007-32f2-4744-92b2-f88d92af2689"
    },
    {
      "cell_type": "raw",
      "metadata": {
        "raw_mimetype": "text/html"
      },
      "source": [
        "</h2>"
      ],
      "id": "4468a788-2bc5-4478-8355-0819b8ccf02a"
    },
    {
      "cell_type": "raw",
      "metadata": {
        "raw_mimetype": "text/html"
      },
      "source": [
        "<p style=\"text-align: justify\">"
      ],
      "id": "159a6c25-b5f2-462e-8f96-df4ca761e096"
    },
    {
      "cell_type": "markdown",
      "metadata": {},
      "source": [
        "<img align=\"right\" src='/_assets/images/profile.png' class='oval-image' alt='Profile Picture' style='align-right; margin-left: 25px; margin-bottom: 10px;'><br>\n",
        "Ph.D. Candidate in Mathematics  \n",
        "<a href='https://fsu.edu' target='_blank' style='text-decoration:none'>Florida\n",
        "State University</a><br> <br>\n",
        "<span style=\"font-size: 1.1em; font-weight: bold; margin-top: 50px; margin-bottom: 50px;\">Contact</span>  \n",
        "Email:\n",
        "<a href=\"mailto:mislam@math.fsu.edu\" style=\"text-decoration:none\">\n",
        "mislam@math.fsu.edu</a>  \n",
        "Office:\n",
        "<a href=\"https://maps.app.goo.gl/p25RvKR6jiecRYsG9\" target=\"_blank\" style=\"text-decoration:none\">\n",
        "James J. Love Building: Room 331A</a>  \n",
        "Office Hours: On appointments"
      ],
      "id": "77ff25b6-d3fa-48a5-b55d-c78b5fb55591"
    },
    {
      "cell_type": "raw",
      "metadata": {
        "raw_mimetype": "text/html"
      },
      "source": [
        "</p>"
      ],
      "id": "c1e028a0-3f1f-409e-9231-2f17b6c24e89"
    },
    {
      "cell_type": "markdown",
      "metadata": {},
      "source": [
        "<br>\n",
        "\n",
        "------------------------------------------------------------------------"
      ],
      "id": "3634e672-6dd5-49c0-82a4-206dddb8348b"
    },
    {
      "cell_type": "raw",
      "metadata": {
        "raw_mimetype": "text/html"
      },
      "source": [
        "<p style=\"text-align: justify\">"
      ],
      "id": "5870a7fa-509d-4c85-a6b0-03c059dfa0ed"
    },
    {
      "cell_type": "markdown",
      "metadata": {},
      "source": [
        "I am currently a Ph.D. candidate and a Graduate Teaching Assistant (GTA)\n",
        "in the Mathematics Department at Florida State University. I am actively\n",
        "involved in research in the area of Data Science, Machine Learning, and\n",
        "Financial Mathematics under the supervision of professor\n",
        "<a href=\"https://www.math.fsu.edu/DepartmentNews/Articles/Fac_Zhu.math\" style=\"text-decoration:none\" target=\"_blank\">\n",
        "Lingjiong Zhu</a>.<br> <br> My academic journey has been both diverse\n",
        "and enriching, spanning multiple institutions and fields of study.\n",
        "Before joining FSU, I obtained a master’s degree in Mathematics from\n",
        "Youngstown State University in Ohio, USA. Prior to that, I completed my\n",
        "undergraduate degree in Mathematics at the University of Dhaka (DU),\n",
        "Bangladesh, followed by a one-year integrated master’s program in\n",
        "Applied Mathematics at the same institution."
      ],
      "id": "55046f05-8196-43a0-a25c-100984380a0a"
    },
    {
      "cell_type": "raw",
      "metadata": {
        "raw_mimetype": "text/html"
      },
      "source": [
        "</p>"
      ],
      "id": "d305687e-6593-450c-851a-8c255cc8a776"
    }
  ],
  "nbformat": 4,
  "nbformat_minor": 5,
  "metadata": {
    "kernelspec": {
      "display_name": "Python 3",
      "language": "python",
      "name": "python3"
    }
  }
}