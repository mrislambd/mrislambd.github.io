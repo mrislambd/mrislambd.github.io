{
  "cells": [
    {
      "cell_type": "markdown",
      "metadata": {},
      "source": [
        "# Internship and Full Time Job Preparation Review\n",
        "\n",
        "Rafiq Islam  \n",
        "2024-08-20"
      ],
      "id": "ad3c095a-d626-4555-be5b-23a05bb24d76"
    }
  ],
  "nbformat": 4,
  "nbformat_minor": 5,
  "metadata": {
    "kernelspec": {
      "display_name": "Python 3",
      "language": "python",
      "name": "python3"
    }
  }
}