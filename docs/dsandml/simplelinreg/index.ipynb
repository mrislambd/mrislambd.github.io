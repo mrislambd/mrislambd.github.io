{
 "cells": [
  {
   "cell_type": "markdown",
   "metadata": {},
   "source": [
    "# Simple Linear Regression\n",
    "\n",
    "Rafiq Islam  \n",
    "2024-08-29\n",
    "\n",
    "# Simple Linear Regression"
   ],
   "id": "0bf43f95-b7f4-443c-8c37-dce1b72c653d"
  },
  {
   "cell_type": "raw",
   "metadata": {
    "raw_mimetype": "text/html"
   },
   "source": [
    "<p style=\"text-align: justify\">"
   ],
   "id": "5b8f61f6-ebe1-4470-ad08-cc06f3b6b269"
  },
  {
   "cell_type": "markdown",
   "metadata": {},
   "source": [
    "A simple linear regression in multiple predictors/input\n",
    "variables/features/independent variables/ explanatory\n",
    "variables/regressors/ covariates (many names) often takes the form"
   ],
   "id": "ddf4659e-dc52-4a80-a843-d26171c03161"
  },
  {
   "cell_type": "raw",
   "metadata": {
    "raw_mimetype": "text/html"
   },
   "source": [
    "</p>"
   ],
   "id": "2a135409-34a1-4b6e-b522-76f0a16a2680"
  },
  {
   "cell_type": "markdown",
   "metadata": {},
   "source": [
    "$$\n",
    " y=f(\\mathbf{x})+\\epsilon =\\mathbf{\\beta}\\mathbf{x}+\\epsilon\n",
    " $$"
   ],
   "id": "e7a04184-47da-4670-865f-50d9feca356d"
  },
  {
   "cell_type": "raw",
   "metadata": {
    "raw_mimetype": "text/html"
   },
   "source": [
    "<p style=\"text-align: justify\">"
   ],
   "id": "886df494-4977-4b51-9b5a-2c4f954bf350"
  },
  {
   "cell_type": "markdown",
   "metadata": {},
   "source": [
    "where $\\mathbf{\\beta} \\in \\mathbb{R}^d$ are regression parameters or\n",
    "constant values that we aim to estimate and\n",
    "$\\epsilon \\sim \\mathcal{N}(0,1)$ is a normally distributed error term\n",
    "independent of $x$ or also called the white noise."
   ],
   "id": "0852816c-c37e-4f6f-8765-bf1efbaa4dc9"
  },
  {
   "cell_type": "raw",
   "metadata": {
    "raw_mimetype": "text/html"
   },
   "source": [
    "</p>"
   ],
   "id": "e4707f59-236a-4180-8fc3-437a499ef71d"
  },
  {
   "cell_type": "markdown",
   "metadata": {},
   "source": [
    "In this case, the model:\n",
    "\n",
    "$$\n",
    "y=f(x)+\\epsilon=\\beta_0+\\beta_1 x+\\epsilon\n",
    "$$"
   ],
   "id": "b6808f14-86df-4a8b-9231-883d37f535b3"
  },
  {
   "cell_type": "raw",
   "metadata": {
    "raw_mimetype": "text/html"
   },
   "source": [
    "<p style=\"text-align: justify\">"
   ],
   "id": "c91c429c-11d9-4a7d-8fe1-fad7bc6b27dc"
  },
  {
   "cell_type": "markdown",
   "metadata": {},
   "source": [
    "Therefore, in our model we need to estimate the parameters\n",
    "$\\beta_0,\\beta_1$. The true relationship between the explanatory\n",
    "variables and the dependent variable is $y=f(x)$. But our model is\n",
    "$y=f(x)+\\epsilon$. Here, this $f(x)$ is the working model with the data.\n",
    "In other words, $\\hat{y}=f(x)=\\hat{\\beta}_0+\\hat{\\beta}_1 x$. Therefore,\n",
    "there should be some error in the model prediction which we are calling\n",
    "$\\epsilon=\\|y-\\hat{y}\\|$ where $y$ is the true value and $\\hat{y}$ is\n",
    "the predicted value. This error term is normally distributed with mean 0\n",
    "and variance 1. To get the best estimate of the parameters\n",
    "$\\beta_0,\\beta_1$ we can minimize the error term as much as possible.\n",
    "So, we define the residual sum of squares (RSS) as:"
   ],
   "id": "c6750369-5701-4167-abb2-b53d52ae2be3"
  },
  {
   "cell_type": "raw",
   "metadata": {
    "raw_mimetype": "text/html"
   },
   "source": [
    "</p>"
   ],
   "id": "632e36e2-2bd8-4094-84ba-591e8a236315"
  },
  {
   "cell_type": "markdown",
   "metadata": {},
   "source": [
    "Using multivariate calculus we see\n",
    "\n",
    "Setting the partial derivatives to zero we solve for\n",
    "$\\hat{\\beta_0},\\hat{\\beta_1}$ as follows\n",
    "\n",
    "and,\n",
    "\n",
    "Therefore, we have the following\n",
    "\n",
    "Simple Linear Regression `slr` is applicable for a single feature data\n",
    "set with contineous response variable."
   ],
   "id": "8c0b2f47-37b1-4a26-b8b9-337acb662449"
  },
  {
   "cell_type": "code",
   "execution_count": 1,
   "metadata": {},
   "outputs": [],
   "source": [
    "import numpy as np \n",
    "import matplotlib.pyplot as plt \n",
    "from sklearn.linear_model import LinearRegression"
   ],
   "id": "dc9570e9"
  },
  {
   "cell_type": "markdown",
   "metadata": {},
   "source": [
    "## Assumptions of Linear Regressions\n",
    "\n",
    "-   **Linearity:** The relationship between the feature set and the\n",
    "    target variable has to be linear.  \n",
    "-   **Homoscedasticity:** The variance of the residuals has to be\n",
    "    constant.  \n",
    "-   **Independence:** All the observations are independent of each\n",
    "    other.  \n",
    "-   **Normality:** The distribution of the dependent variable $y$ has to\n",
    "    be normal.\n",
    "\n",
    "## Synthetic Data\n",
    "\n",
    "To implement the algorithm, we need some synthetic data. To generate the\n",
    "synthetic data we use the linear equation $y(x)=2x+\\frac{1}{2}+\\xi$\n",
    "where $\\xi\\sim \\mathbf{N}(0,1)$"
   ],
   "id": "1baa5c5f-22df-4721-82a6-7a3fd8fcb715"
  },
  {
   "cell_type": "code",
   "execution_count": 2,
   "metadata": {},
   "outputs": [],
   "source": [
    "X=np.random.random(100)\n",
    "y=2*X+0.5+np.random.randn(100)"
   ],
   "id": "b53b8e6a"
  },
  {
   "cell_type": "markdown",
   "metadata": {},
   "source": [
    "Note that we used two random number generators, `np.random.random(n)`\n",
    "and `np.random.randn(n)`. The first one generates $n$ random numbers of\n",
    "values from the range (0,1) and the second one generates values from the\n",
    "standard normal distribution with mean 0 and variance or standard\n",
    "deviation 1."
   ],
   "id": "cdcfdf87-9b76-4a49-9465-062e3c63c6f1"
  },
  {
   "cell_type": "code",
   "execution_count": 3,
   "metadata": {},
   "outputs": [
    {
     "output_type": "display_data",
     "metadata": {},
     "data": {
      "image/png": "[encoded data removed]"
     }
    }
   ],
   "source": [
    "plt.figure(figsize=(9,6))\n",
    "plt.scatter(X,y)\n",
    "plt.xlabel('$X$')\n",
    "plt.ylabel('y')\n",
    "plt.gca().set_facecolor('#f4f4f4') \n",
    "plt.gcf().patch.set_facecolor('#f4f4f4')\n",
    "plt.show()"
   ],
   "id": "dd90a8a9"
  },
  {
   "cell_type": "markdown",
   "metadata": {},
   "source": [
    "## Model\n",
    "\n",
    "We want to fit a simple linear regression to the above data."
   ],
   "id": "f0768120-9b5f-4b98-bd9d-f65f75e945fa"
  },
  {
   "cell_type": "code",
   "execution_count": 4,
   "metadata": {},
   "outputs": [],
   "source": [
    "slr=LinearRegression()"
   ],
   "id": "c2967bc3"
  },
  {
   "cell_type": "markdown",
   "metadata": {},
   "source": [
    "Now to fit our data $X$ and $y$ we need to reshape the input variable.\n",
    "Because if we look at $X$,"
   ],
   "id": "8a013d59-532e-4d53-a437-713bd25984d5"
  },
  {
   "cell_type": "code",
   "execution_count": 5,
   "metadata": {},
   "outputs": [
    {
     "output_type": "display_data",
     "metadata": {},
     "data": {
      "text/plain": [
       "array([0.71446697, 0.48649482, 0.03260176, 0.25474069, 0.25174049,\n",
       "       0.02306678, 0.10646062, 0.89781596, 0.48726341, 0.9015955 ,\n",
       "       0.12385075, 0.54173911, 0.14770579, 0.02296832, 0.86372858,\n",
       "       0.11271176, 0.21042321, 0.09500139, 0.75122448, 0.54280135,\n",
       "       0.3813138 , 0.04354739, 0.25368432, 0.50051044, 0.14478601,\n",
       "       0.4427011 , 0.41230712, 0.68267281, 0.34314902, 0.6707301 ,\n",
       "       0.98047745, 0.81972771, 0.35944738, 0.35125469, 0.79742679,\n",
       "       0.17257064, 0.4303697 , 0.22848543, 0.5336436 , 0.26126929,\n",
       "       0.09069832, 0.00387494, 0.91181919, 0.58321926, 0.36942362,\n",
       "       0.47495345, 0.05756982, 0.19125385, 0.8710096 , 0.22443256,\n",
       "       0.15442347, 0.72120798, 0.99938273, 0.90793221, 0.9137073 ,\n",
       "       0.93633773, 0.23028626, 0.07931686, 0.34097518, 0.92794701,\n",
       "       0.48107034, 0.82818961, 0.13815533, 0.76506779, 0.95459789,\n",
       "       0.65283496, 0.49898809, 0.01043746, 0.81548074, 0.21436313,\n",
       "       0.48201859, 0.76742193, 0.56982924, 0.32490763, 0.53639287,\n",
       "       0.12150413, 0.09221067, 0.87167567, 0.0219453 , 0.89335563,\n",
       "       0.48720686, 0.59018241, 0.13107234, 0.94681352, 0.2264609 ,\n",
       "       0.56623421, 0.69058759, 0.25126876, 0.70414507, 0.01373717,\n",
       "       0.56088316, 0.04381798, 0.09162207, 0.5247655 , 0.48131029,\n",
       "       0.18202728, 0.10038524, 0.857452  , 0.63559891, 0.32706961])"
      ]
     }
    }
   ],
   "source": [
    "X"
   ],
   "id": "8ff9d976"
  },
  {
   "cell_type": "markdown",
   "metadata": {},
   "source": [
    "It is a one-dimensional array/vector but the `slr` object accepts input\n",
    "variable as matrix or two-dimensional format."
   ],
   "id": "dbc21b31-96ba-44c4-90fb-3137f3014bcb"
  },
  {
   "cell_type": "code",
   "execution_count": 6,
   "metadata": {},
   "outputs": [
    {
     "output_type": "display_data",
     "metadata": {},
     "data": {
      "text/plain": [
       "array([[0.71446697],\n",
       "       [0.48649482],\n",
       "       [0.03260176],\n",
       "       [0.25474069],\n",
       "       [0.25174049],\n",
       "       [0.02306678],\n",
       "       [0.10646062],\n",
       "       [0.89781596],\n",
       "       [0.48726341],\n",
       "       [0.9015955 ]])"
      ]
     }
    }
   ],
   "source": [
    "X=X.reshape(-1,1)\n",
    "X[:10]"
   ],
   "id": "2d38eb30"
  },
  {
   "cell_type": "markdown",
   "metadata": {},
   "source": [
    "Now we fit the data to our model"
   ],
   "id": "c3163b44-dde7-4094-b21b-be95c76ec8b7"
  },
  {
   "cell_type": "code",
   "execution_count": 7,
   "metadata": {},
   "outputs": [
    {
     "output_type": "display_data",
     "metadata": {},
     "data": {
      "text/plain": [
       "array([3.71658338, 5.19212764])"
      ]
     }
    }
   ],
   "source": [
    "slr.fit(X,y)\n",
    "slr.predict([[2],[3]])"
   ],
   "id": "671fe301"
  },
  {
   "cell_type": "markdown",
   "metadata": {},
   "source": [
    "We have our $X=2,3$ and the corresponding $y$ values are from the above\n",
    "cell output, which are pretty close to the model $y=2x+\\frac{1}{2}$."
   ],
   "id": "e6977607-6980-4209-a634-0957d85a6d04"
  },
  {
   "cell_type": "code",
   "execution_count": 8,
   "metadata": {},
   "outputs": [],
   "source": [
    "intercept = round(slr.intercept_,4)\n",
    "slope = slr.coef_"
   ],
   "id": "55e4057b"
  },
  {
   "cell_type": "markdown",
   "metadata": {},
   "source": [
    "Now our model parameters are: intercept $\\beta_0=$ 0.7655 and slope\n",
    "$\\beta_1=$ array(\\[1.47554426\\])."
   ],
   "id": "e8840f86-a8f0-45b4-962a-94f2ff9e4656"
  },
  {
   "cell_type": "code",
   "execution_count": 9,
   "metadata": {},
   "outputs": [
    {
     "output_type": "display_data",
     "metadata": {},
     "data": {
      "image/png": "[encoded data removed]"
     }
    }
   ],
   "source": [
    "plt.figure(figsize=(9,6))\n",
    "plt.scatter(X,y, alpha=0.7,label=\"Sample Data\")\n",
    "plt.plot(np.linspace(0,1,100),\n",
    "    slr.predict(np.linspace(0,1,100).reshape(-1,1)),\n",
    "    'k',\n",
    "    label='Model $\\hat{f}$'\n",
    ")\n",
    "plt.plot(np.linspace(0,1,100),\n",
    "    2*np.linspace(0,1,100)+0.5,\n",
    "    'r--',\n",
    "    label='$f$'\n",
    ")\n",
    "plt.xlabel('$X$')\n",
    "plt.ylabel('y')\n",
    "plt.legend(fontsize=10)\n",
    "plt.gca().set_facecolor('#f4f4f4') \n",
    "plt.gcf().patch.set_facecolor('#f4f4f4')\n",
    "plt.show()"
   ],
   "id": "7334dd73"
  },
  {
   "cell_type": "markdown",
   "metadata": {},
   "source": [
    "So the model fits the data almost perfectly.\n",
    "\n",
    "Up next [multiple linear\n",
    "regression](../../dsandml/multiplelinreg/index.qmd).\n",
    "\n",
    "**Share on**"
   ],
   "id": "6ceb9d34-fd51-4d36-8de0-ac653f36ea5a"
  },
  {
   "cell_type": "raw",
   "metadata": {
    "raw_mimetype": "text/html"
   },
   "source": [
    "<script async defer crossorigin=\"anonymous\"\n",
    " src=\"https://connect.facebook.net/en_US/sdk.js#xfbml=1&version=v20.0\"></script>"
   ],
   "id": "30f23b0c-4773-44df-b63c-ae9234da582f"
  },
  {
   "cell_type": "markdown",
   "metadata": {},
   "source": [
    "<a target=\"_blank\" \n",
    " href=\"https://www.facebook.com/sharer/sharer.php?u=https%3A%2F%2Fmrislambd.github.io%2Fmachinelearning%2Fsimplelinreg%2F&amp;src=sdkpreparse\" \n",
    " class=\"fb-xfbml-parse-ignore\">Share</a>\n",
    "\n",
    "<script src=\"https://platform.linkedin.com/in.js\" type=\"text/javascript\">lang: en_US</script>\n",
    "\n",
    "<script type=\"IN/Share\" data-url=\"https://mrislambd.github.io/machinelearning/simplelinreg/\"></script>\n",
    "\n",
    "<a href=\"https://twitter.com/share?ref_src=twsrc%5Etfw\" class=\"twitter-share-button\" \n",
    " data-url=\"https://mrislambd.github.io/machinelearning/simplelinreg/\" data-show-count=\"true\">Tweet</a>\n",
    "\n",
    "<script async src=\"https://platform.twitter.com/widgets.js\" charset=\"utf-8\"></script>\n",
    "\n",
    "**You may also like**"
   ],
   "id": "343d5db8-d966-4a28-94df-c0a7d84ef8b7"
  }
 ],
 "nbformat": 4,
 "nbformat_minor": 5,
 "metadata": {
  "kernelspec": {
   "name": "python3",
   "display_name": "Python 3 (ipykernel)",
   "language": "python",
   "path": "/Users/macpc/Library/CloudStorage/OneDrive-FloridaStateUniversity/OnlineLearning/python_environments/pytorch-env/share/jupyter/kernels/python3"
  },
  "language_info": {
   "name": "python",
   "codemirror_mode": {
    "name": "ipython",
    "version": "3"
   },
   "file_extension": ".py",
   "mimetype": "text/x-python",
   "nbconvert_exporter": "python",
   "pygments_lexer": "ipython3",
   "version": "3.11.7"
  }
 }
}
