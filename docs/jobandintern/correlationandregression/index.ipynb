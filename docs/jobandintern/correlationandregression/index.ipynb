{
 "cells": [
  {
   "cell_type": "markdown",
   "metadata": {},
   "source": [
    "# Correlation, Bivariate, and Regression Analysis\n",
    "\n",
    "Rafiq Islam  \n",
    "2024-12-18\n",
    "\n",
    "## Introduction"
   ],
   "id": "dacdfa9a-e2ab-4ddc-8bf3-59d87d2170c2"
  },
  {
   "cell_type": "raw",
   "metadata": {
    "raw_mimetype": "text/html"
   },
   "source": [
    "<p style=\"text-align: justify\">"
   ],
   "id": "e1283a89-35ea-4991-a2a1-5e252583e2a4"
  },
  {
   "cell_type": "markdown",
   "metadata": {},
   "source": [
    "Correlation and regression are two fundamental concepts in statistic,\n",
    "often used to study relationships between variables. While correlation\n",
    "measures the strength and direction of a linear relationship between two\n",
    "variables, regression goes further by modeling the relationship to\n",
    "predict or explain one variable based on another. This blog explores the\n",
    "mathematical underpinnings of both concepts, illustrating their\n",
    "significance in data analysis."
   ],
   "id": "7d7a9ff3-9117-490b-8f45-7397fdf00700"
  },
  {
   "cell_type": "raw",
   "metadata": {
    "raw_mimetype": "text/html"
   },
   "source": [
    "</p>"
   ],
   "id": "95020968-699b-4171-8836-59eee40112a7"
  },
  {
   "cell_type": "markdown",
   "metadata": {},
   "source": [
    "## Correlation\n",
    "\n",
    "To better explain, we will use the following hypothetical stock data of\n",
    "10 companies with stock price and their corresponding proportion in the\n",
    "portfolio."
   ],
   "id": "1c004d1d-2cd8-48f5-ad84-d5eb7f5d015b"
  },
  {
   "cell_type": "code",
   "execution_count": 1,
   "metadata": {},
   "outputs": [
    {
     "output_type": "display_data",
     "metadata": {},
     "data": {
      "text/html": [
       "\n",
       "</div>"
      ]
     }
    }
   ],
   "source": [
    "import pandas as pd\n",
    "\n",
    "df = pd.DataFrame({\n",
    "    'Stock': ['Apple', 'Citi', 'MS', 'WF', 'GS', 'Google', 'Amazon', 'Tesla', 'Toyota', 'SPY'],\n",
    "    'StockPrice': [2.11, 2.42, 2.52, 3.21, 3.62, 3.86, 4.13, 4.27, 4.51, 5.01], \n",
    "    'Portfolio': [2.12, 2.16, 2.51, 2.65, 3.62, 3.15, 4.32, 3.31, 4.18, 4.45]\n",
    "})\n",
    "\n",
    "df.set_index('Stock', inplace=True)\n",
    "\n",
    "df.T"
   ],
   "id": "6fd17ed7"
  },
  {
   "cell_type": "markdown",
   "metadata": {},
   "source": [
    "The scatterplot of the data looks like this"
   ],
   "id": "dcb6739c-2687-4f63-adca-becd6f85d178"
  },
  {
   "cell_type": "code",
   "execution_count": 2,
   "metadata": {},
   "outputs": [
    {
     "output_type": "display_data",
     "metadata": {},
     "data": {
      "image/png": "[encoded data removed]"
     }
    }
   ],
   "source": [
    "from mywebstyle import plot_style\n",
    "plot_style('#f4f4f4')\n",
    "import matplotlib.pyplot as plt\n",
    "plt.scatter(df.StockPrice, df.Portfolio, color='red')\n",
    "plt.xlabel('Stock Price')\n",
    "plt.ylabel('Portfolio')\n",
    "plt.show()"
   ],
   "id": "1897c9b0"
  },
  {
   "cell_type": "markdown",
   "metadata": {},
   "source": [
    "We can see from the graph that there appears to be a linear relationship\n",
    "between the $x$ and $y$ values in this case. To find the relationship\n",
    "mathematically we define the followings\n",
    "\n",
    "Similarly,\n",
    "\n",
    "The sample correlation coefficient $r$ is then given as\n",
    "\n",
    "$$\n",
    "r = \\frac{S_{xy}}{\\sqrt{S_{xx}S_{yy}}} = \\frac{\\sum x_i ^2 - n \\bar{x}^2}{\\sqrt{\\left(\\sum x_i ^2 - n \\bar{x}^2\\right)\\left(\\sum y_i ^2 - n \\bar{y}^2\\right)}}\n",
    "$$\n",
    "\n",
    "You may have seen a different formula to calculate this quantity which\n",
    "often looks a bit different\n",
    "\n",
    "$$\n",
    "\\rho = Corr(X,Y)=\\frac{Cov(X,Y)}{\\sqrt{var(X)var(Y)}}\n",
    "$$  \n",
    "The sample correlation coefficient, $r$, is an estimator of the\n",
    "population correlation coefficient, $\\rho$, in the same way as $\\bar{X}$\n",
    "is an estimator of $\\mu$ or $S^2$ is an estimator of $\\sigma^2$ . Now\n",
    "the question is what does this $r$ values mean?\n",
    "\n",
    "| Value | Meaning |\n",
    "|-----------------------|--------------------------------------------------|\n",
    "| $r=1$ | The two variables move together in the same direction in a perfect linear relationship. |\n",
    "| $0 < r < 1$ | The two variables tend to move together in the same direction but there is NOT a direct relationship. |\n",
    "| $r= 0$ | The two variables can move in either direction and show no linear relationship. |\n",
    "| $-1 < r < 0$ | The two variables tend to move together in opposite directions but there is not a direct relationship. |\n",
    "| $r =-1$ | The two variables move together in opposite directions in a perfect linear relationship. |\n",
    "\n",
    "Let’s calculate the correlation of our stock data."
   ],
   "id": "07412966-e35c-4fed-a7c6-2557b7e06053"
  },
  {
   "cell_type": "code",
   "execution_count": 3,
   "metadata": {},
   "outputs": [
    {
     "output_type": "stream",
     "name": "stdout",
     "text": [
      "Sₓₓ: 8.53\n",
      "Sᵧᵧ: 6.97\n",
      "Sₓᵧ: 7.13\n",
      " \n",
      "r : 0.92"
     ]
    }
   ],
   "source": [
    "import math\n",
    "x = df.StockPrice.values\n",
    "y = df.Portfolio.values\n",
    "\n",
    "n = len(x)\n",
    "\n",
    "x_sum, y_sum =0,0\n",
    "s_xx, s_yy, s_xy = 0,0,0\n",
    "for i in range(n):\n",
    "    x_sum += x[i]\n",
    "    s_xx += x[i]**2\n",
    "    y_sum += y[i]\n",
    "    s_yy += y[i]**2\n",
    "    s_xy += x[i]*y[i]    \n",
    "\n",
    "s_xx = s_xx - (x_sum)**2/n\n",
    "s_yy = s_yy - (y_sum)**2/n\n",
    "s_xy = s_xy - (x_sum * y_sum)/n\n",
    "\n",
    "r = s_xy/math.sqrt(s_xx * s_yy)\n",
    "\n",
    "# Print with formatted labels\n",
    "print(f\"Sₓₓ: {s_xx:.2f}\")\n",
    "print(f\"Sᵧᵧ: {s_yy:.2f}\")\n",
    "print(f\"Sₓᵧ: {s_xy:.2f}\")\n",
    "print(' ')\n",
    "print(f\"r : {r:.2f}\")"
   ],
   "id": "03bcb6a4"
  },
  {
   "cell_type": "markdown",
   "metadata": {},
   "source": [
    "## Bivariate Analysis\n",
    "\n",
    "The joint probability density function for $X$ and $Y$ in the bivariate\n",
    "normal distribution is given by:\n",
    "\n",
    "$$\n",
    "f_{X,Y}(x, y) = \\frac{1}{2\\pi \\sigma_X \\sigma_Y \\sqrt{1-\\rho^2}} \n",
    "\\exp\\left( -\\frac{1}{2(1-\\rho^2)} \\left[ \\frac{(x-\\mu_X)^2}{\\sigma_X^2} - 2\\rho\\frac{(x-\\mu_X)(y-\\mu_Y)}{\\sigma_X \\sigma_Y} + \\frac{(y-\\mu_Y)^2}{\\sigma_Y^2} \\right] \\right)\n",
    "$$"
   ],
   "id": "b089a1b4-5a1b-4d70-abbf-017d4efe5452"
  },
  {
   "cell_type": "raw",
   "metadata": {
    "raw_mimetype": "text/html"
   },
   "source": [
    "<p style=\"text-align: justify\">"
   ],
   "id": "4c55ee69-4067-4a87-901b-5dc57c2d3bd6"
  },
  {
   "cell_type": "markdown",
   "metadata": {},
   "source": [
    "When $|\\rho| = 1$, the denominator $\\sqrt{1-\\rho^2}$ in the PDF becomes\n",
    "zero, which might appear problematic. However, what happens in this case\n",
    "is that the joint distribution degenerates into a **one-dimensional\n",
    "structure** (a line) rather than being a two-dimensional probability\n",
    "density."
   ],
   "id": "8a236748-557e-40fc-82ab-d84fc89023e4"
  },
  {
   "cell_type": "raw",
   "metadata": {
    "raw_mimetype": "text/html"
   },
   "source": [
    "</p>"
   ],
   "id": "29852564-9601-467a-9389-c9eb58523f27"
  },
  {
   "cell_type": "markdown",
   "metadata": {},
   "source": [
    "To see why, consider the quadratic term inside the exponential:\n",
    "\n",
    "$$\n",
    "Q = \\frac{(x-\\mu_X)^2}{\\sigma_X^2} - 2\\rho \\frac{(x-\\mu_X)(y-\\mu_Y)}{\\sigma_X \\sigma_Y} + \\frac{(y-\\mu_Y)^2}{\\sigma_Y^2}\n",
    "$$\n",
    "\n",
    "When $|\\rho| = 1$, this quadratic expression simplifies, as shown next.\n",
    "\n",
    "Start with the simplified $Q$ when $|\\rho| = 1$:\n",
    "\n",
    "This is a **perfect square** because the “cross term” cancels out all\n",
    "independent variability of $X$ and $Y$ when $|\\rho| = 1$.\n",
    "\n",
    "For the quadratic term $Q$ to have any non-zero probability density\n",
    "(since it appears in the exponent of the PDF), it must be equal to zero:\n",
    "$$\n",
    "\\frac{x-\\mu_X}{\\sigma_X} - \\rho \\frac{y-\\mu_Y}{\\sigma_Y} = 0\n",
    "$$\n",
    "\n",
    "Rearranging this equation: $$\n",
    "\\frac{y-\\mu_Y}{\\sigma_Y} = \\rho \\frac{x-\\mu_X}{\\sigma_X}\n",
    "$$\n",
    "\n",
    "Multiply through by $\\sigma_Y$: $$\n",
    "y - \\mu_Y = \\rho \\frac{\\sigma_Y}{\\sigma_X} (x - \\mu_X)\n",
    "$$\n",
    "\n",
    "Thus: $$\n",
    "y = \\mu_Y + \\rho \\frac{\\sigma_Y}{\\sigma_X} (x - \\mu_X)\n",
    "$$\n",
    "\n",
    "This is the equation of a straight line in the $(X, Y)$-plane. The slope\n",
    "of the line is $\\rho \\frac{\\sigma_Y}{\\sigma_X}$, and the line passes\n",
    "through the point $(\\mu_X, \\mu_Y)$. When $|\\rho| = 1$, all the joint\n",
    "probability mass collapses onto this line, meaning $X$ and $Y$ are\n",
    "perfectly linearly dependent.\n",
    "\n",
    "```` numberLines\n",
    "```{ojs}\n",
    "// Import necessary libraries\n",
    "Plot = require('@observablehq/plot')\n",
    "d3 = require('d3@7')\n",
    "\n",
    "// Define the bivariate normal PDF function\n",
    "function bivariateNormalPDF(x, y, muX, muY, sigmaX, sigmaY, rho) {\n",
    "  const z =\n",
    "    ((x - muX) ** 2) / sigmaX ** 2 -\n",
    "    (2 * rho * (x - muX) * (y - muY)) / (sigmaX * sigmaY) +\n",
    "    ((y - muY) ** 2) / sigmaY ** 2;\n",
    "  const denominator = 2 * Math.PI * sigmaX * sigmaY * Math.sqrt(1 - rho ** 2);\n",
    "  return Math.exp(-z / (2 * (1 - rho ** 2))) / denominator;\n",
    "}\n",
    "\n",
    "// Parameters\n",
    "const muX = 0,\n",
    "  muY = 0,\n",
    "  sigmaX = 1,\n",
    "  sigmaY = 1;\n",
    "\n",
    "// Create a slider for rho\n",
    "viewof rho = Inputs.range([-0.99, 0.99], { step: 0.01, value: 0, label: 'Correlation (ρ)' })\n",
    "\n",
    "// Generate grid data\n",
    "const x = d3.range(-3, 3.1, 0.1);\n",
    "const y = d3.range(-3, 3.1, 0.1);\n",
    "const grid = x.flatMap((xi) => y.map((yi) => ({ x: xi, y: yi, z: bivariateNormalPDF(xi, yi, muX, muY, sigmaX, sigmaY, rho) })));\n",
    "\n",
    "// Create the contour plot\n",
    "Plot.plot({\n",
    "  marks: [\n",
    "    Plot.contour(grid, {\n",
    "      x: 'x',\n",
    "      y: 'y',\n",
    "      z: 'z',\n",
    "      stroke: 'steelblue',\n",
    "      strokeWidth: 1,\n",
    "      thresholds: 10,\n",
    "    }),\n",
    "  ],\n",
    "  x: {\n",
    "    label: 'X',\n",
    "  },\n",
    "  y: {\n",
    "    label: 'Y',\n",
    "  },\n",
    "  color: {\n",
    "    legend: true,\n",
    "    label: 'Density',\n",
    "  },\n",
    "  width: 600,\n",
    "  height: 600,\n",
    "})\n",
    "```\n",
    "````\n",
    "\n",
    "> **OJS Syntax Error (line 15, column 1)Unexpected token**"
   ],
   "id": "38224a2d-41db-4d9b-a77f-e2c4c5c92c09"
  }
 ],
 "nbformat": 4,
 "nbformat_minor": 5,
 "metadata": {
  "kernelspec": {
   "name": "python3",
   "display_name": "Python 3 (ipykernel)",
   "language": "python",
   "path": "/Users/macpc/Library/CloudStorage/OneDrive-FloridaStateUniversity/OnlineLearning/python_environments/pytorch-env/share/jupyter/kernels/python3"
  },
  "language_info": {
   "name": "python",
   "codemirror_mode": {
    "name": "ipython",
    "version": "3"
   },
   "file_extension": ".py",
   "mimetype": "text/x-python",
   "nbconvert_exporter": "python",
   "pygments_lexer": "ipython3",
   "version": "3.11.7"
  }
 }
}
