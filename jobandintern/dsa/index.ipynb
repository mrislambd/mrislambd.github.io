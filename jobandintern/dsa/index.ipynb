{
  "cells": [
    {
      "cell_type": "markdown",
      "metadata": {},
      "source": [
        "# Data Structure and Algorithms: Basic Programming Hacks\n",
        "\n",
        "Rafiq Islam  \n",
        "2024-09-11"
      ],
      "id": "dedc3641-5877-4175-bf75-553184668130"
    },
    {
      "cell_type": "raw",
      "metadata": {
        "raw_mimetype": "text/html"
      },
      "source": [
        "<p align=\"center\">"
      ],
      "id": "59142082-ca3e-4189-8a5c-843d25ff3681"
    },
    {
      "cell_type": "markdown",
      "metadata": {},
      "source": [
        "<img src=\"/_assets/images/uc.jpeg\" alt=\"Post under construction\" width=\"400\" height=\"400\"/>"
      ],
      "id": "4a411b77-2f95-4423-a6b5-2501231bf98b"
    },
    {
      "cell_type": "raw",
      "metadata": {
        "raw_mimetype": "text/html"
      },
      "source": [
        "</p>"
      ],
      "id": "0af96a88-ec39-44fe-9399-90ae14e1687a"
    },
    {
      "cell_type": "code",
      "execution_count": 1,
      "metadata": {},
      "outputs": [],
      "source": [
        "import time\n",
        "\n",
        "def time_required(func):\n",
        "    def wrapper(*args, **kwargs):\n",
        "        starting = time.perf_counter()\n",
        "        output = func(*args, **kwargs)\n",
        "        ending = time.perf_counter()\n",
        "        elapsed = ending - starting\n",
        "        print(f'Time required: {elapsed:.6f} seconds')\n",
        "        return output\n",
        "    return wrapper"
      ],
      "id": "1cc587e1"
    },
    {
      "cell_type": "markdown",
      "metadata": {},
      "source": [
        "## Linked List"
      ],
      "id": "824f9132-fafc-4492-9cfb-ad249577ba34"
    },
    {
      "cell_type": "code",
      "execution_count": 2,
      "metadata": {},
      "outputs": [],
      "source": [
        "class Node:\n",
        "    def __init__(self, value, next=None) -> None:\n",
        "        self.value = value\n",
        "        self.next = next\n",
        "\n",
        "def linklist(arr):\n",
        "    if not arr:\n",
        "        return None \n",
        "    head = Node(arr[0])\n",
        "    current = head \n",
        "    for value in arr[1:]:\n",
        "        current.next = Node(value)\n",
        "        current = current.next \n",
        "    return head \n",
        "\n",
        "def print_linklist(head):\n",
        "    current = head\n",
        "    print(\"[\", end=\"\")\n",
        "    while current:\n",
        "        print(current.value, end=\", \" if current.next else \"]\")\n",
        "        current = current.next\n",
        "    print()"
      ],
      "id": "46ca5ba5"
    },
    {
      "cell_type": "markdown",
      "metadata": {},
      "source": [
        "### 1. Reverse a linked list: Type I"
      ],
      "id": "2b95721f-db2a-4962-a91b-588ecd3b43f6"
    },
    {
      "cell_type": "raw",
      "metadata": {
        "raw_mimetype": "text/html"
      },
      "source": [
        "<p align=\"center\">"
      ],
      "id": "cf69784c-9db2-48a5-b337-c632202683a3"
    },
    {
      "cell_type": "markdown",
      "metadata": {},
      "source": [
        "<img src=\"/jobandintern/dsa/ll1.png\" alt=\"Post under construction\" width=\"450\" height=\"350\"/>"
      ],
      "id": "e8555113-c60a-416d-b42b-6e3861ccbc82"
    },
    {
      "cell_type": "raw",
      "metadata": {
        "raw_mimetype": "text/html"
      },
      "source": [
        "</p>"
      ],
      "id": "aceaaa55-c6ea-4453-85d8-e6b770045c05"
    },
    {
      "cell_type": "code",
      "execution_count": 3,
      "metadata": {},
      "outputs": [
        {
          "output_type": "stream",
          "name": "stdout",
          "text": [
            "Original List:\n",
            "[1, 2, 3, 4, 5]\n",
            "Reversed List\n",
            "[5, 4, 3, 2, 1]"
          ]
        }
      ],
      "source": [
        "def reverse(head):\n",
        "    prev = None \n",
        "    curr = head \n",
        "    while curr:\n",
        "        next = curr.next \n",
        "        curr.next = prev \n",
        "        prev = curr \n",
        "        curr = next \n",
        "    return prev \n",
        "\n",
        "h = linklist([1,2,3,4,5])\n",
        "print('Original List:')\n",
        "print_linklist(h)\n",
        "\n",
        "h_reversed = reverse(h)\n",
        "print('Reversed List')\n",
        "print_linklist(h_reversed)"
      ],
      "id": "da65d328"
    },
    {
      "cell_type": "markdown",
      "metadata": {},
      "source": [
        "### 2. Reverse a linked list: Type II"
      ],
      "id": "f6e915e4-5a90-4d5a-81b4-c2143ba5ca44"
    },
    {
      "cell_type": "code",
      "execution_count": 4,
      "metadata": {},
      "outputs": [
        {
          "output_type": "stream",
          "name": "stdout",
          "text": [
            "Original List:\n",
            "[1, 2, 3, 4, 5]\n",
            "Reversed List between 2 and 4\n",
            "[1, 4, 3, 2, 5]"
          ]
        }
      ],
      "source": [
        "def reverse_in_between(head, left, right):\n",
        "    dummy = Node(0, head)\n",
        "    leftPrev = dummy\n",
        "    curr = head \n",
        "\n",
        "    for _ in range(left-1):\n",
        "        leftPrev = curr \n",
        "        curr = curr.next \n",
        "    \n",
        "    prev = None \n",
        "    tail = curr \n",
        "\n",
        "    for _ in range(right - left + 1):\n",
        "        next = curr.next \n",
        "        curr.next  = prev \n",
        "        prev = curr \n",
        "        curr = next \n",
        "    \n",
        "    leftPrev.next = prev \n",
        "    tail.next = curr \n",
        "\n",
        "    return dummy.next if left != 1 else prev\n",
        "\n",
        "h = linklist([1,2,3,4,5])\n",
        "print('Original List:')\n",
        "print_linklist(h)  \n",
        "\n",
        "h_reversed = reverse_in_between(h,2,4)\n",
        "print('Reversed List between 2 and 4')\n",
        "print_linklist(h_reversed)"
      ],
      "id": "9b211c93"
    },
    {
      "cell_type": "markdown",
      "metadata": {},
      "source": [
        "## Arrays, Lists, and Strings\n",
        "\n",
        "### 1. Intersection of two arrays\n",
        "\n",
        "Say you have two arrays. Write a function to get the intersection of the\n",
        "two. For example, if $A=[2,3,5,6,8]$ and $B=[4,6,8]$, then the function\n",
        "should return $[6,8]$\n",
        "\n",
        "**Brute Force**"
      ],
      "id": "4ac3bffb-e111-47d1-a3b8-1d1069a4a162"
    },
    {
      "cell_type": "raw",
      "metadata": {
        "raw_mimetype": "text/html"
      },
      "source": [
        "<p style=\"text-align: justify\">"
      ],
      "id": "530b3d0c-5b00-466c-bdd7-5a11f27b8a16"
    },
    {
      "cell_type": "markdown",
      "metadata": {},
      "source": [
        "One way to solve this problem is using brute force solution, that is\n",
        "using two nested loops. But this method takes the time complexity of\n",
        "$O(n\\times m)$ given that the lenght of set A is $n$ and set B is $m$.\n",
        "And here is how it is:"
      ],
      "id": "baf512ed-091e-42e3-aa8f-eebdbc1e71c2"
    },
    {
      "cell_type": "raw",
      "metadata": {
        "raw_mimetype": "text/html"
      },
      "source": [
        "</p>"
      ],
      "id": "966f40d3-f9b1-42e7-9293-71b8642af374"
    },
    {
      "cell_type": "code",
      "execution_count": 5,
      "metadata": {},
      "outputs": [
        {
          "output_type": "stream",
          "name": "stdout",
          "text": [
            "Time required: 0.000004 seconds\n",
            "[6, 8]"
          ]
        }
      ],
      "source": [
        "@time_required\n",
        "def intersection_of_two_sets(A,B):\n",
        "    set_A = set(A)\n",
        "    set_B = set(B)\n",
        "    intersection = []\n",
        "    for a in set_A:\n",
        "        for b in set_B:\n",
        "            if a==b:\n",
        "                intersection.append(a)\n",
        "    return intersection\n",
        "A = [2,3,5,6,8]\n",
        "B = [4,6,8]\n",
        "print(intersection_of_two_sets(A,B))"
      ],
      "id": "3aa943f1"
    },
    {
      "cell_type": "markdown",
      "metadata": {},
      "source": [
        "**Hash Map Approach:** In hash map approach, we can solve the same\n",
        "problem but in this case the time and space complexity is $O(n+m)$"
      ],
      "id": "d159c6bd-aec2-4dff-8764-61e887f3ccf4"
    },
    {
      "cell_type": "code",
      "execution_count": 6,
      "metadata": {},
      "outputs": [
        {
          "output_type": "stream",
          "name": "stdout",
          "text": [
            "Time required: 0.000004 seconds\n",
            "[8, 6]"
          ]
        }
      ],
      "source": [
        "@time_required\n",
        "def intersection_of_two_sets(A,B):\n",
        "    set_A = set(A)\n",
        "    set_B = set(B)\n",
        "    if len(set_A) < len(set_B):\n",
        "        return [a for a in set_A if a in set_B]\n",
        "    return [b for b in set_B if b in set_A]\n",
        "\n",
        "A = [2,3,5,6,8]\n",
        "B = [4,6,8]\n",
        "print(intersection_of_two_sets(A,B))"
      ],
      "id": "eeefb4cd"
    },
    {
      "cell_type": "markdown",
      "metadata": {},
      "source": [
        "The reason we’re getting $[8,6]$ instead of $[6,8]$ is because sets in\n",
        "Python are unordered collections, meaning that when you convert the\n",
        "lists $A$ and $B$ to sets, the order of elements is not preserved. So,\n",
        "when we iterate over `set_A` or `set_A`, the order can change.\n",
        "\n",
        "**Better Approach:** If we want to maintain the order of the elements in\n",
        "the original list $A$ or $B$, we can iterate over the original list\n",
        "directly rather than converting it to a set. Here’s how:"
      ],
      "id": "a6604a92-e473-48ad-a9f0-6c422fdbc9c4"
    },
    {
      "cell_type": "code",
      "execution_count": 7,
      "metadata": {},
      "outputs": [
        {
          "output_type": "stream",
          "name": "stdout",
          "text": [
            "Time required: 0.000003 seconds\n",
            "[6, 8]"
          ]
        }
      ],
      "source": [
        "@time_required\n",
        "def intersection_of_two_sets(A, B):\n",
        "    set_B = set(B)  \n",
        "    return [a for a in A if a in set_B]\n",
        "\n",
        "A = [2, 3, 5, 6, 8]\n",
        "B = [4, 6, 8]\n",
        "print(intersection_of_two_sets(A, B))"
      ],
      "id": "a101a62a"
    },
    {
      "cell_type": "markdown",
      "metadata": {},
      "source": [
        "### 2. Max product of $k$ elements from an array of $n$ elements"
      ],
      "id": "b11ceca6-2b7a-4cb1-96e1-ebee032f12cd"
    },
    {
      "cell_type": "raw",
      "metadata": {
        "raw_mimetype": "text/html"
      },
      "source": [
        "<p style=\"text-align:justify\">"
      ],
      "id": "b6b091cf-d8b1-4e6e-a136-98067ac8fa6d"
    },
    {
      "cell_type": "markdown",
      "metadata": {},
      "source": [
        "Say we have an array of size $n$. We want to find the maximum of the\n",
        "products of $k$ elements from the array where $k < n$. For example, if\n",
        "we set $k=3$ and if we have $A=[1,2,3,4,5,6]$ then the answer is 120, if\n",
        "we have $B=[-3,-4,3,5]$ then the answer is 60."
      ],
      "id": "d33d1298-b403-436b-91a7-989607f596aa"
    },
    {
      "cell_type": "raw",
      "metadata": {
        "raw_mimetype": "text/html"
      },
      "source": [
        "</p>"
      ],
      "id": "b470b466-29df-44e8-99e2-f5cb5aca5bf9"
    },
    {
      "cell_type": "markdown",
      "metadata": {},
      "source": [
        "**Solution**\n",
        "\n",
        "`nlargest` and `nsmallest` are two functions from the `heapq` library\n",
        "that returns $n$ largest and $n$ smallest numbers in decreasing and\n",
        "increasing order, respectively. For example,"
      ],
      "id": "ce889f47-76d1-43d5-906e-38abb14aba51"
    },
    {
      "cell_type": "code",
      "execution_count": 8,
      "metadata": {},
      "outputs": [
        {
          "output_type": "stream",
          "name": "stdout",
          "text": [
            "For set [1, 2, 3, 4, 5, 6] \n",
            " largest 3 numbers [6, 5, 4] \n",
            " smallest 2 numbers [1, 2]\n",
            "\n",
            "\n",
            "For set [-3, -4, 3, 5] \n",
            " largest 3 numbers [5, 3, -3] \n",
            " smallest 2 numbers [-4, -3]"
          ]
        }
      ],
      "source": [
        "import heapq\n",
        "\n",
        "A = [1,2,3,4,5,6]\n",
        "B = [-3,-4,3,5]\n",
        "print('For set {} \\n largest 3 numbers {} \\n smallest 2 numbers'.format(A,heapq.nlargest(3,A)),heapq.nsmallest(2,A))\n",
        "print('\\n')\n",
        "print('For set {} \\n largest 3 numbers {} \\n smallest 2 numbers'.format(B,heapq.nlargest(3,B)),heapq.nsmallest(2,B))"
      ],
      "id": "3fa4db2c"
    },
    {
      "cell_type": "markdown",
      "metadata": {},
      "source": [
        "Now if all the elements are positive, then the maximum product of $k=3$\n",
        "elements would just be the product of the largest three element.\n",
        "However, if the set contains negative numbers like the one in the\n",
        "example, product of the smallest two negative numbers and the first\n",
        "element from the `nlargest` element that would be the largest."
      ],
      "id": "e2267ab0-29cf-43aa-9eef-600444e24490"
    },
    {
      "cell_type": "code",
      "execution_count": 9,
      "metadata": {},
      "outputs": [
        {
          "output_type": "stream",
          "name": "stdout",
          "text": [
            "Max product of 3 elements from set A=[1, 2, 3, 4, 5, 6] is 120\n",
            "Max product of 3 elements from set B=[-3, -4, 3, 5] is 60"
          ]
        }
      ],
      "source": [
        "k = 3\n",
        "\n",
        "def max_of_three_element_product(arr):\n",
        "    m = heapq.nlargest(k, arr)\n",
        "    n = heapq.nsmallest(k-1, arr)\n",
        "    return max(m[0]*m[1]*m[2], m[0]*n[0]*n[1])\n",
        "A = [1,2,3,4,5,6]\n",
        "B = [-3,-4,3,5]\n",
        "\n",
        "print('Max product of {} elements from set A={} is'.format(k,A), max_of_three_element_product(A))\n",
        "print('Max product of {} elements from set B={} is'.format(k,B), max_of_three_element_product(B))"
      ],
      "id": "736c6715"
    },
    {
      "cell_type": "markdown",
      "metadata": {},
      "source": [
        "### 3. Find the $k$ nearest points from a given point"
      ],
      "id": "d3af66f2-b3dd-4388-9e37-b33c2afd0e9d"
    },
    {
      "cell_type": "code",
      "execution_count": 10,
      "metadata": {},
      "outputs": [
        {
          "output_type": "stream",
          "name": "stdout",
          "text": [
            "Time required: 0.000010 seconds\n",
            "[[-1, -1], [2, -1], [-2, 2]]"
          ]
        }
      ],
      "source": [
        "@time_required\n",
        "def knearest(points: list[list[int]], k: int) -> list[list[int]]:\n",
        "    dis = []\n",
        "    for x in points:\n",
        "        d = pow(pow(x[0],2)+pow(x[1],2),0.5)\n",
        "        dis.append((x,d))\n",
        "    dis.sort(key= lambda item: item[1])\n",
        "    return [x for x,_ in dis[:k]]\n",
        "pts = [[2,-1],[3,2],[4,1],[-1,-1],[-2,2]]\n",
        "k = 3\n",
        "print(knearest(pts,k))"
      ],
      "id": "162d2179"
    },
    {
      "cell_type": "markdown",
      "metadata": {},
      "source": [
        "# <a href=\"../../posts/jobandintern/index.qmd\"\n",
        "style=\"text-decoration:none\">Internship and Full Time Job Preparation\n",
        "Review</a>\n",
        "\n",
        "**Share on**"
      ],
      "id": "d84901a8-9d10-4741-b7d8-28da54c27d50"
    },
    {
      "cell_type": "raw",
      "metadata": {
        "raw_mimetype": "text/html"
      },
      "source": [
        "<script async defer crossorigin=\"anonymous\"\n",
        " src=\"https://connect.facebook.net/en_US/sdk.js#xfbml=1&version=v20.0\"></script>"
      ],
      "id": "33d94ee2-67b5-4d77-84ad-9ff1007c6d29"
    },
    {
      "cell_type": "markdown",
      "metadata": {},
      "source": [
        "<a target=\"_blank\" \n",
        " href=\"https://www.facebook.com/sharer/sharer.php?u=https%3A%2F%2Fmrislambd.github.io%2Fposts%2Fdsa%2F&amp;src=sdkpreparse\" \n",
        " class=\"fb-xfbml-parse-ignore\">Share</a>\n",
        "\n",
        "<script src=\"https://platform.linkedin.com/in.js\" type=\"text/javascript\">lang: en_US</script>\n",
        "\n",
        "<script type=\"IN/Share\" data-url=\"https://mrislambd.github.io/posts/dsa/\"></script>\n",
        "\n",
        "<a href=\"https://twitter.com/share?ref_src=twsrc%5Etfw\" class=\"twitter-share-button\" \n",
        " data-url=\"https://mrislambd.github.io/posts/dsa/\" data-show-count=\"true\">Tweet</a>\n",
        "\n",
        "<script async src=\"https://platform.twitter.com/widgets.js\" charset=\"utf-8\"></script>\n",
        "\n",
        "**You may also like**"
      ],
      "id": "0056ceb5-d448-4ca0-b65c-8dc915f62f2e"
    }
  ],
  "nbformat": 4,
  "nbformat_minor": 5,
  "metadata": {
    "kernelspec": {
      "name": "python3",
      "display_name": "Python 3 (ipykernel)",
      "language": "python",
      "path": "/opt/hostedtoolcache/Python/3.10.15/x64/share/jupyter/kernels/python3"
    },
    "language_info": {
      "name": "python",
      "codemirror_mode": {
        "name": "ipython",
        "version": "3"
      },
      "file_extension": ".py",
      "mimetype": "text/x-python",
      "nbconvert_exporter": "python",
      "pygments_lexer": "ipython3",
      "version": "3.10.15"
    }
  }
}