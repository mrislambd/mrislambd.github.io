{
  "cells": [
    {
      "cell_type": "markdown",
      "metadata": {},
      "source": [
        "# Data Structure and Algorithms: Basic Programming Hacks\n",
        "\n",
        "Rafiq Islam  \n",
        "2024-09-11"
      ],
      "id": "16cd2fbf-75b6-47a5-a527-4207f2387635"
    },
    {
      "cell_type": "raw",
      "metadata": {
        "raw_mimetype": "text/html"
      },
      "source": [
        "<p align=\"center\">"
      ],
      "id": "20418bc4-8ad2-4fc0-8612-c7f6ffbe21bd"
    },
    {
      "cell_type": "markdown",
      "metadata": {},
      "source": [
        "<img src=\"/_assets/images/uc.jpeg\" alt=\"Post under construction\" width=\"400\" height=\"400\"/>"
      ],
      "id": "171d3c3a-d7f9-4ec2-a7d8-e76a7e219739"
    },
    {
      "cell_type": "raw",
      "metadata": {
        "raw_mimetype": "text/html"
      },
      "source": [
        "</p>"
      ],
      "id": "d923dae3-2194-439d-957b-7343c50326cf"
    },
    {
      "cell_type": "code",
      "execution_count": 1,
      "metadata": {},
      "outputs": [],
      "source": [
        "import time\n",
        "\n",
        "def time_required(func):\n",
        "    def wrapper(*args, **kwargs):\n",
        "        starting = time.perf_counter()\n",
        "        output = func(*args, **kwargs)\n",
        "        ending = time.perf_counter()\n",
        "        elapsed = ending - starting\n",
        "        print(f'Time required: {elapsed:.6f} seconds')\n",
        "        return output\n",
        "    return wrapper"
      ],
      "id": "116ee98f"
    },
    {
      "cell_type": "markdown",
      "metadata": {},
      "source": [
        "## Linked List"
      ],
      "id": "618560a9-c998-42ac-b998-25a8aea5d544"
    },
    {
      "cell_type": "code",
      "execution_count": 2,
      "metadata": {},
      "outputs": [],
      "source": [
        "class Node:\n",
        "    def __init__(self, value, next=None) -> None:\n",
        "        self.value = value\n",
        "        self.next = next\n",
        "\n",
        "def linklist(arr):\n",
        "    if not arr:\n",
        "        return None \n",
        "    head = Node(arr[0])\n",
        "    current = head \n",
        "    for value in arr[1:]:\n",
        "        current.next = Node(value)\n",
        "        current = current.next \n",
        "    return head \n",
        "\n",
        "def print_linklist(head):\n",
        "    current = head\n",
        "    print(\"[\", end=\"\")\n",
        "    while current:\n",
        "        print(current.value, end=\", \" if current.next else \"]\")\n",
        "        current = current.next\n",
        "    print()"
      ],
      "id": "11a2f299"
    },
    {
      "cell_type": "markdown",
      "metadata": {},
      "source": [
        "### 1. Reverse a linked list: Type I"
      ],
      "id": "f1d35ff2-a9e7-4e5d-8de9-493af741d139"
    },
    {
      "cell_type": "raw",
      "metadata": {
        "raw_mimetype": "text/html"
      },
      "source": [
        "<p align=\"center\">"
      ],
      "id": "177be59b-d91b-437f-b974-02dd06c646a2"
    },
    {
      "cell_type": "markdown",
      "metadata": {},
      "source": [
        "<img src=\"/jobandintern/dsa/ll1.png\" alt=\"Post under construction\" width=\"450\" height=\"350\"/>"
      ],
      "id": "622ed220-8bbb-4716-8ad0-30d757e444cb"
    },
    {
      "cell_type": "raw",
      "metadata": {
        "raw_mimetype": "text/html"
      },
      "source": [
        "</p>"
      ],
      "id": "4ebfd44c-1102-4057-ab77-ca2ee45cfe8d"
    },
    {
      "cell_type": "code",
      "execution_count": 3,
      "metadata": {},
      "outputs": [
        {
          "output_type": "stream",
          "name": "stdout",
          "text": [
            "Original List:\n",
            "[1, 2, 3, 4, 5]\n",
            "Reversed List\n",
            "[5, 4, 3, 2, 1]"
          ]
        }
      ],
      "source": [
        "def reverse(head):\n",
        "    prev = None \n",
        "    curr = head \n",
        "    while curr:\n",
        "        next = curr.next \n",
        "        curr.next = prev \n",
        "        prev = curr \n",
        "        curr = next \n",
        "    return prev \n",
        "\n",
        "h = linklist([1,2,3,4,5])\n",
        "print('Original List:')\n",
        "print_linklist(h)\n",
        "\n",
        "h_reversed = reverse(h)\n",
        "print('Reversed List')\n",
        "print_linklist(h_reversed)"
      ],
      "id": "c53a7e2c"
    },
    {
      "cell_type": "markdown",
      "metadata": {},
      "source": [
        "### 2. Reverse a linked list: Type II"
      ],
      "id": "3792547c-3109-473e-b723-86498a1d663b"
    },
    {
      "cell_type": "code",
      "execution_count": 4,
      "metadata": {},
      "outputs": [
        {
          "output_type": "stream",
          "name": "stdout",
          "text": [
            "Original List:\n",
            "[1, 2, 3, 4, 5]\n",
            "Reversed List between 2 and 4\n",
            "[1, 4, 3, 2, 5]"
          ]
        }
      ],
      "source": [
        "def reverse_in_between(head, left, right):\n",
        "    dummy = Node(0, head)\n",
        "    leftPrev = dummy\n",
        "    curr = head \n",
        "\n",
        "    for _ in range(left-1):\n",
        "        leftPrev = curr \n",
        "        curr = curr.next \n",
        "    \n",
        "    prev = None \n",
        "    tail = curr \n",
        "\n",
        "    for _ in range(right - left + 1):\n",
        "        next = curr.next \n",
        "        curr.next  = prev \n",
        "        prev = curr \n",
        "        curr = next \n",
        "    \n",
        "    leftPrev.next = prev \n",
        "    tail.next = curr \n",
        "\n",
        "    return dummy.next if left != 1 else prev\n",
        "\n",
        "h = linklist([1,2,3,4,5])\n",
        "print('Original List:')\n",
        "print_linklist(h)  \n",
        "\n",
        "h_reversed = reverse_in_between(h,2,4)\n",
        "print('Reversed List between 2 and 4')\n",
        "print_linklist(h_reversed)"
      ],
      "id": "97b2f5bb"
    },
    {
      "cell_type": "markdown",
      "metadata": {},
      "source": [
        "## Arrays, Lists, and Strings\n",
        "\n",
        "### 1. Intersection of two arrays\n",
        "\n",
        "Say you have two arrays. Write a function to get the intersection of the\n",
        "two. For example, if $A=[2,3,5,6,8]$ and $B=[4,6,8]$, then the function\n",
        "should return $[6,8]$\n",
        "\n",
        "**Brute Force**"
      ],
      "id": "932b116f-2248-4cb2-a3a9-d37538ca9515"
    },
    {
      "cell_type": "raw",
      "metadata": {
        "raw_mimetype": "text/html"
      },
      "source": [
        "<p style=\"text-align: justify\">"
      ],
      "id": "51474bf6-9d5e-4cd1-a0c0-8699f9197534"
    },
    {
      "cell_type": "markdown",
      "metadata": {},
      "source": [
        "One way to solve this problem is using brute force solution, that is\n",
        "using two nested loops. But this method takes the time complexity of\n",
        "$O(n\\times m)$ given that the lenght of set A is $n$ and set B is $m$.\n",
        "And here is how it is:"
      ],
      "id": "01965f0e-1c03-4937-8e35-c3d56bb7f8e6"
    },
    {
      "cell_type": "raw",
      "metadata": {
        "raw_mimetype": "text/html"
      },
      "source": [
        "</p>"
      ],
      "id": "c6951448-1cb8-4395-acba-660bda341b16"
    },
    {
      "cell_type": "code",
      "execution_count": 5,
      "metadata": {},
      "outputs": [
        {
          "output_type": "stream",
          "name": "stdout",
          "text": [
            "Time required: 0.000004 seconds\n",
            "[6, 8]"
          ]
        }
      ],
      "source": [
        "@time_required\n",
        "def intersection_of_two_sets(A,B):\n",
        "    set_A = set(A)\n",
        "    set_B = set(B)\n",
        "    intersection = []\n",
        "    for a in set_A:\n",
        "        for b in set_B:\n",
        "            if a==b:\n",
        "                intersection.append(a)\n",
        "    return intersection\n",
        "A = [2,3,5,6,8]\n",
        "B = [4,6,8]\n",
        "print(intersection_of_two_sets(A,B))"
      ],
      "id": "b804d68d"
    },
    {
      "cell_type": "markdown",
      "metadata": {},
      "source": [
        "**Hash Map Approach:** In hash map approach, we can solve the same\n",
        "problem but in this case the time and space complexity is $O(n+m)$"
      ],
      "id": "6f7165d6-9c32-4c73-bae5-dd92cee80c30"
    },
    {
      "cell_type": "code",
      "execution_count": 6,
      "metadata": {},
      "outputs": [
        {
          "output_type": "stream",
          "name": "stdout",
          "text": [
            "Time required: 0.000004 seconds\n",
            "[8, 6]"
          ]
        }
      ],
      "source": [
        "@time_required\n",
        "def intersection_of_two_sets(A,B):\n",
        "    set_A = set(A)\n",
        "    set_B = set(B)\n",
        "    if len(set_A) < len(set_B):\n",
        "        return [a for a in set_A if a in set_B]\n",
        "    return [b for b in set_B if b in set_A]\n",
        "\n",
        "A = [2,3,5,6,8]\n",
        "B = [4,6,8]\n",
        "print(intersection_of_two_sets(A,B))"
      ],
      "id": "8030b743"
    },
    {
      "cell_type": "markdown",
      "metadata": {},
      "source": [
        "The reason we’re getting $[8,6]$ instead of $[6,8]$ is because sets in\n",
        "Python are unordered collections, meaning that when you convert the\n",
        "lists $A$ and $B$ to sets, the order of elements is not preserved. So,\n",
        "when we iterate over `set_A` or `set_A`, the order can change.\n",
        "\n",
        "**Better Approach:** If we want to maintain the order of the elements in\n",
        "the original list $A$ or $B$, we can iterate over the original list\n",
        "directly rather than converting it to a set. Here’s how:"
      ],
      "id": "1fdeba9f-7cf2-41d6-93b9-4f946506494c"
    },
    {
      "cell_type": "code",
      "execution_count": 7,
      "metadata": {},
      "outputs": [
        {
          "output_type": "stream",
          "name": "stdout",
          "text": [
            "Time required: 0.000003 seconds\n",
            "[6, 8]"
          ]
        }
      ],
      "source": [
        "@time_required\n",
        "def intersection_of_two_sets(A, B):\n",
        "    set_B = set(B)  \n",
        "    return [a for a in A if a in set_B]\n",
        "\n",
        "A = [2, 3, 5, 6, 8]\n",
        "B = [4, 6, 8]\n",
        "print(intersection_of_two_sets(A, B))"
      ],
      "id": "18ea5282"
    },
    {
      "cell_type": "markdown",
      "metadata": {},
      "source": [
        "### 2. Max product of $k$ elements from an array of $n$ elements"
      ],
      "id": "c3e4df37-ab74-4ee7-aeee-7e2810041710"
    },
    {
      "cell_type": "raw",
      "metadata": {
        "raw_mimetype": "text/html"
      },
      "source": [
        "<p style=\"text-align:justify\">"
      ],
      "id": "eb8dbaa3-0d04-4ed4-80a8-09758cfe8fa6"
    },
    {
      "cell_type": "markdown",
      "metadata": {},
      "source": [
        "Say we have an array of size $n$. We want to find the maximum of the\n",
        "products of $k$ elements from the array where $k < n$. For example, if\n",
        "we set $k=3$ and if we have $A=[1,2,3,4,5,6]$ then the answer is 120, if\n",
        "we have $B=[-3,-4,3,5]$ then the answer is 60."
      ],
      "id": "9022750e-fb17-4e40-9b75-f5fc22b4330e"
    },
    {
      "cell_type": "raw",
      "metadata": {
        "raw_mimetype": "text/html"
      },
      "source": [
        "</p>"
      ],
      "id": "7ecbefc5-297c-4957-99d8-1d9f588c173d"
    },
    {
      "cell_type": "markdown",
      "metadata": {},
      "source": [
        "**Solution**\n",
        "\n",
        "`nlargest` and `nsmallest` are two functions from the `heapq` library\n",
        "that returns $n$ largest and $n$ smallest numbers in decreasing and\n",
        "increasing order, respectively. For example,"
      ],
      "id": "98383f95-12fe-444d-8567-ca3c337c80d6"
    },
    {
      "cell_type": "code",
      "execution_count": 8,
      "metadata": {},
      "outputs": [
        {
          "output_type": "stream",
          "name": "stdout",
          "text": [
            "For set [1, 2, 3, 4, 5, 6] \n",
            " largest 3 numbers [6, 5, 4] \n",
            " smallest 2 numbers [1, 2]\n",
            "\n",
            "\n",
            "For set [-3, -4, 3, 5] \n",
            " largest 3 numbers [5, 3, -3] \n",
            " smallest 2 numbers [-4, -3]"
          ]
        }
      ],
      "source": [
        "import heapq\n",
        "\n",
        "A = [1,2,3,4,5,6]\n",
        "B = [-3,-4,3,5]\n",
        "print('For set {} \\n largest 3 numbers {} \\n smallest 2 numbers'.format(A,heapq.nlargest(3,A)),heapq.nsmallest(2,A))\n",
        "print('\\n')\n",
        "print('For set {} \\n largest 3 numbers {} \\n smallest 2 numbers'.format(B,heapq.nlargest(3,B)),heapq.nsmallest(2,B))"
      ],
      "id": "50174ff6"
    },
    {
      "cell_type": "markdown",
      "metadata": {},
      "source": [
        "Now if all the elements are positive, then the maximum product of $k=3$\n",
        "elements would just be the product of the largest three element.\n",
        "However, if the set contains negative numbers like the one in the\n",
        "example, product of the smallest two negative numbers and the first\n",
        "element from the `nlargest` element that would be the largest."
      ],
      "id": "0fbf4f0e-8431-491b-8abb-617373fb27ce"
    },
    {
      "cell_type": "code",
      "execution_count": 9,
      "metadata": {},
      "outputs": [
        {
          "output_type": "stream",
          "name": "stdout",
          "text": [
            "Max product of 3 elements from set A=[1, 2, 3, 4, 5, 6] is 120\n",
            "Max product of 3 elements from set B=[-3, -4, 3, 5] is 60"
          ]
        }
      ],
      "source": [
        "k = 3\n",
        "\n",
        "def max_of_three_element_product(arr):\n",
        "    m = heapq.nlargest(k, arr)\n",
        "    n = heapq.nsmallest(k-1, arr)\n",
        "    return max(m[0]*m[1]*m[2], m[0]*n[0]*n[1])\n",
        "A = [1,2,3,4,5,6]\n",
        "B = [-3,-4,3,5]\n",
        "\n",
        "print('Max product of {} elements from set A={} is'.format(k,A), max_of_three_element_product(A))\n",
        "print('Max product of {} elements from set B={} is'.format(k,B), max_of_three_element_product(B))"
      ],
      "id": "302ca916"
    },
    {
      "cell_type": "markdown",
      "metadata": {},
      "source": [
        "### 3. Find the $k$ nearest points from a given point"
      ],
      "id": "e49bbc80-1baf-4583-98ac-d99613ffd92f"
    },
    {
      "cell_type": "code",
      "execution_count": 10,
      "metadata": {},
      "outputs": [
        {
          "output_type": "stream",
          "name": "stdout",
          "text": [
            "Time required: 0.000010 seconds\n",
            "[[-1, -1], [2, -1], [-2, 2]]"
          ]
        }
      ],
      "source": [
        "@time_required\n",
        "def knearest(points: list[list[int]], k: int) -> list[list[int]]:\n",
        "    dis = []\n",
        "    for x in points:\n",
        "        d = pow(pow(x[0],2)+pow(x[1],2),0.5)\n",
        "        dis.append((x,d))\n",
        "    dis.sort(key= lambda item: item[1])\n",
        "    return [x for x,_ in dis[:k]]\n",
        "pts = [[2,-1],[3,2],[4,1],[-1,-1],[-2,2]]\n",
        "k = 3\n",
        "print(knearest(pts,k))"
      ],
      "id": "6ae9a11d"
    },
    {
      "cell_type": "markdown",
      "metadata": {},
      "source": [
        "# <a href=\"../../posts/jobandintern/index.qmd\"\n",
        "style=\"text-decoration:none\">Internship and Full Time Job Preparation\n",
        "Review</a>\n",
        "\n",
        "**Share on**"
      ],
      "id": "9495713f-da7b-4f97-bec5-909abd6693d8"
    },
    {
      "cell_type": "raw",
      "metadata": {
        "raw_mimetype": "text/html"
      },
      "source": [
        "<script async defer crossorigin=\"anonymous\"\n",
        " src=\"https://connect.facebook.net/en_US/sdk.js#xfbml=1&version=v20.0\"></script>"
      ],
      "id": "d167510d-675e-4260-b78b-329dad90f362"
    },
    {
      "cell_type": "markdown",
      "metadata": {},
      "source": [
        "<a target=\"_blank\" \n",
        " href=\"https://www.facebook.com/sharer/sharer.php?u=https%3A%2F%2Fmrislambd.github.io%2Fposts%2Fdsa%2F&amp;src=sdkpreparse\" \n",
        " class=\"fb-xfbml-parse-ignore\">Share</a>\n",
        "\n",
        "<script src=\"https://platform.linkedin.com/in.js\" type=\"text/javascript\">lang: en_US</script>\n",
        "\n",
        "<script type=\"IN/Share\" data-url=\"https://mrislambd.github.io/posts/dsa/\"></script>\n",
        "\n",
        "<a href=\"https://twitter.com/share?ref_src=twsrc%5Etfw\" class=\"twitter-share-button\" \n",
        " data-url=\"https://mrislambd.github.io/posts/dsa/\" data-show-count=\"true\">Tweet</a>\n",
        "\n",
        "<script async src=\"https://platform.twitter.com/widgets.js\" charset=\"utf-8\"></script>\n",
        "\n",
        "**You may also like**"
      ],
      "id": "1e010ce8-c628-438d-af69-04334593c6d6"
    }
  ],
  "nbformat": 4,
  "nbformat_minor": 5,
  "metadata": {
    "kernelspec": {
      "name": "python3",
      "display_name": "Python 3 (ipykernel)",
      "language": "python",
      "path": "/opt/hostedtoolcache/Python/3.10.15/x64/share/jupyter/kernels/python3"
    },
    "language_info": {
      "name": "python",
      "codemirror_mode": {
        "name": "ipython",
        "version": "3"
      },
      "file_extension": ".py",
      "mimetype": "text/x-python",
      "nbconvert_exporter": "python",
      "pygments_lexer": "ipython3",
      "version": "3.10.15"
    }
  }
}