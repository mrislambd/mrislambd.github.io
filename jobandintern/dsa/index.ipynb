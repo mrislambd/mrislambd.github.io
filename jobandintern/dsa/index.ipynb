{
  "cells": [
    {
      "cell_type": "markdown",
      "metadata": {},
      "source": [
        "# Data Structure and Algorithms: Basic Programming Hacks\n",
        "\n",
        "Rafiq Islam  \n",
        "2024-09-11"
      ],
      "id": "a62ee2af-53b1-43cf-9a99-2150d11d8ad4"
    },
    {
      "cell_type": "raw",
      "metadata": {
        "raw_mimetype": "text/html"
      },
      "source": [
        "<p align=\"center\">"
      ],
      "id": "dbf01130-e39e-4ebf-8919-1b520886ab7a"
    },
    {
      "cell_type": "markdown",
      "metadata": {},
      "source": [
        "<img src=\"/_assets/images/uc.jpeg\" alt=\"Post under construction\" width=\"400\" height=\"400\"/>"
      ],
      "id": "d911c54b-2b8f-4c2f-ac28-3a74adadbb29"
    },
    {
      "cell_type": "raw",
      "metadata": {
        "raw_mimetype": "text/html"
      },
      "source": [
        "</p>"
      ],
      "id": "3bb62fe0-590e-4c57-a0ba-4948ec453251"
    },
    {
      "cell_type": "code",
      "execution_count": 1,
      "metadata": {},
      "outputs": [],
      "source": [
        "import time\n",
        "\n",
        "def time_required(func):\n",
        "    def wrapper(*args, **kwargs):\n",
        "        starting = time.perf_counter()\n",
        "        output = func(*args, **kwargs)\n",
        "        ending = time.perf_counter()\n",
        "        elapsed = ending - starting\n",
        "        print(f'Time required: {elapsed:.6f} seconds')\n",
        "        return output\n",
        "    return wrapper"
      ],
      "id": "608bc494"
    },
    {
      "cell_type": "markdown",
      "metadata": {},
      "source": [
        "## Linked List"
      ],
      "id": "8f111a97-0c77-4f5d-bda2-25adcaf69e2f"
    },
    {
      "cell_type": "code",
      "execution_count": 2,
      "metadata": {},
      "outputs": [],
      "source": [
        "class Node:\n",
        "    def __init__(self, value, next=None) -> None:\n",
        "        self.value = value\n",
        "        self.next = next\n",
        "\n",
        "def linklist(arr):\n",
        "    if not arr:\n",
        "        return None \n",
        "    head = Node(arr[0])\n",
        "    current = head \n",
        "    for value in arr[1:]:\n",
        "        current.next = Node(value)\n",
        "        current = current.next \n",
        "    return head \n",
        "\n",
        "def print_linklist(head):\n",
        "    current = head\n",
        "    print(\"[\", end=\"\")\n",
        "    while current:\n",
        "        print(current.value, end=\", \" if current.next else \"]\")\n",
        "        current = current.next\n",
        "    print()"
      ],
      "id": "e04c597d"
    },
    {
      "cell_type": "markdown",
      "metadata": {},
      "source": [
        "### 1. Reverse a linked list: Type I"
      ],
      "id": "1c86417c-b0e0-41a6-8713-a37dc5f6ed9b"
    },
    {
      "cell_type": "raw",
      "metadata": {
        "raw_mimetype": "text/html"
      },
      "source": [
        "<p align=\"center\">"
      ],
      "id": "7443db6c-2bf9-43c9-aa90-ee72587ee27d"
    },
    {
      "cell_type": "markdown",
      "metadata": {},
      "source": [
        "<img src=\"/jobandintern/dsa/ll1.png\" alt=\"Post under construction\" width=\"450\" height=\"350\"/>"
      ],
      "id": "8e858417-f0a3-4a35-9e38-7fc84b70a33d"
    },
    {
      "cell_type": "raw",
      "metadata": {
        "raw_mimetype": "text/html"
      },
      "source": [
        "</p>"
      ],
      "id": "95becb4e-6ccf-4b11-97ff-c4ecc16bafd7"
    },
    {
      "cell_type": "code",
      "execution_count": 3,
      "metadata": {},
      "outputs": [
        {
          "output_type": "stream",
          "name": "stdout",
          "text": [
            "Original List:\n",
            "[1, 2, 3, 4, 5]\n",
            "Reversed List\n",
            "[5, 4, 3, 2, 1]"
          ]
        }
      ],
      "source": [
        "def reverse(head):\n",
        "    prev = None \n",
        "    curr = head \n",
        "    while curr:\n",
        "        next = curr.next \n",
        "        curr.next = prev \n",
        "        prev = curr \n",
        "        curr = next \n",
        "    return prev \n",
        "\n",
        "h = linklist([1,2,3,4,5])\n",
        "print('Original List:')\n",
        "print_linklist(h)\n",
        "\n",
        "h_reversed = reverse(h)\n",
        "print('Reversed List')\n",
        "print_linklist(h_reversed)"
      ],
      "id": "1b76bc2f"
    },
    {
      "cell_type": "markdown",
      "metadata": {},
      "source": [
        "### 2. Reverse a linked list: Type II"
      ],
      "id": "7a71df9d-a203-4bdb-9f82-a55001a92cae"
    },
    {
      "cell_type": "code",
      "execution_count": 4,
      "metadata": {},
      "outputs": [
        {
          "output_type": "stream",
          "name": "stdout",
          "text": [
            "Original List:\n",
            "[1, 2, 3, 4, 5]\n",
            "Reversed List between 2 and 4\n",
            "[1, 4, 3, 2, 5]"
          ]
        }
      ],
      "source": [
        "def reverse_in_between(head, left, right):\n",
        "    dummy = Node(0, head)\n",
        "    leftPrev = dummy\n",
        "    curr = head \n",
        "\n",
        "    for _ in range(left-1):\n",
        "        leftPrev = curr \n",
        "        curr = curr.next \n",
        "    \n",
        "    prev = None \n",
        "    tail = curr \n",
        "\n",
        "    for _ in range(right - left + 1):\n",
        "        next = curr.next \n",
        "        curr.next  = prev \n",
        "        prev = curr \n",
        "        curr = next \n",
        "    \n",
        "    leftPrev.next = prev \n",
        "    tail.next = curr \n",
        "\n",
        "    return dummy.next if left != 1 else prev\n",
        "\n",
        "h = linklist([1,2,3,4,5])\n",
        "print('Original List:')\n",
        "print_linklist(h)  \n",
        "\n",
        "h_reversed = reverse_in_between(h,2,4)\n",
        "print('Reversed List between 2 and 4')\n",
        "print_linklist(h_reversed)"
      ],
      "id": "39dc70aa"
    },
    {
      "cell_type": "markdown",
      "metadata": {},
      "source": [
        "## Arrays, Lists, and Strings\n",
        "\n",
        "### 1. Intersection of two arrays\n",
        "\n",
        "Say you have two arrays. Write a function to get the intersection of the\n",
        "two. For example, if $A=[2,3,5,6,8]$ and $B=[4,6,8]$, then the function\n",
        "should return $[6,8]$\n",
        "\n",
        "**Brute Force**"
      ],
      "id": "2358f315-3dda-45e8-a245-5dc560274d95"
    },
    {
      "cell_type": "raw",
      "metadata": {
        "raw_mimetype": "text/html"
      },
      "source": [
        "<p style=\"text-align: justify\">"
      ],
      "id": "475c0d11-9f7a-463c-a798-ed18ad6d0ae3"
    },
    {
      "cell_type": "markdown",
      "metadata": {},
      "source": [
        "One way to solve this problem is using brute force solution, that is\n",
        "using two nested loops. But this method takes the time complexity of\n",
        "$O(n\\times m)$ given that the lenght of set A is $n$ and set B is $m$.\n",
        "And here is how it is:"
      ],
      "id": "cdc0c8f0-bf1e-4cf9-978a-b9de2dbd79d7"
    },
    {
      "cell_type": "raw",
      "metadata": {
        "raw_mimetype": "text/html"
      },
      "source": [
        "</p>"
      ],
      "id": "a9b64fc7-2dc1-4590-bcc8-bec318106d3d"
    },
    {
      "cell_type": "code",
      "execution_count": 5,
      "metadata": {},
      "outputs": [
        {
          "output_type": "stream",
          "name": "stdout",
          "text": [
            "Time required: 0.000004 seconds\n",
            "[6, 8]"
          ]
        }
      ],
      "source": [
        "@time_required\n",
        "def intersection_of_two_sets(A,B):\n",
        "    set_A = set(A)\n",
        "    set_B = set(B)\n",
        "    intersection = []\n",
        "    for a in set_A:\n",
        "        for b in set_B:\n",
        "            if a==b:\n",
        "                intersection.append(a)\n",
        "    return intersection\n",
        "A = [2,3,5,6,8]\n",
        "B = [4,6,8]\n",
        "print(intersection_of_two_sets(A,B))"
      ],
      "id": "c9e04add"
    },
    {
      "cell_type": "markdown",
      "metadata": {},
      "source": [
        "**Hash Map Approach:** In hash map approach, we can solve the same\n",
        "problem but in this case the time and space complexity is $O(n+m)$"
      ],
      "id": "8a1091cd-521e-4a49-bd3e-568c414eda1a"
    },
    {
      "cell_type": "code",
      "execution_count": 6,
      "metadata": {},
      "outputs": [
        {
          "output_type": "stream",
          "name": "stdout",
          "text": [
            "Time required: 0.000004 seconds\n",
            "[8, 6]"
          ]
        }
      ],
      "source": [
        "@time_required\n",
        "def intersection_of_two_sets(A,B):\n",
        "    set_A = set(A)\n",
        "    set_B = set(B)\n",
        "    if len(set_A) < len(set_B):\n",
        "        return [a for a in set_A if a in set_B]\n",
        "    return [b for b in set_B if b in set_A]\n",
        "\n",
        "A = [2,3,5,6,8]\n",
        "B = [4,6,8]\n",
        "print(intersection_of_two_sets(A,B))"
      ],
      "id": "c0992d15"
    },
    {
      "cell_type": "markdown",
      "metadata": {},
      "source": [
        "The reason we’re getting $[8,6]$ instead of $[6,8]$ is because sets in\n",
        "Python are unordered collections, meaning that when you convert the\n",
        "lists $A$ and $B$ to sets, the order of elements is not preserved. So,\n",
        "when we iterate over `set_A` or `set_A`, the order can change.\n",
        "\n",
        "**Better Approach:** If we want to maintain the order of the elements in\n",
        "the original list $A$ or $B$, we can iterate over the original list\n",
        "directly rather than converting it to a set. Here’s how:"
      ],
      "id": "64bdad0c-73bf-4a9e-a21f-b7cc3ac15eb2"
    },
    {
      "cell_type": "code",
      "execution_count": 7,
      "metadata": {},
      "outputs": [
        {
          "output_type": "stream",
          "name": "stdout",
          "text": [
            "Time required: 0.000002 seconds\n",
            "[6, 8]"
          ]
        }
      ],
      "source": [
        "@time_required\n",
        "def intersection_of_two_sets(A, B):\n",
        "    set_B = set(B)  \n",
        "    return [a for a in A if a in set_B]\n",
        "\n",
        "A = [2, 3, 5, 6, 8]\n",
        "B = [4, 6, 8]\n",
        "print(intersection_of_two_sets(A, B))"
      ],
      "id": "9be0432e"
    },
    {
      "cell_type": "markdown",
      "metadata": {},
      "source": [
        "### 2. Max product of $k$ elements from an array of $n$ elements"
      ],
      "id": "fa5e9ea5-53ad-4d69-844e-7787968c8764"
    },
    {
      "cell_type": "raw",
      "metadata": {
        "raw_mimetype": "text/html"
      },
      "source": [
        "<p style=\"text-align:justify\">"
      ],
      "id": "536fb66a-d2a1-4118-86a8-5afa900e7634"
    },
    {
      "cell_type": "markdown",
      "metadata": {},
      "source": [
        "Say we have an array of size $n$. We want to find the maximum of the\n",
        "products of $k$ elements from the array where $k < n$. For example, if\n",
        "we set $k=3$ and if we have $A=[1,2,3,4,5,6]$ then the answer is 120, if\n",
        "we have $B=[-3,-4,3,5]$ then the answer is 60."
      ],
      "id": "2718bd9f-76a6-4bd3-8869-adf1161689a7"
    },
    {
      "cell_type": "raw",
      "metadata": {
        "raw_mimetype": "text/html"
      },
      "source": [
        "</p>"
      ],
      "id": "fa5228bb-f10d-4bdb-acc7-2dcbf4830629"
    },
    {
      "cell_type": "markdown",
      "metadata": {},
      "source": [
        "**Solution**\n",
        "\n",
        "`nlargest` and `nsmallest` are two functions from the `heapq` library\n",
        "that returns $n$ largest and $n$ smallest numbers in decreasing and\n",
        "increasing order, respectively. For example,"
      ],
      "id": "2f7f18a1-b5e9-4002-b63a-6d3371c377d5"
    },
    {
      "cell_type": "code",
      "execution_count": 8,
      "metadata": {},
      "outputs": [
        {
          "output_type": "stream",
          "name": "stdout",
          "text": [
            "For set [1, 2, 3, 4, 5, 6] \n",
            " largest 3 numbers [6, 5, 4] \n",
            " smallest 2 numbers [1, 2]\n",
            "\n",
            "\n",
            "For set [-3, -4, 3, 5] \n",
            " largest 3 numbers [5, 3, -3] \n",
            " smallest 2 numbers [-4, -3]"
          ]
        }
      ],
      "source": [
        "import heapq\n",
        "\n",
        "A = [1,2,3,4,5,6]\n",
        "B = [-3,-4,3,5]\n",
        "print('For set {} \\n largest 3 numbers {} \\n smallest 2 numbers'.format(A,heapq.nlargest(3,A)),heapq.nsmallest(2,A))\n",
        "print('\\n')\n",
        "print('For set {} \\n largest 3 numbers {} \\n smallest 2 numbers'.format(B,heapq.nlargest(3,B)),heapq.nsmallest(2,B))"
      ],
      "id": "1b6c67a2"
    },
    {
      "cell_type": "markdown",
      "metadata": {},
      "source": [
        "Now if all the elements are positive, then the maximum product of $k=3$\n",
        "elements would just be the product of the largest three element.\n",
        "However, if the set contains negative numbers like the one in the\n",
        "example, product of the smallest two negative numbers and the first\n",
        "element from the `nlargest` element that would be the largest."
      ],
      "id": "897f1a2c-2def-47fd-b4cd-7afb650d682c"
    },
    {
      "cell_type": "code",
      "execution_count": 9,
      "metadata": {},
      "outputs": [
        {
          "output_type": "stream",
          "name": "stdout",
          "text": [
            "Max product of 3 elements from set A=[1, 2, 3, 4, 5, 6] is 120\n",
            "Max product of 3 elements from set B=[-3, -4, 3, 5] is 60"
          ]
        }
      ],
      "source": [
        "k = 3\n",
        "\n",
        "def max_of_three_element_product(arr):\n",
        "    m = heapq.nlargest(k, arr)\n",
        "    n = heapq.nsmallest(k-1, arr)\n",
        "    return max(m[0]*m[1]*m[2], m[0]*n[0]*n[1])\n",
        "A = [1,2,3,4,5,6]\n",
        "B = [-3,-4,3,5]\n",
        "\n",
        "print('Max product of {} elements from set A={} is'.format(k,A), max_of_three_element_product(A))\n",
        "print('Max product of {} elements from set B={} is'.format(k,B), max_of_three_element_product(B))"
      ],
      "id": "aef1cc25"
    },
    {
      "cell_type": "markdown",
      "metadata": {},
      "source": [
        "### 3. Find the $k$ nearest points from a given point"
      ],
      "id": "1c056cd6-35c1-4445-94e6-223089c319d7"
    },
    {
      "cell_type": "code",
      "execution_count": 10,
      "metadata": {},
      "outputs": [
        {
          "output_type": "stream",
          "name": "stdout",
          "text": [
            "Time required: 0.000010 seconds\n",
            "[[-1, -1], [2, -1], [-2, 2]]"
          ]
        }
      ],
      "source": [
        "@time_required\n",
        "def knearest(points: list[list[int]], k: int) -> list[list[int]]:\n",
        "    dis = []\n",
        "    for x in points:\n",
        "        d = pow(pow(x[0],2)+pow(x[1],2),0.5)\n",
        "        dis.append((x,d))\n",
        "    dis.sort(key= lambda item: item[1])\n",
        "    return [x for x,_ in dis[:k]]\n",
        "pts = [[2,-1],[3,2],[4,1],[-1,-1],[-2,2]]\n",
        "k = 3\n",
        "print(knearest(pts,k))"
      ],
      "id": "c6c61e0b"
    },
    {
      "cell_type": "markdown",
      "metadata": {},
      "source": [
        "# <a href=\"../../posts/jobandintern/index.qmd\"\n",
        "style=\"text-decoration:none\">Internship and Full Time Job Preparation\n",
        "Review</a>\n",
        "\n",
        "**Share on**"
      ],
      "id": "3d3a6537-11f9-4735-bf81-245a48f510cb"
    },
    {
      "cell_type": "raw",
      "metadata": {
        "raw_mimetype": "text/html"
      },
      "source": [
        "<script async defer crossorigin=\"anonymous\"\n",
        " src=\"https://connect.facebook.net/en_US/sdk.js#xfbml=1&version=v20.0\"></script>"
      ],
      "id": "d0ccf45b-741f-4383-bc1b-df0ededdd785"
    },
    {
      "cell_type": "markdown",
      "metadata": {},
      "source": [
        "<a target=\"_blank\" \n",
        " href=\"https://www.facebook.com/sharer/sharer.php?u=https%3A%2F%2Fmrislambd.github.io%2Fposts%2Fdsa%2F&amp;src=sdkpreparse\" \n",
        " class=\"fb-xfbml-parse-ignore\">Share</a>\n",
        "\n",
        "<script src=\"https://platform.linkedin.com/in.js\" type=\"text/javascript\">lang: en_US</script>\n",
        "\n",
        "<script type=\"IN/Share\" data-url=\"https://mrislambd.github.io/posts/dsa/\"></script>\n",
        "\n",
        "<a href=\"https://twitter.com/share?ref_src=twsrc%5Etfw\" class=\"twitter-share-button\" \n",
        " data-url=\"https://mrislambd.github.io/posts/dsa/\" data-show-count=\"true\">Tweet</a>\n",
        "\n",
        "<script async src=\"https://platform.twitter.com/widgets.js\" charset=\"utf-8\"></script>\n",
        "\n",
        "**You may also like**"
      ],
      "id": "49753054-5c60-42b1-ad71-00ef70a13380"
    }
  ],
  "nbformat": 4,
  "nbformat_minor": 5,
  "metadata": {
    "kernelspec": {
      "name": "python3",
      "display_name": "Python 3 (ipykernel)",
      "language": "python",
      "path": "/opt/hostedtoolcache/Python/3.10.15/x64/share/jupyter/kernels/python3"
    },
    "language_info": {
      "name": "python",
      "codemirror_mode": {
        "name": "ipython",
        "version": "3"
      },
      "file_extension": ".py",
      "mimetype": "text/x-python",
      "nbconvert_exporter": "python",
      "pygments_lexer": "ipython3",
      "version": "3.10.15"
    }
  }
}